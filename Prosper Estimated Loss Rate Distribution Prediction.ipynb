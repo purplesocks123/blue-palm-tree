{
 "cells": [
  {
   "cell_type": "markdown",
   "metadata": {},
   "source": [
    "**Author: Fiona Jiaqi Wu** "
   ]
  },
  {
   "cell_type": "code",
   "execution_count": 1,
   "metadata": {},
   "outputs": [],
   "source": [
    "import numpy as np\n",
    "import pandas as pd\n",
    "import matplotlib.pyplot as plt"
   ]
  },
  {
   "cell_type": "code",
   "execution_count": 2,
   "metadata": {},
   "outputs": [],
   "source": [
    "import warnings\n",
    "warnings.simplefilter(action='ignore', category=FutureWarning)\n",
    "pd.set_option('display.max_columns', None)\n",
    "pd.set_option('display.max_rows', None)"
   ]
  },
  {
   "cell_type": "markdown",
   "metadata": {},
   "source": [
    "### Import Datasets"
   ]
  },
  {
   "cell_type": "code",
   "execution_count": 3,
   "metadata": {},
   "outputs": [],
   "source": [
    "df1 = pd.read_csv('/Users/Fiona/Desktop/Prosper/2019.csv')"
   ]
  },
  {
   "cell_type": "code",
   "execution_count": 4,
   "metadata": {},
   "outputs": [
    {
     "data": {
      "text/plain": [
       "(189941, 370)"
      ]
     },
     "execution_count": 4,
     "metadata": {},
     "output_type": "execute_result"
    }
   ],
   "source": [
    "df1.shape"
   ]
  },
  {
   "cell_type": "code",
   "execution_count": 5,
   "metadata": {},
   "outputs": [],
   "source": [
    "df2 = pd.read_csv('/Users/Fiona/Desktop/Prosper/2020.csv')"
   ]
  },
  {
   "cell_type": "code",
   "execution_count": 6,
   "metadata": {},
   "outputs": [
    {
     "data": {
      "text/plain": [
       "(83747, 377)"
      ]
     },
     "execution_count": 6,
     "metadata": {},
     "output_type": "execute_result"
    }
   ],
   "source": [
    "df2.shape"
   ]
  },
  {
   "cell_type": "code",
   "execution_count": 7,
   "metadata": {},
   "outputs": [],
   "source": [
    "df3 = pd.read_csv('/Users/Fiona/Desktop/Prosper/2018.csv')"
   ]
  },
  {
   "cell_type": "code",
   "execution_count": 8,
   "metadata": {
    "scrolled": false
   },
   "outputs": [],
   "source": [
    "df1['listing_start_date'] = pd.to_datetime(df1['listing_start_date'])\n",
    "df1['listing_end_date'] = pd.to_datetime(df1['listing_end_date'])\n",
    "df1['listing_creation_date'] = pd.to_datetime(df1['listing_creation_date'])\n",
    "df2['listing_start_date'] = pd.to_datetime(df2['listing_start_date'])\n",
    "df2['listing_end_date'] = pd.to_datetime(df2['listing_end_date'])\n",
    "df2['listing_creation_date'] = pd.to_datetime(df2['listing_creation_date'])\n",
    "df3['listing_start_date'] = pd.to_datetime(df3['listing_start_date'])\n",
    "df3['listing_end_date'] = pd.to_datetime(df3['listing_end_date'])\n",
    "df3['listing_creation_date'] = pd.to_datetime(df3['listing_creation_date'])"
   ]
  },
  {
   "cell_type": "markdown",
   "metadata": {},
   "source": [
    "### Combine datasets (2018, 2019, 2020)"
   ]
  },
  {
   "cell_type": "code",
   "execution_count": 9,
   "metadata": {},
   "outputs": [],
   "source": [
    "df1 = df1[df1.columns & df2.columns & df3.columns]\n",
    "df2 = df2[df1.columns & df2.columns & df3.columns]\n",
    "df3 = df3[df1.columns & df2.columns & df3.columns]"
   ]
  },
  {
   "cell_type": "code",
   "execution_count": 10,
   "metadata": {},
   "outputs": [
    {
     "name": "stdout",
     "output_type": "stream",
     "text": [
      "(189941, 368)\n",
      "(83747, 368)\n",
      "(227524, 368)\n",
      "501212\n"
     ]
    }
   ],
   "source": [
    "print(df1.shape)\n",
    "print(df2.shape)\n",
    "print(df3.shape)\n",
    "print(df1.shape[0] + df2.shape[0] + df3.shape[0])"
   ]
  },
  {
   "cell_type": "code",
   "execution_count": 11,
   "metadata": {},
   "outputs": [],
   "source": [
    "combined = pd.concat([df1, df2, df3], ignore_index=True)"
   ]
  },
  {
   "cell_type": "code",
   "execution_count": 12,
   "metadata": {},
   "outputs": [
    {
     "data": {
      "text/plain": [
       "(501212, 368)"
      ]
     },
     "execution_count": 12,
     "metadata": {},
     "output_type": "execute_result"
    }
   ],
   "source": [
    "combined.shape"
   ]
  },
  {
   "cell_type": "code",
   "execution_count": 13,
   "metadata": {},
   "outputs": [
    {
     "data": {
      "text/html": [
       "<div>\n",
       "<style scoped>\n",
       "    .dataframe tbody tr th:only-of-type {\n",
       "        vertical-align: middle;\n",
       "    }\n",
       "\n",
       "    .dataframe tbody tr th {\n",
       "        vertical-align: top;\n",
       "    }\n",
       "\n",
       "    .dataframe thead th {\n",
       "        text-align: right;\n",
       "    }\n",
       "</style>\n",
       "<table border=\"1\" class=\"dataframe\">\n",
       "  <thead>\n",
       "    <tr style=\"text-align: right;\">\n",
       "      <th></th>\n",
       "      <th>member_key</th>\n",
       "      <th>listing_number</th>\n",
       "      <th>listing_start_date</th>\n",
       "      <th>listing_end_date</th>\n",
       "      <th>listing_creation_date</th>\n",
       "      <th>listing_status</th>\n",
       "      <th>listing_status_reason</th>\n",
       "      <th>listing_amount</th>\n",
       "      <th>amount_funded</th>\n",
       "      <th>amount_remaining</th>\n",
       "      <th>percent_funded</th>\n",
       "      <th>partial_funding_indicator</th>\n",
       "      <th>funding_threshold</th>\n",
       "      <th>prosper_rating</th>\n",
       "      <th>estimated_return</th>\n",
       "      <th>estimated_loss_rate</th>\n",
       "      <th>lender_yield</th>\n",
       "      <th>effective_yield</th>\n",
       "      <th>borrower_rate</th>\n",
       "      <th>borrower_apr</th>\n",
       "      <th>listing_term</th>\n",
       "      <th>listing_monthly_payment</th>\n",
       "      <th>prosper_score</th>\n",
       "      <th>listing_category_id</th>\n",
       "      <th>income_range</th>\n",
       "      <th>income_range_description</th>\n",
       "      <th>stated_monthly_income</th>\n",
       "      <th>employment_status_description</th>\n",
       "      <th>occupation</th>\n",
       "      <th>months_employed</th>\n",
       "      <th>prior_prosper_loans_active</th>\n",
       "      <th>prior_prosper_loans</th>\n",
       "      <th>prior_prosper_loans_principal_borrowed</th>\n",
       "      <th>prior_prosper_loans_principal_outstanding</th>\n",
       "      <th>prior_prosper_loans_cycles_billed</th>\n",
       "      <th>prior_prosper_loans_ontime_payments</th>\n",
       "      <th>prior_prosper_loans_late_cycles</th>\n",
       "      <th>prior_prosper_loans_late_payments_one_month_plus</th>\n",
       "      <th>max_prior_prosper_loan</th>\n",
       "      <th>min_prior_prosper_loan</th>\n",
       "      <th>lender_indicator</th>\n",
       "      <th>group_indicator</th>\n",
       "      <th>channel_code</th>\n",
       "      <th>investment_typeid</th>\n",
       "      <th>investment_type_description</th>\n",
       "      <th>AT01S</th>\n",
       "      <th>AT02S</th>\n",
       "      <th>AT03S</th>\n",
       "      <th>AT06S</th>\n",
       "      <th>AT09S</th>\n",
       "      <th>AT12S</th>\n",
       "      <th>AT20S</th>\n",
       "      <th>AT21S</th>\n",
       "      <th>AT24S</th>\n",
       "      <th>AT25S</th>\n",
       "      <th>AT27S</th>\n",
       "      <th>AT28A</th>\n",
       "      <th>AT28B</th>\n",
       "      <th>AT29S</th>\n",
       "      <th>AT32S</th>\n",
       "      <th>AT34A</th>\n",
       "      <th>AT34B</th>\n",
       "      <th>AT35A</th>\n",
       "      <th>AT35B</th>\n",
       "      <th>AT36S</th>\n",
       "      <th>AT57S</th>\n",
       "      <th>AT101S</th>\n",
       "      <th>AT101B</th>\n",
       "      <th>AU01S</th>\n",
       "      <th>AU02S</th>\n",
       "      <th>AU03S</th>\n",
       "      <th>AU06S</th>\n",
       "      <th>AU09S</th>\n",
       "      <th>AU12S</th>\n",
       "      <th>AU20S</th>\n",
       "      <th>AU21S</th>\n",
       "      <th>AU24S</th>\n",
       "      <th>AU25S</th>\n",
       "      <th>AU27S</th>\n",
       "      <th>AU28S</th>\n",
       "      <th>AU29S</th>\n",
       "      <th>AU32S</th>\n",
       "      <th>AU34S</th>\n",
       "      <th>AU35S</th>\n",
       "      <th>AU36S</th>\n",
       "      <th>AU57S</th>\n",
       "      <th>AU101S</th>\n",
       "      <th>BC01S</th>\n",
       "      <th>BC02S</th>\n",
       "      <th>BC03S</th>\n",
       "      <th>BC06S</th>\n",
       "      <th>BC09S</th>\n",
       "      <th>BC12S</th>\n",
       "      <th>BC20S</th>\n",
       "      <th>BC21S</th>\n",
       "      <th>BC24S</th>\n",
       "      <th>BC25S</th>\n",
       "      <th>BC27S</th>\n",
       "      <th>BC28S</th>\n",
       "      <th>BC29S</th>\n",
       "      <th>BC32S</th>\n",
       "      <th>BC34S</th>\n",
       "      <th>BC35S</th>\n",
       "      <th>BC36S</th>\n",
       "      <th>BC57S</th>\n",
       "      <th>BC101S</th>\n",
       "      <th>BC102S</th>\n",
       "      <th>BC103S</th>\n",
       "      <th>BC106S</th>\n",
       "      <th>BC107S</th>\n",
       "      <th>BC108S</th>\n",
       "      <th>BC110S</th>\n",
       "      <th>CO01S</th>\n",
       "      <th>CO02S</th>\n",
       "      <th>CO03S</th>\n",
       "      <th>CO04S</th>\n",
       "      <th>CO05S</th>\n",
       "      <th>CO06S</th>\n",
       "      <th>CO07S</th>\n",
       "      <th>G001B</th>\n",
       "      <th>G002B</th>\n",
       "      <th>G003S</th>\n",
       "      <th>G020S</th>\n",
       "      <th>G041S</th>\n",
       "      <th>G042S</th>\n",
       "      <th>G043S</th>\n",
       "      <th>G051S</th>\n",
       "      <th>G057S</th>\n",
       "      <th>G058S</th>\n",
       "      <th>G059S</th>\n",
       "      <th>G061S</th>\n",
       "      <th>G063S</th>\n",
       "      <th>G064S</th>\n",
       "      <th>G066S</th>\n",
       "      <th>G068S</th>\n",
       "      <th>G069S</th>\n",
       "      <th>G071S</th>\n",
       "      <th>G093S</th>\n",
       "      <th>G094S</th>\n",
       "      <th>G095S</th>\n",
       "      <th>G099S</th>\n",
       "      <th>G100S</th>\n",
       "      <th>G102S</th>\n",
       "      <th>G103S</th>\n",
       "      <th>G104S</th>\n",
       "      <th>G105S</th>\n",
       "      <th>G209S</th>\n",
       "      <th>G210S</th>\n",
       "      <th>G211S</th>\n",
       "      <th>G212S</th>\n",
       "      <th>G217S</th>\n",
       "      <th>G218B</th>\n",
       "      <th>G218D</th>\n",
       "      <th>G219B</th>\n",
       "      <th>G219D</th>\n",
       "      <th>G220B</th>\n",
       "      <th>G220D</th>\n",
       "      <th>G221B</th>\n",
       "      <th>G221D</th>\n",
       "      <th>G222S</th>\n",
       "      <th>G223S</th>\n",
       "      <th>G225S</th>\n",
       "      <th>G226S</th>\n",
       "      <th>G227S</th>\n",
       "      <th>G228S</th>\n",
       "      <th>G230S</th>\n",
       "      <th>G231S</th>\n",
       "      <th>G232S</th>\n",
       "      <th>G233S</th>\n",
       "      <th>G234S</th>\n",
       "      <th>G235S</th>\n",
       "      <th>G236S</th>\n",
       "      <th>G237S</th>\n",
       "      <th>G238S</th>\n",
       "      <th>G239S</th>\n",
       "      <th>G240S</th>\n",
       "      <th>G241S</th>\n",
       "      <th>G960S</th>\n",
       "      <th>G980S</th>\n",
       "      <th>G990S</th>\n",
       "      <th>HI01S</th>\n",
       "      <th>HI02S</th>\n",
       "      <th>HI03S</th>\n",
       "      <th>HI06S</th>\n",
       "      <th>HI09S</th>\n",
       "      <th>HI12S</th>\n",
       "      <th>HI20S</th>\n",
       "      <th>HI21S</th>\n",
       "      <th>HI24S</th>\n",
       "      <th>HI25S</th>\n",
       "      <th>HI27S</th>\n",
       "      <th>HI28S</th>\n",
       "      <th>HI29S</th>\n",
       "      <th>HI32S</th>\n",
       "      <th>HI34S</th>\n",
       "      <th>HI35S</th>\n",
       "      <th>HI36S</th>\n",
       "      <th>HI57S</th>\n",
       "      <th>HI101S</th>\n",
       "      <th>HR01S</th>\n",
       "      <th>HR02S</th>\n",
       "      <th>HR03S</th>\n",
       "      <th>HR06S</th>\n",
       "      <th>HR09S</th>\n",
       "      <th>HR12S</th>\n",
       "      <th>HR20S</th>\n",
       "      <th>HR21S</th>\n",
       "      <th>HR24S</th>\n",
       "      <th>HR25S</th>\n",
       "      <th>HR27S</th>\n",
       "      <th>HR28S</th>\n",
       "      <th>HR29S</th>\n",
       "      <th>HR32S</th>\n",
       "      <th>HR34S</th>\n",
       "      <th>HR35S</th>\n",
       "      <th>HR36S</th>\n",
       "      <th>HR57S</th>\n",
       "      <th>HR101S</th>\n",
       "      <th>IN01S</th>\n",
       "      <th>IN02S</th>\n",
       "      <th>IN03S</th>\n",
       "      <th>IN06S</th>\n",
       "      <th>IN09S</th>\n",
       "      <th>IN12S</th>\n",
       "      <th>IN20S</th>\n",
       "      <th>IN21S</th>\n",
       "      <th>IN24S</th>\n",
       "      <th>IN25S</th>\n",
       "      <th>IN27S</th>\n",
       "      <th>IN28S</th>\n",
       "      <th>IN29S</th>\n",
       "      <th>IN32S</th>\n",
       "      <th>IN34S</th>\n",
       "      <th>IN35S</th>\n",
       "      <th>IN36S</th>\n",
       "      <th>IN57S</th>\n",
       "      <th>IN101S</th>\n",
       "      <th>MT01S</th>\n",
       "      <th>MT02S</th>\n",
       "      <th>MT03S</th>\n",
       "      <th>MT06S</th>\n",
       "      <th>MT09S</th>\n",
       "      <th>MT12S</th>\n",
       "      <th>MT20S</th>\n",
       "      <th>MT21S</th>\n",
       "      <th>MT24S</th>\n",
       "      <th>MT25S</th>\n",
       "      <th>MT27S</th>\n",
       "      <th>MT28S</th>\n",
       "      <th>MT29S</th>\n",
       "      <th>MT32S</th>\n",
       "      <th>MT34S</th>\n",
       "      <th>MT34B</th>\n",
       "      <th>MT34C</th>\n",
       "      <th>MT35S</th>\n",
       "      <th>MT36S</th>\n",
       "      <th>MT47S</th>\n",
       "      <th>MT57S</th>\n",
       "      <th>MT101S</th>\n",
       "      <th>OF01S</th>\n",
       "      <th>RE01S</th>\n",
       "      <th>RE02S</th>\n",
       "      <th>RE03S</th>\n",
       "      <th>RE06S</th>\n",
       "      <th>RE09S</th>\n",
       "      <th>RE12S</th>\n",
       "      <th>RE20S</th>\n",
       "      <th>RE21S</th>\n",
       "      <th>RE24S</th>\n",
       "      <th>RE25S</th>\n",
       "      <th>RE27S</th>\n",
       "      <th>RE28S</th>\n",
       "      <th>RE29S</th>\n",
       "      <th>RE32S</th>\n",
       "      <th>RE33S</th>\n",
       "      <th>RE34S</th>\n",
       "      <th>RE35S</th>\n",
       "      <th>RE36S</th>\n",
       "      <th>RE57S</th>\n",
       "      <th>RE101S</th>\n",
       "      <th>RE102S</th>\n",
       "      <th>RT01S</th>\n",
       "      <th>RT02S</th>\n",
       "      <th>RT03S</th>\n",
       "      <th>RT06S</th>\n",
       "      <th>RT09S</th>\n",
       "      <th>RT12S</th>\n",
       "      <th>RT20S</th>\n",
       "      <th>RT21S</th>\n",
       "      <th>RT24S</th>\n",
       "      <th>RT25S</th>\n",
       "      <th>RT27S</th>\n",
       "      <th>RT28S</th>\n",
       "      <th>RT29S</th>\n",
       "      <th>RT32S</th>\n",
       "      <th>RT34S</th>\n",
       "      <th>RT35S</th>\n",
       "      <th>RT36S</th>\n",
       "      <th>RT57S</th>\n",
       "      <th>RT101S</th>\n",
       "      <th>RT201S</th>\n",
       "      <th>S004S</th>\n",
       "      <th>S061S</th>\n",
       "      <th>S062S</th>\n",
       "      <th>S064A</th>\n",
       "      <th>S068A</th>\n",
       "      <th>S071A</th>\n",
       "      <th>ST01S</th>\n",
       "      <th>ST02S</th>\n",
       "      <th>ST03S</th>\n",
       "      <th>ST06S</th>\n",
       "      <th>ST09S</th>\n",
       "      <th>ST12S</th>\n",
       "      <th>ST20S</th>\n",
       "      <th>ST21S</th>\n",
       "      <th>ST24S</th>\n",
       "      <th>ST25S</th>\n",
       "      <th>ST27S</th>\n",
       "      <th>ST28S</th>\n",
       "      <th>ST29S</th>\n",
       "      <th>ST32S</th>\n",
       "      <th>ST34S</th>\n",
       "      <th>ST35S</th>\n",
       "      <th>ST36S</th>\n",
       "      <th>ST45S</th>\n",
       "      <th>ST50S</th>\n",
       "      <th>ST57S</th>\n",
       "      <th>ST99S</th>\n",
       "      <th>ST101S</th>\n",
       "      <th>ATAP01</th>\n",
       "      <th>HIAP01</th>\n",
       "      <th>HRAP01</th>\n",
       "      <th>INAP01</th>\n",
       "      <th>MTAP01</th>\n",
       "      <th>REAP01</th>\n",
       "      <th>S063S</th>\n",
       "      <th>S063A</th>\n",
       "      <th>S207S</th>\n",
       "      <th>S207A</th>\n",
       "      <th>G106S</th>\n",
       "      <th>G099A</th>\n",
       "      <th>S206S</th>\n",
       "      <th>S209S</th>\n",
       "      <th>S204S</th>\n",
       "      <th>G242S</th>\n",
       "      <th>G243S</th>\n",
       "      <th>G244S</th>\n",
       "      <th>CV01</th>\n",
       "      <th>CV04</th>\n",
       "      <th>CV10</th>\n",
       "      <th>CV11</th>\n",
       "      <th>CV12</th>\n",
       "      <th>CV13</th>\n",
       "      <th>CV14</th>\n",
       "      <th>CV15</th>\n",
       "      <th>CV16</th>\n",
       "      <th>CV17</th>\n",
       "      <th>CV18</th>\n",
       "      <th>CV19</th>\n",
       "      <th>CV20</th>\n",
       "      <th>CV21</th>\n",
       "      <th>CV22</th>\n",
       "      <th>CV23</th>\n",
       "      <th>CV24</th>\n",
       "      <th>TUFicoRange</th>\n",
       "      <th>TUFicoDate</th>\n",
       "      <th>dti_wprosper_loan</th>\n",
       "      <th>CoBorrowerApplication</th>\n",
       "    </tr>\n",
       "  </thead>\n",
       "  <tbody>\n",
       "    <tr>\n",
       "      <td>0</td>\n",
       "      <td>C20537292024540481062ED</td>\n",
       "      <td>10712027</td>\n",
       "      <td>2020-01-14</td>\n",
       "      <td>2020-01-14</td>\n",
       "      <td>2019-12-14</td>\n",
       "      <td>6</td>\n",
       "      <td>Completed</td>\n",
       "      <td>27000.0</td>\n",
       "      <td>27000.0</td>\n",
       "      <td>0.0</td>\n",
       "      <td>1.0</td>\n",
       "      <td>False</td>\n",
       "      <td>1.0</td>\n",
       "      <td>B</td>\n",
       "      <td>0.0664</td>\n",
       "      <td>0.0494</td>\n",
       "      <td>0.1174</td>\n",
       "      <td>0.1158</td>\n",
       "      <td>0.1274</td>\n",
       "      <td>0.1636</td>\n",
       "      <td>36</td>\n",
       "      <td>906.36</td>\n",
       "      <td>9.0</td>\n",
       "      <td>1</td>\n",
       "      <td>4</td>\n",
       "      <td>$50,000-74,999</td>\n",
       "      <td>5560.0000</td>\n",
       "      <td>Employed</td>\n",
       "      <td>Civil Service</td>\n",
       "      <td>120.0</td>\n",
       "      <td>0</td>\n",
       "      <td>2</td>\n",
       "      <td>18000.0</td>\n",
       "      <td>0.00</td>\n",
       "      <td>3.0</td>\n",
       "      <td>3.0</td>\n",
       "      <td>0.0</td>\n",
       "      <td>0.0</td>\n",
       "      <td>15000.0</td>\n",
       "      <td>3000.0</td>\n",
       "      <td>0</td>\n",
       "      <td>False</td>\n",
       "      <td>80000</td>\n",
       "      <td>3</td>\n",
       "      <td>Whole</td>\n",
       "      <td>29.0</td>\n",
       "      <td>10.0</td>\n",
       "      <td>10.0</td>\n",
       "      <td>1.0</td>\n",
       "      <td>2.0</td>\n",
       "      <td>10.0</td>\n",
       "      <td>209.0</td>\n",
       "      <td>6.0</td>\n",
       "      <td>10.0</td>\n",
       "      <td>9.0</td>\n",
       "      <td>8.0</td>\n",
       "      <td>208750.0</td>\n",
       "      <td>42500.0</td>\n",
       "      <td>9.0</td>\n",
       "      <td>83232.0</td>\n",
       "      <td>60.0</td>\n",
       "      <td>63.0</td>\n",
       "      <td>12421.0</td>\n",
       "      <td>3327.0</td>\n",
       "      <td>71.0</td>\n",
       "      <td>0.0</td>\n",
       "      <td>124207.0</td>\n",
       "      <td>26619.0</td>\n",
       "      <td>0.0</td>\n",
       "      <td>-1.0</td>\n",
       "      <td>-1.0</td>\n",
       "      <td>-1.0</td>\n",
       "      <td>-1.0</td>\n",
       "      <td>-1.0</td>\n",
       "      <td>-1.0</td>\n",
       "      <td>-1.0</td>\n",
       "      <td>-1.0</td>\n",
       "      <td>-1.0</td>\n",
       "      <td>-1.0</td>\n",
       "      <td>-1.0</td>\n",
       "      <td>-1.0</td>\n",
       "      <td>-1.0</td>\n",
       "      <td>-1.0</td>\n",
       "      <td>-1.0</td>\n",
       "      <td>-1.0</td>\n",
       "      <td>-1.0</td>\n",
       "      <td>-1.0</td>\n",
       "      <td>7.0</td>\n",
       "      <td>3.0</td>\n",
       "      <td>3.0</td>\n",
       "      <td>0.0</td>\n",
       "      <td>0.0</td>\n",
       "      <td>3.0</td>\n",
       "      <td>209.0</td>\n",
       "      <td>30.0</td>\n",
       "      <td>3.0</td>\n",
       "      <td>3.0</td>\n",
       "      <td>3.0</td>\n",
       "      <td>17900.0</td>\n",
       "      <td>3.0</td>\n",
       "      <td>7269.0</td>\n",
       "      <td>96.0</td>\n",
       "      <td>5732.0</td>\n",
       "      <td>71.0</td>\n",
       "      <td>0.0</td>\n",
       "      <td>17197.0</td>\n",
       "      <td>5967.0</td>\n",
       "      <td>5732.0</td>\n",
       "      <td>0.0</td>\n",
       "      <td>3.0</td>\n",
       "      <td>0.0</td>\n",
       "      <td>0.0</td>\n",
       "      <td>0.0</td>\n",
       "      <td>-1.0</td>\n",
       "      <td>-1.0</td>\n",
       "      <td>-1.0</td>\n",
       "      <td>-1.0</td>\n",
       "      <td>-1.0</td>\n",
       "      <td>-1.0</td>\n",
       "      <td>0.0</td>\n",
       "      <td>0.0</td>\n",
       "      <td>0.0</td>\n",
       "      <td>12.0</td>\n",
       "      <td>1.0</td>\n",
       "      <td>0.0</td>\n",
       "      <td>0.0</td>\n",
       "      <td>3.0</td>\n",
       "      <td>0.0</td>\n",
       "      <td>0.0</td>\n",
       "      <td>0.0</td>\n",
       "      <td>0.0</td>\n",
       "      <td>0.0</td>\n",
       "      <td>0.0</td>\n",
       "      <td>0.0</td>\n",
       "      <td>0.0</td>\n",
       "      <td>0.0</td>\n",
       "      <td>0.0</td>\n",
       "      <td>0.0</td>\n",
       "      <td>-4.0</td>\n",
       "      <td>-4.0</td>\n",
       "      <td>-4.0</td>\n",
       "      <td>0.0</td>\n",
       "      <td>-4.0</td>\n",
       "      <td>-4.0</td>\n",
       "      <td>-4.0</td>\n",
       "      <td>-4.0</td>\n",
       "      <td>-1.0</td>\n",
       "      <td>-1.0</td>\n",
       "      <td>-1.0</td>\n",
       "      <td>-1.0</td>\n",
       "      <td>0.0</td>\n",
       "      <td>0.0</td>\n",
       "      <td>0.0</td>\n",
       "      <td>0.0</td>\n",
       "      <td>0.0</td>\n",
       "      <td>0.0</td>\n",
       "      <td>0.0</td>\n",
       "      <td>0.0</td>\n",
       "      <td>0.0</td>\n",
       "      <td>-2.0</td>\n",
       "      <td>-1.0</td>\n",
       "      <td>-1.0</td>\n",
       "      <td>-1.0</td>\n",
       "      <td>-1.0</td>\n",
       "      <td>-1.0</td>\n",
       "      <td>-1.0</td>\n",
       "      <td>-4.0</td>\n",
       "      <td>0.0</td>\n",
       "      <td>-4.0</td>\n",
       "      <td>-4.0</td>\n",
       "      <td>-1.0</td>\n",
       "      <td>-4.0</td>\n",
       "      <td>-4.0</td>\n",
       "      <td>-4.0</td>\n",
       "      <td>-4.0</td>\n",
       "      <td>-4.0</td>\n",
       "      <td>-4.0</td>\n",
       "      <td>-4.0</td>\n",
       "      <td>-4.0</td>\n",
       "      <td>-4.0</td>\n",
       "      <td>0.0</td>\n",
       "      <td>-1.0</td>\n",
       "      <td>-1.0</td>\n",
       "      <td>-1.0</td>\n",
       "      <td>-1.0</td>\n",
       "      <td>-1.0</td>\n",
       "      <td>-1.0</td>\n",
       "      <td>-1.0</td>\n",
       "      <td>-1.0</td>\n",
       "      <td>-1.0</td>\n",
       "      <td>-1.0</td>\n",
       "      <td>-1.0</td>\n",
       "      <td>-1.0</td>\n",
       "      <td>-1.0</td>\n",
       "      <td>-1.0</td>\n",
       "      <td>-1.0</td>\n",
       "      <td>-1.0</td>\n",
       "      <td>-1.0</td>\n",
       "      <td>-1.0</td>\n",
       "      <td>1.0</td>\n",
       "      <td>1.0</td>\n",
       "      <td>1.0</td>\n",
       "      <td>0.0</td>\n",
       "      <td>0.0</td>\n",
       "      <td>1.0</td>\n",
       "      <td>44.0</td>\n",
       "      <td>44.0</td>\n",
       "      <td>1.0</td>\n",
       "      <td>1.0</td>\n",
       "      <td>1.0</td>\n",
       "      <td>15000.0</td>\n",
       "      <td>1.0</td>\n",
       "      <td>14356.0</td>\n",
       "      <td>96.0</td>\n",
       "      <td>14356.0</td>\n",
       "      <td>999.0</td>\n",
       "      <td>0.0</td>\n",
       "      <td>14356.0</td>\n",
       "      <td>15.0</td>\n",
       "      <td>1.0</td>\n",
       "      <td>1.0</td>\n",
       "      <td>0.0</td>\n",
       "      <td>0.0</td>\n",
       "      <td>1.0</td>\n",
       "      <td>98.0</td>\n",
       "      <td>27.0</td>\n",
       "      <td>1.0</td>\n",
       "      <td>1.0</td>\n",
       "      <td>1.0</td>\n",
       "      <td>10100.0</td>\n",
       "      <td>1.0</td>\n",
       "      <td>6397.0</td>\n",
       "      <td>63.0</td>\n",
       "      <td>6397.0</td>\n",
       "      <td>999.0</td>\n",
       "      <td>0.0</td>\n",
       "      <td>6397.0</td>\n",
       "      <td>2.0</td>\n",
       "      <td>1.0</td>\n",
       "      <td>1.0</td>\n",
       "      <td>0.0</td>\n",
       "      <td>0.0</td>\n",
       "      <td>1.0</td>\n",
       "      <td>174.0</td>\n",
       "      <td>112.0</td>\n",
       "      <td>1.0</td>\n",
       "      <td>1.0</td>\n",
       "      <td>1.0</td>\n",
       "      <td>151250.0</td>\n",
       "      <td>1.0</td>\n",
       "      <td>83232.0</td>\n",
       "      <td>55.0</td>\n",
       "      <td>55.0</td>\n",
       "      <td>55.0</td>\n",
       "      <td>83232.0</td>\n",
       "      <td>999.0</td>\n",
       "      <td>0.0</td>\n",
       "      <td>0.0</td>\n",
       "      <td>83232.0</td>\n",
       "      <td>0.0</td>\n",
       "      <td>12.0</td>\n",
       "      <td>8.0</td>\n",
       "      <td>8.0</td>\n",
       "      <td>1.0</td>\n",
       "      <td>2.0</td>\n",
       "      <td>8.0</td>\n",
       "      <td>209.0</td>\n",
       "      <td>6.0</td>\n",
       "      <td>8.0</td>\n",
       "      <td>7.0</td>\n",
       "      <td>6.0</td>\n",
       "      <td>47400.0</td>\n",
       "      <td>7.0</td>\n",
       "      <td>14356.0</td>\n",
       "      <td>34578.0</td>\n",
       "      <td>73.0</td>\n",
       "      <td>4322.0</td>\n",
       "      <td>71.0</td>\n",
       "      <td>0.0</td>\n",
       "      <td>34578.0</td>\n",
       "      <td>5925.0</td>\n",
       "      <td>4.0</td>\n",
       "      <td>4.0</td>\n",
       "      <td>4.0</td>\n",
       "      <td>1.0</td>\n",
       "      <td>2.0</td>\n",
       "      <td>4.0</td>\n",
       "      <td>114.0</td>\n",
       "      <td>6.0</td>\n",
       "      <td>4.0</td>\n",
       "      <td>3.0</td>\n",
       "      <td>2.0</td>\n",
       "      <td>14500.0</td>\n",
       "      <td>3.0</td>\n",
       "      <td>1838.0</td>\n",
       "      <td>21.0</td>\n",
       "      <td>756.0</td>\n",
       "      <td>999.0</td>\n",
       "      <td>0.0</td>\n",
       "      <td>3025.0</td>\n",
       "      <td>1838.0</td>\n",
       "      <td>79.0</td>\n",
       "      <td>999.0</td>\n",
       "      <td>999.0</td>\n",
       "      <td>-4.0</td>\n",
       "      <td>0.0</td>\n",
       "      <td>-4.0</td>\n",
       "      <td>0.0</td>\n",
       "      <td>-1.0</td>\n",
       "      <td>-1.0</td>\n",
       "      <td>-1.0</td>\n",
       "      <td>-1.0</td>\n",
       "      <td>-1.0</td>\n",
       "      <td>-1.0</td>\n",
       "      <td>-1.0</td>\n",
       "      <td>-1.0</td>\n",
       "      <td>-1.0</td>\n",
       "      <td>-1.0</td>\n",
       "      <td>-1.0</td>\n",
       "      <td>-1.0</td>\n",
       "      <td>-1.0</td>\n",
       "      <td>-1.0</td>\n",
       "      <td>-1.0</td>\n",
       "      <td>-1.0</td>\n",
       "      <td>-1.0</td>\n",
       "      <td>-1.0</td>\n",
       "      <td>-1.0</td>\n",
       "      <td>-1.0</td>\n",
       "      <td>-1.0</td>\n",
       "      <td>2391.0</td>\n",
       "      <td>-1.0</td>\n",
       "      <td>115.0</td>\n",
       "      <td>273.0</td>\n",
       "      <td>1361.0</td>\n",
       "      <td>757.0</td>\n",
       "      <td>-4.0</td>\n",
       "      <td>-4.0</td>\n",
       "      <td>-4.0</td>\n",
       "      <td>-1.0</td>\n",
       "      <td>399.0</td>\n",
       "      <td>-1.0</td>\n",
       "      <td>-4.0</td>\n",
       "      <td>-4.0</td>\n",
       "      <td>-4.0</td>\n",
       "      <td>-4.0</td>\n",
       "      <td>-4.0</td>\n",
       "      <td>-4.0</td>\n",
       "      <td>-1.0</td>\n",
       "      <td>-6.0</td>\n",
       "      <td>1.0</td>\n",
       "      <td>0.0</td>\n",
       "      <td>0.0</td>\n",
       "      <td>3.0</td>\n",
       "      <td>0.0</td>\n",
       "      <td>-6.0</td>\n",
       "      <td>-6.0</td>\n",
       "      <td>-7.0</td>\n",
       "      <td>-1.0</td>\n",
       "      <td>124207.0</td>\n",
       "      <td>2391.0</td>\n",
       "      <td>2412.0</td>\n",
       "      <td>17197.0</td>\n",
       "      <td>514.0</td>\n",
       "      <td>374.0</td>\n",
       "      <td>700-719</td>\n",
       "      <td>50:40.6</td>\n",
       "      <td>0.35</td>\n",
       "      <td>False</td>\n",
       "    </tr>\n",
       "    <tr>\n",
       "      <td>1</td>\n",
       "      <td>9B7D373818660076182548B</td>\n",
       "      <td>10741985</td>\n",
       "      <td>2019-12-25</td>\n",
       "      <td>2019-12-25</td>\n",
       "      <td>2019-12-24</td>\n",
       "      <td>6</td>\n",
       "      <td>Completed</td>\n",
       "      <td>9000.0</td>\n",
       "      <td>9000.0</td>\n",
       "      <td>0.0</td>\n",
       "      <td>1.0</td>\n",
       "      <td>True</td>\n",
       "      <td>0.7</td>\n",
       "      <td>B</td>\n",
       "      <td>0.0645</td>\n",
       "      <td>0.0464</td>\n",
       "      <td>0.1124</td>\n",
       "      <td>0.1109</td>\n",
       "      <td>0.1224</td>\n",
       "      <td>0.1585</td>\n",
       "      <td>36</td>\n",
       "      <td>299.96</td>\n",
       "      <td>9.0</td>\n",
       "      <td>1</td>\n",
       "      <td>4</td>\n",
       "      <td>$50,000-74,999</td>\n",
       "      <td>4166.6667</td>\n",
       "      <td>Employed</td>\n",
       "      <td>Professional</td>\n",
       "      <td>162.0</td>\n",
       "      <td>0</td>\n",
       "      <td>0</td>\n",
       "      <td>NaN</td>\n",
       "      <td>NaN</td>\n",
       "      <td>NaN</td>\n",
       "      <td>NaN</td>\n",
       "      <td>NaN</td>\n",
       "      <td>NaN</td>\n",
       "      <td>NaN</td>\n",
       "      <td>NaN</td>\n",
       "      <td>0</td>\n",
       "      <td>False</td>\n",
       "      <td>40000</td>\n",
       "      <td>1</td>\n",
       "      <td>Fractional</td>\n",
       "      <td>27.0</td>\n",
       "      <td>4.0</td>\n",
       "      <td>4.0</td>\n",
       "      <td>0.0</td>\n",
       "      <td>1.0</td>\n",
       "      <td>4.0</td>\n",
       "      <td>236.0</td>\n",
       "      <td>22.0</td>\n",
       "      <td>4.0</td>\n",
       "      <td>4.0</td>\n",
       "      <td>3.0</td>\n",
       "      <td>346250.0</td>\n",
       "      <td>19250.0</td>\n",
       "      <td>4.0</td>\n",
       "      <td>289268.0</td>\n",
       "      <td>86.0</td>\n",
       "      <td>46.0</td>\n",
       "      <td>74539.0</td>\n",
       "      <td>2963.0</td>\n",
       "      <td>0.0</td>\n",
       "      <td>0.0</td>\n",
       "      <td>301278.0</td>\n",
       "      <td>12010.0</td>\n",
       "      <td>2.0</td>\n",
       "      <td>0.0</td>\n",
       "      <td>-3.0</td>\n",
       "      <td>0.0</td>\n",
       "      <td>0.0</td>\n",
       "      <td>-3.0</td>\n",
       "      <td>134.0</td>\n",
       "      <td>73.0</td>\n",
       "      <td>-3.0</td>\n",
       "      <td>-3.0</td>\n",
       "      <td>-3.0</td>\n",
       "      <td>-3.0</td>\n",
       "      <td>-3.0</td>\n",
       "      <td>-3.0</td>\n",
       "      <td>-3.0</td>\n",
       "      <td>-3.0</td>\n",
       "      <td>999.0</td>\n",
       "      <td>-3.0</td>\n",
       "      <td>-2.0</td>\n",
       "      <td>10.0</td>\n",
       "      <td>3.0</td>\n",
       "      <td>3.0</td>\n",
       "      <td>0.0</td>\n",
       "      <td>1.0</td>\n",
       "      <td>3.0</td>\n",
       "      <td>236.0</td>\n",
       "      <td>22.0</td>\n",
       "      <td>3.0</td>\n",
       "      <td>3.0</td>\n",
       "      <td>2.0</td>\n",
       "      <td>19250.0</td>\n",
       "      <td>3.0</td>\n",
       "      <td>6495.0</td>\n",
       "      <td>46.0</td>\n",
       "      <td>2963.0</td>\n",
       "      <td>0.0</td>\n",
       "      <td>0.0</td>\n",
       "      <td>12010.0</td>\n",
       "      <td>6417.0</td>\n",
       "      <td>2402.0</td>\n",
       "      <td>1.0</td>\n",
       "      <td>33.0</td>\n",
       "      <td>63.0</td>\n",
       "      <td>2757.0</td>\n",
       "      <td>1.0</td>\n",
       "      <td>0.0</td>\n",
       "      <td>0.0</td>\n",
       "      <td>34.0</td>\n",
       "      <td>2757.0</td>\n",
       "      <td>-2.0</td>\n",
       "      <td>-2.0</td>\n",
       "      <td>13.0</td>\n",
       "      <td>13.0</td>\n",
       "      <td>13.0</td>\n",
       "      <td>12.0</td>\n",
       "      <td>5.0</td>\n",
       "      <td>5.0</td>\n",
       "      <td>5.0</td>\n",
       "      <td>19.0</td>\n",
       "      <td>1.0</td>\n",
       "      <td>1.0</td>\n",
       "      <td>1.0</td>\n",
       "      <td>1.0</td>\n",
       "      <td>1.0</td>\n",
       "      <td>1.0</td>\n",
       "      <td>1.0</td>\n",
       "      <td>1.0</td>\n",
       "      <td>1.0</td>\n",
       "      <td>1.0</td>\n",
       "      <td>0.0</td>\n",
       "      <td>-4.0</td>\n",
       "      <td>-4.0</td>\n",
       "      <td>-4.0</td>\n",
       "      <td>0.0</td>\n",
       "      <td>-4.0</td>\n",
       "      <td>-4.0</td>\n",
       "      <td>-4.0</td>\n",
       "      <td>-4.0</td>\n",
       "      <td>146.0</td>\n",
       "      <td>2757.0</td>\n",
       "      <td>2757.0</td>\n",
       "      <td>0.0</td>\n",
       "      <td>2757.0</td>\n",
       "      <td>1.0</td>\n",
       "      <td>1.0</td>\n",
       "      <td>1.0</td>\n",
       "      <td>1.0</td>\n",
       "      <td>1.0</td>\n",
       "      <td>1.0</td>\n",
       "      <td>1.0</td>\n",
       "      <td>1.0</td>\n",
       "      <td>3.0</td>\n",
       "      <td>3.0</td>\n",
       "      <td>2757.0</td>\n",
       "      <td>-3.0</td>\n",
       "      <td>-3.0</td>\n",
       "      <td>-1.0</td>\n",
       "      <td>-1.0</td>\n",
       "      <td>-4.0</td>\n",
       "      <td>0.0</td>\n",
       "      <td>-4.0</td>\n",
       "      <td>-4.0</td>\n",
       "      <td>0.0</td>\n",
       "      <td>-4.0</td>\n",
       "      <td>-4.0</td>\n",
       "      <td>-4.0</td>\n",
       "      <td>-4.0</td>\n",
       "      <td>-4.0</td>\n",
       "      <td>-4.0</td>\n",
       "      <td>-4.0</td>\n",
       "      <td>-4.0</td>\n",
       "      <td>-4.0</td>\n",
       "      <td>0.0</td>\n",
       "      <td>-1.0</td>\n",
       "      <td>-1.0</td>\n",
       "      <td>-1.0</td>\n",
       "      <td>-1.0</td>\n",
       "      <td>-1.0</td>\n",
       "      <td>-1.0</td>\n",
       "      <td>-1.0</td>\n",
       "      <td>-1.0</td>\n",
       "      <td>-1.0</td>\n",
       "      <td>-1.0</td>\n",
       "      <td>-1.0</td>\n",
       "      <td>-1.0</td>\n",
       "      <td>-1.0</td>\n",
       "      <td>-1.0</td>\n",
       "      <td>-1.0</td>\n",
       "      <td>-1.0</td>\n",
       "      <td>-1.0</td>\n",
       "      <td>-1.0</td>\n",
       "      <td>0.0</td>\n",
       "      <td>-1.0</td>\n",
       "      <td>-1.0</td>\n",
       "      <td>-1.0</td>\n",
       "      <td>-1.0</td>\n",
       "      <td>-1.0</td>\n",
       "      <td>-1.0</td>\n",
       "      <td>-1.0</td>\n",
       "      <td>-1.0</td>\n",
       "      <td>-1.0</td>\n",
       "      <td>-1.0</td>\n",
       "      <td>-1.0</td>\n",
       "      <td>-1.0</td>\n",
       "      <td>-1.0</td>\n",
       "      <td>-1.0</td>\n",
       "      <td>-1.0</td>\n",
       "      <td>-1.0</td>\n",
       "      <td>-1.0</td>\n",
       "      <td>-1.0</td>\n",
       "      <td>15.0</td>\n",
       "      <td>0.0</td>\n",
       "      <td>-3.0</td>\n",
       "      <td>0.0</td>\n",
       "      <td>0.0</td>\n",
       "      <td>-3.0</td>\n",
       "      <td>160.0</td>\n",
       "      <td>73.0</td>\n",
       "      <td>-3.0</td>\n",
       "      <td>-3.0</td>\n",
       "      <td>-3.0</td>\n",
       "      <td>-3.0</td>\n",
       "      <td>-3.0</td>\n",
       "      <td>-3.0</td>\n",
       "      <td>-3.0</td>\n",
       "      <td>-3.0</td>\n",
       "      <td>999.0</td>\n",
       "      <td>-3.0</td>\n",
       "      <td>0.0</td>\n",
       "      <td>2.0</td>\n",
       "      <td>1.0</td>\n",
       "      <td>1.0</td>\n",
       "      <td>0.0</td>\n",
       "      <td>0.0</td>\n",
       "      <td>1.0</td>\n",
       "      <td>103.0</td>\n",
       "      <td>77.0</td>\n",
       "      <td>1.0</td>\n",
       "      <td>1.0</td>\n",
       "      <td>1.0</td>\n",
       "      <td>327000.0</td>\n",
       "      <td>1.0</td>\n",
       "      <td>289268.0</td>\n",
       "      <td>88.0</td>\n",
       "      <td>88.0</td>\n",
       "      <td>88.0</td>\n",
       "      <td>289268.0</td>\n",
       "      <td>999.0</td>\n",
       "      <td>0.0</td>\n",
       "      <td>0.0</td>\n",
       "      <td>289268.0</td>\n",
       "      <td>0.0</td>\n",
       "      <td>10.0</td>\n",
       "      <td>3.0</td>\n",
       "      <td>3.0</td>\n",
       "      <td>0.0</td>\n",
       "      <td>1.0</td>\n",
       "      <td>3.0</td>\n",
       "      <td>236.0</td>\n",
       "      <td>22.0</td>\n",
       "      <td>3.0</td>\n",
       "      <td>3.0</td>\n",
       "      <td>2.0</td>\n",
       "      <td>19250.0</td>\n",
       "      <td>3.0</td>\n",
       "      <td>6495.0</td>\n",
       "      <td>8888.0</td>\n",
       "      <td>46.0</td>\n",
       "      <td>2963.0</td>\n",
       "      <td>0.0</td>\n",
       "      <td>0.0</td>\n",
       "      <td>12010.0</td>\n",
       "      <td>6417.0</td>\n",
       "      <td>0.0</td>\n",
       "      <td>-1.0</td>\n",
       "      <td>-1.0</td>\n",
       "      <td>-1.0</td>\n",
       "      <td>-1.0</td>\n",
       "      <td>-1.0</td>\n",
       "      <td>-1.0</td>\n",
       "      <td>-1.0</td>\n",
       "      <td>-1.0</td>\n",
       "      <td>-1.0</td>\n",
       "      <td>-1.0</td>\n",
       "      <td>-1.0</td>\n",
       "      <td>-1.0</td>\n",
       "      <td>-1.0</td>\n",
       "      <td>-1.0</td>\n",
       "      <td>-1.0</td>\n",
       "      <td>-1.0</td>\n",
       "      <td>-1.0</td>\n",
       "      <td>-1.0</td>\n",
       "      <td>-1.0</td>\n",
       "      <td>142.0</td>\n",
       "      <td>0.0</td>\n",
       "      <td>0.0</td>\n",
       "      <td>6724.0</td>\n",
       "      <td>2.0</td>\n",
       "      <td>2.0</td>\n",
       "      <td>13.0</td>\n",
       "      <td>0.0</td>\n",
       "      <td>-3.0</td>\n",
       "      <td>0.0</td>\n",
       "      <td>0.0</td>\n",
       "      <td>-3.0</td>\n",
       "      <td>160.0</td>\n",
       "      <td>135.0</td>\n",
       "      <td>-3.0</td>\n",
       "      <td>-3.0</td>\n",
       "      <td>-3.0</td>\n",
       "      <td>-3.0</td>\n",
       "      <td>-3.0</td>\n",
       "      <td>-3.0</td>\n",
       "      <td>-3.0</td>\n",
       "      <td>-3.0</td>\n",
       "      <td>999.0</td>\n",
       "      <td>-1.0</td>\n",
       "      <td>0.0</td>\n",
       "      <td>-3.0</td>\n",
       "      <td>-5.0</td>\n",
       "      <td>0.0</td>\n",
       "      <td>2645.0</td>\n",
       "      <td>-1.0</td>\n",
       "      <td>-1.0</td>\n",
       "      <td>-3.0</td>\n",
       "      <td>2309.0</td>\n",
       "      <td>336.0</td>\n",
       "      <td>-4.0</td>\n",
       "      <td>-4.0</td>\n",
       "      <td>-4.0</td>\n",
       "      <td>-1.0</td>\n",
       "      <td>369.0</td>\n",
       "      <td>-1.0</td>\n",
       "      <td>-4.0</td>\n",
       "      <td>33.0</td>\n",
       "      <td>5700.0</td>\n",
       "      <td>-4.0</td>\n",
       "      <td>-4.0</td>\n",
       "      <td>-4.0</td>\n",
       "      <td>34.0</td>\n",
       "      <td>33.0</td>\n",
       "      <td>5.0</td>\n",
       "      <td>5.0</td>\n",
       "      <td>5.0</td>\n",
       "      <td>19.0</td>\n",
       "      <td>0.0</td>\n",
       "      <td>-6.0</td>\n",
       "      <td>-6.0</td>\n",
       "      <td>3.0</td>\n",
       "      <td>3.0</td>\n",
       "      <td>301278.0</td>\n",
       "      <td>2562.0</td>\n",
       "      <td>2460.0</td>\n",
       "      <td>12010.0</td>\n",
       "      <td>253.0</td>\n",
       "      <td>150.0</td>\n",
       "      <td>680-699</td>\n",
       "      <td>44:44.6</td>\n",
       "      <td>0.15</td>\n",
       "      <td>False</td>\n",
       "    </tr>\n",
       "    <tr>\n",
       "      <td>2</td>\n",
       "      <td>1A674042556287DC7D0D</td>\n",
       "      <td>10949337</td>\n",
       "      <td>2019-12-27</td>\n",
       "      <td>2019-12-27</td>\n",
       "      <td>2019-12-24</td>\n",
       "      <td>6</td>\n",
       "      <td>Completed</td>\n",
       "      <td>12000.0</td>\n",
       "      <td>12000.0</td>\n",
       "      <td>0.0</td>\n",
       "      <td>1.0</td>\n",
       "      <td>True</td>\n",
       "      <td>0.7</td>\n",
       "      <td>AA</td>\n",
       "      <td>0.0506</td>\n",
       "      <td>0.0187</td>\n",
       "      <td>0.0699</td>\n",
       "      <td>0.0693</td>\n",
       "      <td>0.0799</td>\n",
       "      <td>0.0973</td>\n",
       "      <td>60</td>\n",
       "      <td>243.26</td>\n",
       "      <td>11.0</td>\n",
       "      <td>1</td>\n",
       "      <td>4</td>\n",
       "      <td>$50,000-74,999</td>\n",
       "      <td>5666.6667</td>\n",
       "      <td>Employed</td>\n",
       "      <td>Teacher</td>\n",
       "      <td>92.0</td>\n",
       "      <td>0</td>\n",
       "      <td>0</td>\n",
       "      <td>NaN</td>\n",
       "      <td>NaN</td>\n",
       "      <td>NaN</td>\n",
       "      <td>NaN</td>\n",
       "      <td>NaN</td>\n",
       "      <td>NaN</td>\n",
       "      <td>NaN</td>\n",
       "      <td>NaN</td>\n",
       "      <td>0</td>\n",
       "      <td>False</td>\n",
       "      <td>40000</td>\n",
       "      <td>3</td>\n",
       "      <td>Whole</td>\n",
       "      <td>25.0</td>\n",
       "      <td>16.0</td>\n",
       "      <td>16.0</td>\n",
       "      <td>0.0</td>\n",
       "      <td>1.0</td>\n",
       "      <td>16.0</td>\n",
       "      <td>220.0</td>\n",
       "      <td>19.0</td>\n",
       "      <td>16.0</td>\n",
       "      <td>16.0</td>\n",
       "      <td>15.0</td>\n",
       "      <td>297276.0</td>\n",
       "      <td>80966.0</td>\n",
       "      <td>15.0</td>\n",
       "      <td>211242.0</td>\n",
       "      <td>89.0</td>\n",
       "      <td>67.0</td>\n",
       "      <td>16592.0</td>\n",
       "      <td>3616.0</td>\n",
       "      <td>999.0</td>\n",
       "      <td>0.0</td>\n",
       "      <td>265478.0</td>\n",
       "      <td>54236.0</td>\n",
       "      <td>2.0</td>\n",
       "      <td>1.0</td>\n",
       "      <td>1.0</td>\n",
       "      <td>0.0</td>\n",
       "      <td>0.0</td>\n",
       "      <td>1.0</td>\n",
       "      <td>80.0</td>\n",
       "      <td>42.0</td>\n",
       "      <td>1.0</td>\n",
       "      <td>1.0</td>\n",
       "      <td>1.0</td>\n",
       "      <td>11766.0</td>\n",
       "      <td>1.0</td>\n",
       "      <td>3900.0</td>\n",
       "      <td>33.0</td>\n",
       "      <td>3900.0</td>\n",
       "      <td>999.0</td>\n",
       "      <td>0.0</td>\n",
       "      <td>3900.0</td>\n",
       "      <td>5.0</td>\n",
       "      <td>4.0</td>\n",
       "      <td>4.0</td>\n",
       "      <td>0.0</td>\n",
       "      <td>0.0</td>\n",
       "      <td>4.0</td>\n",
       "      <td>220.0</td>\n",
       "      <td>161.0</td>\n",
       "      <td>4.0</td>\n",
       "      <td>4.0</td>\n",
       "      <td>4.0</td>\n",
       "      <td>25000.0</td>\n",
       "      <td>4.0</td>\n",
       "      <td>6988.0</td>\n",
       "      <td>54.0</td>\n",
       "      <td>3402.0</td>\n",
       "      <td>999.0</td>\n",
       "      <td>0.0</td>\n",
       "      <td>13608.0</td>\n",
       "      <td>6250.0</td>\n",
       "      <td>3402.0</td>\n",
       "      <td>0.0</td>\n",
       "      <td>0.0</td>\n",
       "      <td>0.0</td>\n",
       "      <td>0.0</td>\n",
       "      <td>0.0</td>\n",
       "      <td>-1.0</td>\n",
       "      <td>-1.0</td>\n",
       "      <td>-1.0</td>\n",
       "      <td>-1.0</td>\n",
       "      <td>-1.0</td>\n",
       "      <td>-1.0</td>\n",
       "      <td>0.0</td>\n",
       "      <td>0.0</td>\n",
       "      <td>0.0</td>\n",
       "      <td>18.0</td>\n",
       "      <td>0.0</td>\n",
       "      <td>0.0</td>\n",
       "      <td>0.0</td>\n",
       "      <td>0.0</td>\n",
       "      <td>0.0</td>\n",
       "      <td>0.0</td>\n",
       "      <td>0.0</td>\n",
       "      <td>0.0</td>\n",
       "      <td>0.0</td>\n",
       "      <td>0.0</td>\n",
       "      <td>0.0</td>\n",
       "      <td>0.0</td>\n",
       "      <td>0.0</td>\n",
       "      <td>0.0</td>\n",
       "      <td>0.0</td>\n",
       "      <td>-4.0</td>\n",
       "      <td>-4.0</td>\n",
       "      <td>-4.0</td>\n",
       "      <td>0.0</td>\n",
       "      <td>20.0</td>\n",
       "      <td>20.0</td>\n",
       "      <td>-1.0</td>\n",
       "      <td>20.0</td>\n",
       "      <td>-1.0</td>\n",
       "      <td>-1.0</td>\n",
       "      <td>-1.0</td>\n",
       "      <td>-1.0</td>\n",
       "      <td>0.0</td>\n",
       "      <td>0.0</td>\n",
       "      <td>0.0</td>\n",
       "      <td>0.0</td>\n",
       "      <td>0.0</td>\n",
       "      <td>0.0</td>\n",
       "      <td>0.0</td>\n",
       "      <td>0.0</td>\n",
       "      <td>0.0</td>\n",
       "      <td>-1.0</td>\n",
       "      <td>-1.0</td>\n",
       "      <td>-1.0</td>\n",
       "      <td>-3.0</td>\n",
       "      <td>-3.0</td>\n",
       "      <td>-1.0</td>\n",
       "      <td>-1.0</td>\n",
       "      <td>0.0</td>\n",
       "      <td>2.0</td>\n",
       "      <td>-1.0</td>\n",
       "      <td>0.0</td>\n",
       "      <td>-1.0</td>\n",
       "      <td>2.0</td>\n",
       "      <td>0.0</td>\n",
       "      <td>0.0</td>\n",
       "      <td>-1.0</td>\n",
       "      <td>2.0</td>\n",
       "      <td>0.0</td>\n",
       "      <td>1.0</td>\n",
       "      <td>0.0</td>\n",
       "      <td>0.0</td>\n",
       "      <td>0.0</td>\n",
       "      <td>-1.0</td>\n",
       "      <td>-1.0</td>\n",
       "      <td>-1.0</td>\n",
       "      <td>-1.0</td>\n",
       "      <td>-1.0</td>\n",
       "      <td>-1.0</td>\n",
       "      <td>-1.0</td>\n",
       "      <td>-1.0</td>\n",
       "      <td>-1.0</td>\n",
       "      <td>-1.0</td>\n",
       "      <td>-1.0</td>\n",
       "      <td>-1.0</td>\n",
       "      <td>-1.0</td>\n",
       "      <td>-1.0</td>\n",
       "      <td>-1.0</td>\n",
       "      <td>-1.0</td>\n",
       "      <td>-1.0</td>\n",
       "      <td>-1.0</td>\n",
       "      <td>0.0</td>\n",
       "      <td>-1.0</td>\n",
       "      <td>-1.0</td>\n",
       "      <td>-1.0</td>\n",
       "      <td>-1.0</td>\n",
       "      <td>-1.0</td>\n",
       "      <td>-1.0</td>\n",
       "      <td>-1.0</td>\n",
       "      <td>-1.0</td>\n",
       "      <td>-1.0</td>\n",
       "      <td>-1.0</td>\n",
       "      <td>-1.0</td>\n",
       "      <td>-1.0</td>\n",
       "      <td>-1.0</td>\n",
       "      <td>-1.0</td>\n",
       "      <td>-1.0</td>\n",
       "      <td>-1.0</td>\n",
       "      <td>-1.0</td>\n",
       "      <td>-1.0</td>\n",
       "      <td>16.0</td>\n",
       "      <td>10.0</td>\n",
       "      <td>10.0</td>\n",
       "      <td>0.0</td>\n",
       "      <td>0.0</td>\n",
       "      <td>10.0</td>\n",
       "      <td>158.0</td>\n",
       "      <td>42.0</td>\n",
       "      <td>10.0</td>\n",
       "      <td>10.0</td>\n",
       "      <td>10.0</td>\n",
       "      <td>53966.0</td>\n",
       "      <td>10.0</td>\n",
       "      <td>5341.0</td>\n",
       "      <td>75.0</td>\n",
       "      <td>4063.0</td>\n",
       "      <td>999.0</td>\n",
       "      <td>0.0</td>\n",
       "      <td>40628.0</td>\n",
       "      <td>1.0</td>\n",
       "      <td>1.0</td>\n",
       "      <td>1.0</td>\n",
       "      <td>0.0</td>\n",
       "      <td>1.0</td>\n",
       "      <td>1.0</td>\n",
       "      <td>19.0</td>\n",
       "      <td>19.0</td>\n",
       "      <td>1.0</td>\n",
       "      <td>1.0</td>\n",
       "      <td>-6.0</td>\n",
       "      <td>216310.0</td>\n",
       "      <td>1.0</td>\n",
       "      <td>211242.0</td>\n",
       "      <td>98.0</td>\n",
       "      <td>98.0</td>\n",
       "      <td>98.0</td>\n",
       "      <td>211242.0</td>\n",
       "      <td>999.0</td>\n",
       "      <td>0.0</td>\n",
       "      <td>0.0</td>\n",
       "      <td>211242.0</td>\n",
       "      <td>0.0</td>\n",
       "      <td>8.0</td>\n",
       "      <td>5.0</td>\n",
       "      <td>5.0</td>\n",
       "      <td>0.0</td>\n",
       "      <td>0.0</td>\n",
       "      <td>5.0</td>\n",
       "      <td>220.0</td>\n",
       "      <td>118.0</td>\n",
       "      <td>5.0</td>\n",
       "      <td>5.0</td>\n",
       "      <td>5.0</td>\n",
       "      <td>27000.0</td>\n",
       "      <td>4.0</td>\n",
       "      <td>6988.0</td>\n",
       "      <td>13608.0</td>\n",
       "      <td>50.0</td>\n",
       "      <td>2722.0</td>\n",
       "      <td>999.0</td>\n",
       "      <td>0.0</td>\n",
       "      <td>13608.0</td>\n",
       "      <td>5400.0</td>\n",
       "      <td>3.0</td>\n",
       "      <td>1.0</td>\n",
       "      <td>1.0</td>\n",
       "      <td>0.0</td>\n",
       "      <td>0.0</td>\n",
       "      <td>1.0</td>\n",
       "      <td>142.0</td>\n",
       "      <td>118.0</td>\n",
       "      <td>1.0</td>\n",
       "      <td>1.0</td>\n",
       "      <td>1.0</td>\n",
       "      <td>2000.0</td>\n",
       "      <td>0.0</td>\n",
       "      <td>0.0</td>\n",
       "      <td>0.0</td>\n",
       "      <td>0.0</td>\n",
       "      <td>999.0</td>\n",
       "      <td>0.0</td>\n",
       "      <td>0.0</td>\n",
       "      <td>0.0</td>\n",
       "      <td>133.0</td>\n",
       "      <td>999.0</td>\n",
       "      <td>999.0</td>\n",
       "      <td>-4.0</td>\n",
       "      <td>0.0</td>\n",
       "      <td>-4.0</td>\n",
       "      <td>13.0</td>\n",
       "      <td>9.0</td>\n",
       "      <td>9.0</td>\n",
       "      <td>0.0</td>\n",
       "      <td>0.0</td>\n",
       "      <td>9.0</td>\n",
       "      <td>158.0</td>\n",
       "      <td>123.0</td>\n",
       "      <td>9.0</td>\n",
       "      <td>9.0</td>\n",
       "      <td>9.0</td>\n",
       "      <td>42200.0</td>\n",
       "      <td>9.0</td>\n",
       "      <td>5341.0</td>\n",
       "      <td>87.0</td>\n",
       "      <td>4081.0</td>\n",
       "      <td>999.0</td>\n",
       "      <td>158.0</td>\n",
       "      <td>0.0</td>\n",
       "      <td>0.0</td>\n",
       "      <td>-5.0</td>\n",
       "      <td>36728.0</td>\n",
       "      <td>2624.0</td>\n",
       "      <td>-1.0</td>\n",
       "      <td>-1.0</td>\n",
       "      <td>521.0</td>\n",
       "      <td>1722.0</td>\n",
       "      <td>381.0</td>\n",
       "      <td>-4.0</td>\n",
       "      <td>-4.0</td>\n",
       "      <td>-4.0</td>\n",
       "      <td>-1.0</td>\n",
       "      <td>208.0</td>\n",
       "      <td>-1.0</td>\n",
       "      <td>-4.0</td>\n",
       "      <td>-4.0</td>\n",
       "      <td>-4.0</td>\n",
       "      <td>0.0</td>\n",
       "      <td>0.0</td>\n",
       "      <td>0.0</td>\n",
       "      <td>-1.0</td>\n",
       "      <td>-6.0</td>\n",
       "      <td>0.0</td>\n",
       "      <td>0.0</td>\n",
       "      <td>0.0</td>\n",
       "      <td>0.0</td>\n",
       "      <td>1.0</td>\n",
       "      <td>0.0</td>\n",
       "      <td>1.0</td>\n",
       "      <td>-1.0</td>\n",
       "      <td>-1.0</td>\n",
       "      <td>265478.0</td>\n",
       "      <td>2624.0</td>\n",
       "      <td>2243.0</td>\n",
       "      <td>13608.0</td>\n",
       "      <td>381.0</td>\n",
       "      <td>-2.0</td>\n",
       "      <td>740-759</td>\n",
       "      <td>46:01.0</td>\n",
       "      <td>0.20</td>\n",
       "      <td>False</td>\n",
       "    </tr>\n",
       "    <tr>\n",
       "      <td>3</td>\n",
       "      <td>45A43858867017FF5E60</td>\n",
       "      <td>10949352</td>\n",
       "      <td>2019-12-26</td>\n",
       "      <td>2019-12-26</td>\n",
       "      <td>2019-12-24</td>\n",
       "      <td>6</td>\n",
       "      <td>Completed</td>\n",
       "      <td>7600.0</td>\n",
       "      <td>7600.0</td>\n",
       "      <td>0.0</td>\n",
       "      <td>1.0</td>\n",
       "      <td>True</td>\n",
       "      <td>0.7</td>\n",
       "      <td>D</td>\n",
       "      <td>0.0983</td>\n",
       "      <td>0.1064</td>\n",
       "      <td>0.2124</td>\n",
       "      <td>0.2047</td>\n",
       "      <td>0.2224</td>\n",
       "      <td>0.2477</td>\n",
       "      <td>60</td>\n",
       "      <td>210.94</td>\n",
       "      <td>7.0</td>\n",
       "      <td>1</td>\n",
       "      <td>3</td>\n",
       "      <td>$25,000-49,999</td>\n",
       "      <td>3200.0000</td>\n",
       "      <td>Employed</td>\n",
       "      <td>Medical Technician</td>\n",
       "      <td>33.0</td>\n",
       "      <td>0</td>\n",
       "      <td>0</td>\n",
       "      <td>NaN</td>\n",
       "      <td>NaN</td>\n",
       "      <td>NaN</td>\n",
       "      <td>NaN</td>\n",
       "      <td>NaN</td>\n",
       "      <td>NaN</td>\n",
       "      <td>NaN</td>\n",
       "      <td>NaN</td>\n",
       "      <td>0</td>\n",
       "      <td>False</td>\n",
       "      <td>40000</td>\n",
       "      <td>3</td>\n",
       "      <td>Whole</td>\n",
       "      <td>11.0</td>\n",
       "      <td>8.0</td>\n",
       "      <td>8.0</td>\n",
       "      <td>0.0</td>\n",
       "      <td>3.0</td>\n",
       "      <td>8.0</td>\n",
       "      <td>142.0</td>\n",
       "      <td>9.0</td>\n",
       "      <td>8.0</td>\n",
       "      <td>7.0</td>\n",
       "      <td>5.0</td>\n",
       "      <td>63784.0</td>\n",
       "      <td>63784.0</td>\n",
       "      <td>7.0</td>\n",
       "      <td>34001.0</td>\n",
       "      <td>82.0</td>\n",
       "      <td>82.0</td>\n",
       "      <td>6543.0</td>\n",
       "      <td>6543.0</td>\n",
       "      <td>999.0</td>\n",
       "      <td>0.0</td>\n",
       "      <td>52346.0</td>\n",
       "      <td>52346.0</td>\n",
       "      <td>1.0</td>\n",
       "      <td>1.0</td>\n",
       "      <td>1.0</td>\n",
       "      <td>0.0</td>\n",
       "      <td>1.0</td>\n",
       "      <td>1.0</td>\n",
       "      <td>17.0</td>\n",
       "      <td>17.0</td>\n",
       "      <td>1.0</td>\n",
       "      <td>1.0</td>\n",
       "      <td>-6.0</td>\n",
       "      <td>40184.0</td>\n",
       "      <td>1.0</td>\n",
       "      <td>34001.0</td>\n",
       "      <td>85.0</td>\n",
       "      <td>34001.0</td>\n",
       "      <td>999.0</td>\n",
       "      <td>0.0</td>\n",
       "      <td>34001.0</td>\n",
       "      <td>2.0</td>\n",
       "      <td>2.0</td>\n",
       "      <td>2.0</td>\n",
       "      <td>0.0</td>\n",
       "      <td>0.0</td>\n",
       "      <td>2.0</td>\n",
       "      <td>29.0</td>\n",
       "      <td>27.0</td>\n",
       "      <td>2.0</td>\n",
       "      <td>2.0</td>\n",
       "      <td>2.0</td>\n",
       "      <td>2600.0</td>\n",
       "      <td>2.0</td>\n",
       "      <td>841.0</td>\n",
       "      <td>64.0</td>\n",
       "      <td>838.0</td>\n",
       "      <td>999.0</td>\n",
       "      <td>0.0</td>\n",
       "      <td>1675.0</td>\n",
       "      <td>1300.0</td>\n",
       "      <td>838.0</td>\n",
       "      <td>0.0</td>\n",
       "      <td>0.0</td>\n",
       "      <td>0.0</td>\n",
       "      <td>0.0</td>\n",
       "      <td>0.0</td>\n",
       "      <td>-1.0</td>\n",
       "      <td>-1.0</td>\n",
       "      <td>-1.0</td>\n",
       "      <td>-1.0</td>\n",
       "      <td>-1.0</td>\n",
       "      <td>-1.0</td>\n",
       "      <td>0.0</td>\n",
       "      <td>0.0</td>\n",
       "      <td>0.0</td>\n",
       "      <td>10.0</td>\n",
       "      <td>0.0</td>\n",
       "      <td>0.0</td>\n",
       "      <td>0.0</td>\n",
       "      <td>0.0</td>\n",
       "      <td>0.0</td>\n",
       "      <td>0.0</td>\n",
       "      <td>0.0</td>\n",
       "      <td>0.0</td>\n",
       "      <td>0.0</td>\n",
       "      <td>0.0</td>\n",
       "      <td>0.0</td>\n",
       "      <td>0.0</td>\n",
       "      <td>0.0</td>\n",
       "      <td>0.0</td>\n",
       "      <td>1.0</td>\n",
       "      <td>1.0</td>\n",
       "      <td>98.0</td>\n",
       "      <td>0.0</td>\n",
       "      <td>0.0</td>\n",
       "      <td>17.0</td>\n",
       "      <td>17.0</td>\n",
       "      <td>-1.0</td>\n",
       "      <td>-1.0</td>\n",
       "      <td>-1.0</td>\n",
       "      <td>-1.0</td>\n",
       "      <td>-1.0</td>\n",
       "      <td>-1.0</td>\n",
       "      <td>0.0</td>\n",
       "      <td>0.0</td>\n",
       "      <td>0.0</td>\n",
       "      <td>0.0</td>\n",
       "      <td>0.0</td>\n",
       "      <td>0.0</td>\n",
       "      <td>0.0</td>\n",
       "      <td>0.0</td>\n",
       "      <td>0.0</td>\n",
       "      <td>-1.0</td>\n",
       "      <td>-1.0</td>\n",
       "      <td>-1.0</td>\n",
       "      <td>-1.0</td>\n",
       "      <td>-1.0</td>\n",
       "      <td>-1.0</td>\n",
       "      <td>-1.0</td>\n",
       "      <td>0.0</td>\n",
       "      <td>2.0</td>\n",
       "      <td>-1.0</td>\n",
       "      <td>0.0</td>\n",
       "      <td>-1.0</td>\n",
       "      <td>2.0</td>\n",
       "      <td>0.0</td>\n",
       "      <td>0.0</td>\n",
       "      <td>-1.0</td>\n",
       "      <td>0.0</td>\n",
       "      <td>-1.0</td>\n",
       "      <td>1.0</td>\n",
       "      <td>0.0</td>\n",
       "      <td>0.0</td>\n",
       "      <td>0.0</td>\n",
       "      <td>-1.0</td>\n",
       "      <td>-1.0</td>\n",
       "      <td>-1.0</td>\n",
       "      <td>-1.0</td>\n",
       "      <td>-1.0</td>\n",
       "      <td>-1.0</td>\n",
       "      <td>-1.0</td>\n",
       "      <td>-1.0</td>\n",
       "      <td>-1.0</td>\n",
       "      <td>-1.0</td>\n",
       "      <td>-1.0</td>\n",
       "      <td>-1.0</td>\n",
       "      <td>-1.0</td>\n",
       "      <td>-1.0</td>\n",
       "      <td>-1.0</td>\n",
       "      <td>-1.0</td>\n",
       "      <td>-1.0</td>\n",
       "      <td>-1.0</td>\n",
       "      <td>0.0</td>\n",
       "      <td>-1.0</td>\n",
       "      <td>-1.0</td>\n",
       "      <td>-1.0</td>\n",
       "      <td>-1.0</td>\n",
       "      <td>-1.0</td>\n",
       "      <td>-1.0</td>\n",
       "      <td>-1.0</td>\n",
       "      <td>-1.0</td>\n",
       "      <td>-1.0</td>\n",
       "      <td>-1.0</td>\n",
       "      <td>-1.0</td>\n",
       "      <td>-1.0</td>\n",
       "      <td>-1.0</td>\n",
       "      <td>-1.0</td>\n",
       "      <td>-1.0</td>\n",
       "      <td>-1.0</td>\n",
       "      <td>-1.0</td>\n",
       "      <td>-1.0</td>\n",
       "      <td>4.0</td>\n",
       "      <td>3.0</td>\n",
       "      <td>3.0</td>\n",
       "      <td>0.0</td>\n",
       "      <td>1.0</td>\n",
       "      <td>3.0</td>\n",
       "      <td>142.0</td>\n",
       "      <td>17.0</td>\n",
       "      <td>3.0</td>\n",
       "      <td>3.0</td>\n",
       "      <td>2.0</td>\n",
       "      <td>52684.0</td>\n",
       "      <td>3.0</td>\n",
       "      <td>34001.0</td>\n",
       "      <td>89.0</td>\n",
       "      <td>15647.0</td>\n",
       "      <td>999.0</td>\n",
       "      <td>0.0</td>\n",
       "      <td>46941.0</td>\n",
       "      <td>0.0</td>\n",
       "      <td>-1.0</td>\n",
       "      <td>-1.0</td>\n",
       "      <td>-1.0</td>\n",
       "      <td>-1.0</td>\n",
       "      <td>-1.0</td>\n",
       "      <td>-1.0</td>\n",
       "      <td>-1.0</td>\n",
       "      <td>-1.0</td>\n",
       "      <td>-1.0</td>\n",
       "      <td>-1.0</td>\n",
       "      <td>-1.0</td>\n",
       "      <td>-1.0</td>\n",
       "      <td>-1.0</td>\n",
       "      <td>-1.0</td>\n",
       "      <td>-1.0</td>\n",
       "      <td>-1.0</td>\n",
       "      <td>-1.0</td>\n",
       "      <td>-1.0</td>\n",
       "      <td>-1.0</td>\n",
       "      <td>-1.0</td>\n",
       "      <td>-1.0</td>\n",
       "      <td>1.0</td>\n",
       "      <td>7.0</td>\n",
       "      <td>5.0</td>\n",
       "      <td>5.0</td>\n",
       "      <td>0.0</td>\n",
       "      <td>2.0</td>\n",
       "      <td>5.0</td>\n",
       "      <td>29.0</td>\n",
       "      <td>9.0</td>\n",
       "      <td>5.0</td>\n",
       "      <td>4.0</td>\n",
       "      <td>3.0</td>\n",
       "      <td>11100.0</td>\n",
       "      <td>4.0</td>\n",
       "      <td>2006.0</td>\n",
       "      <td>5405.0</td>\n",
       "      <td>49.0</td>\n",
       "      <td>1081.0</td>\n",
       "      <td>999.0</td>\n",
       "      <td>0.0</td>\n",
       "      <td>5405.0</td>\n",
       "      <td>2220.0</td>\n",
       "      <td>5.0</td>\n",
       "      <td>3.0</td>\n",
       "      <td>3.0</td>\n",
       "      <td>0.0</td>\n",
       "      <td>2.0</td>\n",
       "      <td>3.0</td>\n",
       "      <td>25.0</td>\n",
       "      <td>9.0</td>\n",
       "      <td>3.0</td>\n",
       "      <td>2.0</td>\n",
       "      <td>1.0</td>\n",
       "      <td>8500.0</td>\n",
       "      <td>2.0</td>\n",
       "      <td>2006.0</td>\n",
       "      <td>44.0</td>\n",
       "      <td>1243.0</td>\n",
       "      <td>999.0</td>\n",
       "      <td>0.0</td>\n",
       "      <td>3730.0</td>\n",
       "      <td>2006.0</td>\n",
       "      <td>35.0</td>\n",
       "      <td>999.0</td>\n",
       "      <td>999.0</td>\n",
       "      <td>115.0</td>\n",
       "      <td>1.0</td>\n",
       "      <td>1.0</td>\n",
       "      <td>2.0</td>\n",
       "      <td>2.0</td>\n",
       "      <td>2.0</td>\n",
       "      <td>0.0</td>\n",
       "      <td>0.0</td>\n",
       "      <td>2.0</td>\n",
       "      <td>38.0</td>\n",
       "      <td>31.0</td>\n",
       "      <td>2.0</td>\n",
       "      <td>2.0</td>\n",
       "      <td>2.0</td>\n",
       "      <td>12500.0</td>\n",
       "      <td>2.0</td>\n",
       "      <td>7407.0</td>\n",
       "      <td>104.0</td>\n",
       "      <td>6470.0</td>\n",
       "      <td>999.0</td>\n",
       "      <td>38.0</td>\n",
       "      <td>0.0</td>\n",
       "      <td>0.0</td>\n",
       "      <td>-5.0</td>\n",
       "      <td>12940.0</td>\n",
       "      <td>951.0</td>\n",
       "      <td>-1.0</td>\n",
       "      <td>-1.0</td>\n",
       "      <td>779.0</td>\n",
       "      <td>-1.0</td>\n",
       "      <td>172.0</td>\n",
       "      <td>-2.0</td>\n",
       "      <td>-5.0</td>\n",
       "      <td>98.0</td>\n",
       "      <td>-1.0</td>\n",
       "      <td>192.0</td>\n",
       "      <td>-1.0</td>\n",
       "      <td>-5.0</td>\n",
       "      <td>12.0</td>\n",
       "      <td>115.0</td>\n",
       "      <td>0.0</td>\n",
       "      <td>0.0</td>\n",
       "      <td>0.0</td>\n",
       "      <td>-1.0</td>\n",
       "      <td>12.0</td>\n",
       "      <td>0.0</td>\n",
       "      <td>0.0</td>\n",
       "      <td>0.0</td>\n",
       "      <td>0.0</td>\n",
       "      <td>1.0</td>\n",
       "      <td>1.0</td>\n",
       "      <td>0.0</td>\n",
       "      <td>-1.0</td>\n",
       "      <td>-1.0</td>\n",
       "      <td>52346.0</td>\n",
       "      <td>951.0</td>\n",
       "      <td>827.0</td>\n",
       "      <td>834.0</td>\n",
       "      <td>27.0</td>\n",
       "      <td>-2.0</td>\n",
       "      <td>640-659</td>\n",
       "      <td>47:09.1</td>\n",
       "      <td>0.36</td>\n",
       "      <td>False</td>\n",
       "    </tr>\n",
       "    <tr>\n",
       "      <td>4</td>\n",
       "      <td>95325492456301FE93F0</td>\n",
       "      <td>10937362</td>\n",
       "      <td>2019-12-25</td>\n",
       "      <td>2019-12-25</td>\n",
       "      <td>2019-12-24</td>\n",
       "      <td>6</td>\n",
       "      <td>Completed</td>\n",
       "      <td>3000.0</td>\n",
       "      <td>3000.0</td>\n",
       "      <td>0.0</td>\n",
       "      <td>1.0</td>\n",
       "      <td>False</td>\n",
       "      <td>1.0</td>\n",
       "      <td>A</td>\n",
       "      <td>0.0515</td>\n",
       "      <td>0.0253</td>\n",
       "      <td>0.0774</td>\n",
       "      <td>0.0768</td>\n",
       "      <td>0.0874</td>\n",
       "      <td>0.1095</td>\n",
       "      <td>60</td>\n",
       "      <td>61.90</td>\n",
       "      <td>10.0</td>\n",
       "      <td>1</td>\n",
       "      <td>4</td>\n",
       "      <td>$50,000-74,999</td>\n",
       "      <td>5541.6667</td>\n",
       "      <td>Other</td>\n",
       "      <td>NaN</td>\n",
       "      <td>35.0</td>\n",
       "      <td>1</td>\n",
       "      <td>1</td>\n",
       "      <td>17000.0</td>\n",
       "      <td>12770.14</td>\n",
       "      <td>0.0</td>\n",
       "      <td>0.0</td>\n",
       "      <td>0.0</td>\n",
       "      <td>0.0</td>\n",
       "      <td>17000.0</td>\n",
       "      <td>17000.0</td>\n",
       "      <td>0</td>\n",
       "      <td>False</td>\n",
       "      <td>80000</td>\n",
       "      <td>3</td>\n",
       "      <td>Whole</td>\n",
       "      <td>13.0</td>\n",
       "      <td>9.0</td>\n",
       "      <td>9.0</td>\n",
       "      <td>1.0</td>\n",
       "      <td>6.0</td>\n",
       "      <td>9.0</td>\n",
       "      <td>215.0</td>\n",
       "      <td>1.0</td>\n",
       "      <td>8.0</td>\n",
       "      <td>6.0</td>\n",
       "      <td>3.0</td>\n",
       "      <td>44744.0</td>\n",
       "      <td>44744.0</td>\n",
       "      <td>6.0</td>\n",
       "      <td>13213.0</td>\n",
       "      <td>43.0</td>\n",
       "      <td>43.0</td>\n",
       "      <td>2134.0</td>\n",
       "      <td>2134.0</td>\n",
       "      <td>66.0</td>\n",
       "      <td>0.0</td>\n",
       "      <td>19210.0</td>\n",
       "      <td>19210.0</td>\n",
       "      <td>2.0</td>\n",
       "      <td>1.0</td>\n",
       "      <td>1.0</td>\n",
       "      <td>0.0</td>\n",
       "      <td>1.0</td>\n",
       "      <td>1.0</td>\n",
       "      <td>77.0</td>\n",
       "      <td>14.0</td>\n",
       "      <td>1.0</td>\n",
       "      <td>1.0</td>\n",
       "      <td>-6.0</td>\n",
       "      <td>6044.0</td>\n",
       "      <td>1.0</td>\n",
       "      <td>4658.0</td>\n",
       "      <td>77.0</td>\n",
       "      <td>4658.0</td>\n",
       "      <td>999.0</td>\n",
       "      <td>0.0</td>\n",
       "      <td>4658.0</td>\n",
       "      <td>5.0</td>\n",
       "      <td>4.0</td>\n",
       "      <td>4.0</td>\n",
       "      <td>1.0</td>\n",
       "      <td>2.0</td>\n",
       "      <td>4.0</td>\n",
       "      <td>215.0</td>\n",
       "      <td>1.0</td>\n",
       "      <td>3.0</td>\n",
       "      <td>2.0</td>\n",
       "      <td>2.0</td>\n",
       "      <td>19400.0</td>\n",
       "      <td>4.0</td>\n",
       "      <td>829.0</td>\n",
       "      <td>7.0</td>\n",
       "      <td>335.0</td>\n",
       "      <td>66.0</td>\n",
       "      <td>0.0</td>\n",
       "      <td>1339.0</td>\n",
       "      <td>4850.0</td>\n",
       "      <td>335.0</td>\n",
       "      <td>0.0</td>\n",
       "      <td>2.0</td>\n",
       "      <td>0.0</td>\n",
       "      <td>0.0</td>\n",
       "      <td>0.0</td>\n",
       "      <td>-1.0</td>\n",
       "      <td>-1.0</td>\n",
       "      <td>-1.0</td>\n",
       "      <td>-1.0</td>\n",
       "      <td>-1.0</td>\n",
       "      <td>-1.0</td>\n",
       "      <td>0.0</td>\n",
       "      <td>0.0</td>\n",
       "      <td>0.0</td>\n",
       "      <td>10.0</td>\n",
       "      <td>1.0</td>\n",
       "      <td>1.0</td>\n",
       "      <td>0.0</td>\n",
       "      <td>8.0</td>\n",
       "      <td>0.0</td>\n",
       "      <td>0.0</td>\n",
       "      <td>0.0</td>\n",
       "      <td>0.0</td>\n",
       "      <td>0.0</td>\n",
       "      <td>0.0</td>\n",
       "      <td>0.0</td>\n",
       "      <td>0.0</td>\n",
       "      <td>0.0</td>\n",
       "      <td>0.0</td>\n",
       "      <td>0.0</td>\n",
       "      <td>-4.0</td>\n",
       "      <td>-4.0</td>\n",
       "      <td>-4.0</td>\n",
       "      <td>0.0</td>\n",
       "      <td>10.0</td>\n",
       "      <td>10.0</td>\n",
       "      <td>-1.0</td>\n",
       "      <td>-1.0</td>\n",
       "      <td>-1.0</td>\n",
       "      <td>-1.0</td>\n",
       "      <td>-1.0</td>\n",
       "      <td>-1.0</td>\n",
       "      <td>0.0</td>\n",
       "      <td>0.0</td>\n",
       "      <td>0.0</td>\n",
       "      <td>0.0</td>\n",
       "      <td>0.0</td>\n",
       "      <td>0.0</td>\n",
       "      <td>0.0</td>\n",
       "      <td>0.0</td>\n",
       "      <td>0.0</td>\n",
       "      <td>-2.0</td>\n",
       "      <td>-2.0</td>\n",
       "      <td>-1.0</td>\n",
       "      <td>-1.0</td>\n",
       "      <td>-1.0</td>\n",
       "      <td>-1.0</td>\n",
       "      <td>-1.0</td>\n",
       "      <td>0.0</td>\n",
       "      <td>3.0</td>\n",
       "      <td>-1.0</td>\n",
       "      <td>0.0</td>\n",
       "      <td>-1.0</td>\n",
       "      <td>3.0</td>\n",
       "      <td>0.0</td>\n",
       "      <td>1.0</td>\n",
       "      <td>-1.0</td>\n",
       "      <td>0.0</td>\n",
       "      <td>-1.0</td>\n",
       "      <td>3.0</td>\n",
       "      <td>0.0</td>\n",
       "      <td>1.0</td>\n",
       "      <td>0.0</td>\n",
       "      <td>-1.0</td>\n",
       "      <td>-1.0</td>\n",
       "      <td>-1.0</td>\n",
       "      <td>-1.0</td>\n",
       "      <td>-1.0</td>\n",
       "      <td>-1.0</td>\n",
       "      <td>-1.0</td>\n",
       "      <td>-1.0</td>\n",
       "      <td>-1.0</td>\n",
       "      <td>-1.0</td>\n",
       "      <td>-1.0</td>\n",
       "      <td>-1.0</td>\n",
       "      <td>-1.0</td>\n",
       "      <td>-1.0</td>\n",
       "      <td>-1.0</td>\n",
       "      <td>-1.0</td>\n",
       "      <td>-1.0</td>\n",
       "      <td>-1.0</td>\n",
       "      <td>0.0</td>\n",
       "      <td>-1.0</td>\n",
       "      <td>-1.0</td>\n",
       "      <td>-1.0</td>\n",
       "      <td>-1.0</td>\n",
       "      <td>-1.0</td>\n",
       "      <td>-1.0</td>\n",
       "      <td>-1.0</td>\n",
       "      <td>-1.0</td>\n",
       "      <td>-1.0</td>\n",
       "      <td>-1.0</td>\n",
       "      <td>-1.0</td>\n",
       "      <td>-1.0</td>\n",
       "      <td>-1.0</td>\n",
       "      <td>-1.0</td>\n",
       "      <td>-1.0</td>\n",
       "      <td>-1.0</td>\n",
       "      <td>-1.0</td>\n",
       "      <td>-1.0</td>\n",
       "      <td>4.0</td>\n",
       "      <td>2.0</td>\n",
       "      <td>2.0</td>\n",
       "      <td>0.0</td>\n",
       "      <td>2.0</td>\n",
       "      <td>2.0</td>\n",
       "      <td>77.0</td>\n",
       "      <td>10.0</td>\n",
       "      <td>2.0</td>\n",
       "      <td>1.0</td>\n",
       "      <td>-6.0</td>\n",
       "      <td>23044.0</td>\n",
       "      <td>2.0</td>\n",
       "      <td>13213.0</td>\n",
       "      <td>78.0</td>\n",
       "      <td>8936.0</td>\n",
       "      <td>999.0</td>\n",
       "      <td>0.0</td>\n",
       "      <td>17871.0</td>\n",
       "      <td>0.0</td>\n",
       "      <td>-1.0</td>\n",
       "      <td>-1.0</td>\n",
       "      <td>-1.0</td>\n",
       "      <td>-1.0</td>\n",
       "      <td>-1.0</td>\n",
       "      <td>-1.0</td>\n",
       "      <td>-1.0</td>\n",
       "      <td>-1.0</td>\n",
       "      <td>-1.0</td>\n",
       "      <td>-1.0</td>\n",
       "      <td>-1.0</td>\n",
       "      <td>-1.0</td>\n",
       "      <td>-1.0</td>\n",
       "      <td>-1.0</td>\n",
       "      <td>-1.0</td>\n",
       "      <td>-1.0</td>\n",
       "      <td>-1.0</td>\n",
       "      <td>-1.0</td>\n",
       "      <td>-1.0</td>\n",
       "      <td>-1.0</td>\n",
       "      <td>-1.0</td>\n",
       "      <td>1.0</td>\n",
       "      <td>9.0</td>\n",
       "      <td>7.0</td>\n",
       "      <td>7.0</td>\n",
       "      <td>1.0</td>\n",
       "      <td>4.0</td>\n",
       "      <td>7.0</td>\n",
       "      <td>215.0</td>\n",
       "      <td>1.0</td>\n",
       "      <td>6.0</td>\n",
       "      <td>5.0</td>\n",
       "      <td>3.0</td>\n",
       "      <td>21700.0</td>\n",
       "      <td>4.0</td>\n",
       "      <td>829.0</td>\n",
       "      <td>1339.0</td>\n",
       "      <td>6.0</td>\n",
       "      <td>191.0</td>\n",
       "      <td>66.0</td>\n",
       "      <td>0.0</td>\n",
       "      <td>1339.0</td>\n",
       "      <td>3100.0</td>\n",
       "      <td>4.0</td>\n",
       "      <td>3.0</td>\n",
       "      <td>3.0</td>\n",
       "      <td>0.0</td>\n",
       "      <td>2.0</td>\n",
       "      <td>3.0</td>\n",
       "      <td>172.0</td>\n",
       "      <td>21.0</td>\n",
       "      <td>3.0</td>\n",
       "      <td>3.0</td>\n",
       "      <td>1.0</td>\n",
       "      <td>2300.0</td>\n",
       "      <td>0.0</td>\n",
       "      <td>0.0</td>\n",
       "      <td>0.0</td>\n",
       "      <td>0.0</td>\n",
       "      <td>999.0</td>\n",
       "      <td>0.0</td>\n",
       "      <td>0.0</td>\n",
       "      <td>0.0</td>\n",
       "      <td>66.0</td>\n",
       "      <td>66.0</td>\n",
       "      <td>999.0</td>\n",
       "      <td>-4.0</td>\n",
       "      <td>0.0</td>\n",
       "      <td>-4.0</td>\n",
       "      <td>0.0</td>\n",
       "      <td>-1.0</td>\n",
       "      <td>-1.0</td>\n",
       "      <td>-1.0</td>\n",
       "      <td>-1.0</td>\n",
       "      <td>-1.0</td>\n",
       "      <td>-1.0</td>\n",
       "      <td>-1.0</td>\n",
       "      <td>-1.0</td>\n",
       "      <td>-1.0</td>\n",
       "      <td>-1.0</td>\n",
       "      <td>-1.0</td>\n",
       "      <td>-1.0</td>\n",
       "      <td>-1.0</td>\n",
       "      <td>-1.0</td>\n",
       "      <td>-1.0</td>\n",
       "      <td>-1.0</td>\n",
       "      <td>-1.0</td>\n",
       "      <td>-1.0</td>\n",
       "      <td>-1.0</td>\n",
       "      <td>-1.0</td>\n",
       "      <td>-1.0</td>\n",
       "      <td>809.0</td>\n",
       "      <td>-1.0</td>\n",
       "      <td>-1.0</td>\n",
       "      <td>687.0</td>\n",
       "      <td>-1.0</td>\n",
       "      <td>122.0</td>\n",
       "      <td>-4.0</td>\n",
       "      <td>-4.0</td>\n",
       "      <td>-4.0</td>\n",
       "      <td>-1.0</td>\n",
       "      <td>473.0</td>\n",
       "      <td>-1.0</td>\n",
       "      <td>-4.0</td>\n",
       "      <td>-4.0</td>\n",
       "      <td>-4.0</td>\n",
       "      <td>0.0</td>\n",
       "      <td>0.0</td>\n",
       "      <td>1.0</td>\n",
       "      <td>-1.0</td>\n",
       "      <td>-6.0</td>\n",
       "      <td>1.0</td>\n",
       "      <td>1.0</td>\n",
       "      <td>0.0</td>\n",
       "      <td>8.0</td>\n",
       "      <td>3.0</td>\n",
       "      <td>1.0</td>\n",
       "      <td>0.0</td>\n",
       "      <td>-7.0</td>\n",
       "      <td>-7.0</td>\n",
       "      <td>19210.0</td>\n",
       "      <td>809.0</td>\n",
       "      <td>687.0</td>\n",
       "      <td>1339.0</td>\n",
       "      <td>122.0</td>\n",
       "      <td>-2.0</td>\n",
       "      <td>740-759</td>\n",
       "      <td>56:11.4</td>\n",
       "      <td>0.16</td>\n",
       "      <td>False</td>\n",
       "    </tr>\n",
       "  </tbody>\n",
       "</table>\n",
       "</div>"
      ],
      "text/plain": [
       "                member_key  listing_number listing_start_date  \\\n",
       "0  C20537292024540481062ED        10712027         2020-01-14   \n",
       "1  9B7D373818660076182548B        10741985         2019-12-25   \n",
       "2     1A674042556287DC7D0D        10949337         2019-12-27   \n",
       "3     45A43858867017FF5E60        10949352         2019-12-26   \n",
       "4     95325492456301FE93F0        10937362         2019-12-25   \n",
       "\n",
       "  listing_end_date listing_creation_date  listing_status  \\\n",
       "0       2020-01-14            2019-12-14               6   \n",
       "1       2019-12-25            2019-12-24               6   \n",
       "2       2019-12-27            2019-12-24               6   \n",
       "3       2019-12-26            2019-12-24               6   \n",
       "4       2019-12-25            2019-12-24               6   \n",
       "\n",
       "  listing_status_reason  listing_amount  amount_funded  amount_remaining  \\\n",
       "0             Completed         27000.0        27000.0               0.0   \n",
       "1             Completed          9000.0         9000.0               0.0   \n",
       "2             Completed         12000.0        12000.0               0.0   \n",
       "3             Completed          7600.0         7600.0               0.0   \n",
       "4             Completed          3000.0         3000.0               0.0   \n",
       "\n",
       "   percent_funded  partial_funding_indicator  funding_threshold  \\\n",
       "0             1.0                      False                1.0   \n",
       "1             1.0                       True                0.7   \n",
       "2             1.0                       True                0.7   \n",
       "3             1.0                       True                0.7   \n",
       "4             1.0                      False                1.0   \n",
       "\n",
       "  prosper_rating  estimated_return  estimated_loss_rate  lender_yield  \\\n",
       "0              B            0.0664               0.0494        0.1174   \n",
       "1              B            0.0645               0.0464        0.1124   \n",
       "2             AA            0.0506               0.0187        0.0699   \n",
       "3              D            0.0983               0.1064        0.2124   \n",
       "4              A            0.0515               0.0253        0.0774   \n",
       "\n",
       "   effective_yield  borrower_rate  borrower_apr  listing_term  \\\n",
       "0           0.1158         0.1274        0.1636            36   \n",
       "1           0.1109         0.1224        0.1585            36   \n",
       "2           0.0693         0.0799        0.0973            60   \n",
       "3           0.2047         0.2224        0.2477            60   \n",
       "4           0.0768         0.0874        0.1095            60   \n",
       "\n",
       "   listing_monthly_payment  prosper_score  listing_category_id  income_range  \\\n",
       "0                   906.36            9.0                    1             4   \n",
       "1                   299.96            9.0                    1             4   \n",
       "2                   243.26           11.0                    1             4   \n",
       "3                   210.94            7.0                    1             3   \n",
       "4                    61.90           10.0                    1             4   \n",
       "\n",
       "  income_range_description  stated_monthly_income  \\\n",
       "0           $50,000-74,999              5560.0000   \n",
       "1           $50,000-74,999              4166.6667   \n",
       "2           $50,000-74,999              5666.6667   \n",
       "3           $25,000-49,999              3200.0000   \n",
       "4           $50,000-74,999              5541.6667   \n",
       "\n",
       "  employment_status_description          occupation  months_employed  \\\n",
       "0                      Employed       Civil Service            120.0   \n",
       "1                      Employed        Professional            162.0   \n",
       "2                      Employed             Teacher             92.0   \n",
       "3                      Employed  Medical Technician             33.0   \n",
       "4                         Other                 NaN             35.0   \n",
       "\n",
       "   prior_prosper_loans_active  prior_prosper_loans  \\\n",
       "0                           0                    2   \n",
       "1                           0                    0   \n",
       "2                           0                    0   \n",
       "3                           0                    0   \n",
       "4                           1                    1   \n",
       "\n",
       "   prior_prosper_loans_principal_borrowed  \\\n",
       "0                                 18000.0   \n",
       "1                                     NaN   \n",
       "2                                     NaN   \n",
       "3                                     NaN   \n",
       "4                                 17000.0   \n",
       "\n",
       "   prior_prosper_loans_principal_outstanding  \\\n",
       "0                                       0.00   \n",
       "1                                        NaN   \n",
       "2                                        NaN   \n",
       "3                                        NaN   \n",
       "4                                   12770.14   \n",
       "\n",
       "   prior_prosper_loans_cycles_billed  prior_prosper_loans_ontime_payments  \\\n",
       "0                                3.0                                  3.0   \n",
       "1                                NaN                                  NaN   \n",
       "2                                NaN                                  NaN   \n",
       "3                                NaN                                  NaN   \n",
       "4                                0.0                                  0.0   \n",
       "\n",
       "   prior_prosper_loans_late_cycles  \\\n",
       "0                              0.0   \n",
       "1                              NaN   \n",
       "2                              NaN   \n",
       "3                              NaN   \n",
       "4                              0.0   \n",
       "\n",
       "   prior_prosper_loans_late_payments_one_month_plus  max_prior_prosper_loan  \\\n",
       "0                                               0.0                 15000.0   \n",
       "1                                               NaN                     NaN   \n",
       "2                                               NaN                     NaN   \n",
       "3                                               NaN                     NaN   \n",
       "4                                               0.0                 17000.0   \n",
       "\n",
       "   min_prior_prosper_loan  lender_indicator  group_indicator  channel_code  \\\n",
       "0                  3000.0                 0            False         80000   \n",
       "1                     NaN                 0            False         40000   \n",
       "2                     NaN                 0            False         40000   \n",
       "3                     NaN                 0            False         40000   \n",
       "4                 17000.0                 0            False         80000   \n",
       "\n",
       "   investment_typeid investment_type_description  AT01S  AT02S  AT03S  AT06S  \\\n",
       "0                  3                       Whole   29.0   10.0   10.0    1.0   \n",
       "1                  1                  Fractional   27.0    4.0    4.0    0.0   \n",
       "2                  3                       Whole   25.0   16.0   16.0    0.0   \n",
       "3                  3                       Whole   11.0    8.0    8.0    0.0   \n",
       "4                  3                       Whole   13.0    9.0    9.0    1.0   \n",
       "\n",
       "   AT09S  AT12S  AT20S  AT21S  AT24S  AT25S  AT27S     AT28A    AT28B  AT29S  \\\n",
       "0    2.0   10.0  209.0    6.0   10.0    9.0    8.0  208750.0  42500.0    9.0   \n",
       "1    1.0    4.0  236.0   22.0    4.0    4.0    3.0  346250.0  19250.0    4.0   \n",
       "2    1.0   16.0  220.0   19.0   16.0   16.0   15.0  297276.0  80966.0   15.0   \n",
       "3    3.0    8.0  142.0    9.0    8.0    7.0    5.0   63784.0  63784.0    7.0   \n",
       "4    6.0    9.0  215.0    1.0    8.0    6.0    3.0   44744.0  44744.0    6.0   \n",
       "\n",
       "      AT32S  AT34A  AT34B    AT35A   AT35B  AT36S  AT57S    AT101S   AT101B  \\\n",
       "0   83232.0   60.0   63.0  12421.0  3327.0   71.0    0.0  124207.0  26619.0   \n",
       "1  289268.0   86.0   46.0  74539.0  2963.0    0.0    0.0  301278.0  12010.0   \n",
       "2  211242.0   89.0   67.0  16592.0  3616.0  999.0    0.0  265478.0  54236.0   \n",
       "3   34001.0   82.0   82.0   6543.0  6543.0  999.0    0.0   52346.0  52346.0   \n",
       "4   13213.0   43.0   43.0   2134.0  2134.0   66.0    0.0   19210.0  19210.0   \n",
       "\n",
       "   AU01S  AU02S  AU03S  AU06S  AU09S  AU12S  AU20S  AU21S  AU24S  AU25S  \\\n",
       "0    0.0   -1.0   -1.0   -1.0   -1.0   -1.0   -1.0   -1.0   -1.0   -1.0   \n",
       "1    2.0    0.0   -3.0    0.0    0.0   -3.0  134.0   73.0   -3.0   -3.0   \n",
       "2    2.0    1.0    1.0    0.0    0.0    1.0   80.0   42.0    1.0    1.0   \n",
       "3    1.0    1.0    1.0    0.0    1.0    1.0   17.0   17.0    1.0    1.0   \n",
       "4    2.0    1.0    1.0    0.0    1.0    1.0   77.0   14.0    1.0    1.0   \n",
       "\n",
       "   AU27S    AU28S  AU29S    AU32S  AU34S    AU35S  AU36S  AU57S   AU101S  \\\n",
       "0   -1.0     -1.0   -1.0     -1.0   -1.0     -1.0   -1.0   -1.0     -1.0   \n",
       "1   -3.0     -3.0   -3.0     -3.0   -3.0     -3.0  999.0   -3.0     -2.0   \n",
       "2    1.0  11766.0    1.0   3900.0   33.0   3900.0  999.0    0.0   3900.0   \n",
       "3   -6.0  40184.0    1.0  34001.0   85.0  34001.0  999.0    0.0  34001.0   \n",
       "4   -6.0   6044.0    1.0   4658.0   77.0   4658.0  999.0    0.0   4658.0   \n",
       "\n",
       "   BC01S  BC02S  BC03S  BC06S  BC09S  BC12S  BC20S  BC21S  BC24S  BC25S  \\\n",
       "0    7.0    3.0    3.0    0.0    0.0    3.0  209.0   30.0    3.0    3.0   \n",
       "1   10.0    3.0    3.0    0.0    1.0    3.0  236.0   22.0    3.0    3.0   \n",
       "2    5.0    4.0    4.0    0.0    0.0    4.0  220.0  161.0    4.0    4.0   \n",
       "3    2.0    2.0    2.0    0.0    0.0    2.0   29.0   27.0    2.0    2.0   \n",
       "4    5.0    4.0    4.0    1.0    2.0    4.0  215.0    1.0    3.0    2.0   \n",
       "\n",
       "   BC27S    BC28S  BC29S   BC32S  BC34S   BC35S  BC36S  BC57S   BC101S  \\\n",
       "0    3.0  17900.0    3.0  7269.0   96.0  5732.0   71.0    0.0  17197.0   \n",
       "1    2.0  19250.0    3.0  6495.0   46.0  2963.0    0.0    0.0  12010.0   \n",
       "2    4.0  25000.0    4.0  6988.0   54.0  3402.0  999.0    0.0  13608.0   \n",
       "3    2.0   2600.0    2.0   841.0   64.0   838.0  999.0    0.0   1675.0   \n",
       "4    2.0  19400.0    4.0   829.0    7.0   335.0   66.0    0.0   1339.0   \n",
       "\n",
       "   BC102S  BC103S  BC106S  BC107S  BC108S  BC110S  CO01S  CO02S  CO03S  CO04S  \\\n",
       "0  5967.0  5732.0     0.0     3.0     0.0     0.0    0.0   -1.0   -1.0   -1.0   \n",
       "1  6417.0  2402.0     1.0    33.0    63.0  2757.0    1.0    0.0    0.0   34.0   \n",
       "2  6250.0  3402.0     0.0     0.0     0.0     0.0    0.0   -1.0   -1.0   -1.0   \n",
       "3  1300.0   838.0     0.0     0.0     0.0     0.0    0.0   -1.0   -1.0   -1.0   \n",
       "4  4850.0   335.0     0.0     2.0     0.0     0.0    0.0   -1.0   -1.0   -1.0   \n",
       "\n",
       "    CO05S  CO06S  CO07S  G001B  G002B  G003S  G020S  G041S  G042S  G043S  \\\n",
       "0    -1.0   -1.0   -1.0    0.0    0.0    0.0   12.0    1.0    0.0    0.0   \n",
       "1  2757.0   -2.0   -2.0   13.0   13.0   13.0   12.0    5.0    5.0    5.0   \n",
       "2    -1.0   -1.0   -1.0    0.0    0.0    0.0   18.0    0.0    0.0    0.0   \n",
       "3    -1.0   -1.0   -1.0    0.0    0.0    0.0   10.0    0.0    0.0    0.0   \n",
       "4    -1.0   -1.0   -1.0    0.0    0.0    0.0   10.0    1.0    1.0    0.0   \n",
       "\n",
       "   G051S  G057S  G058S  G059S  G061S  G063S  G064S  G066S  G068S  G069S  \\\n",
       "0    3.0    0.0    0.0    0.0    0.0    0.0    0.0    0.0    0.0    0.0   \n",
       "1   19.0    1.0    1.0    1.0    1.0    1.0    1.0    1.0    1.0    1.0   \n",
       "2    0.0    0.0    0.0    0.0    0.0    0.0    0.0    0.0    0.0    0.0   \n",
       "3    0.0    0.0    0.0    0.0    0.0    0.0    0.0    0.0    0.0    0.0   \n",
       "4    8.0    0.0    0.0    0.0    0.0    0.0    0.0    0.0    0.0    0.0   \n",
       "\n",
       "   G071S  G093S  G094S  G095S  G099S  G100S  G102S  G103S  G104S  G105S  \\\n",
       "0    0.0    0.0   -4.0   -4.0   -4.0    0.0   -4.0   -4.0   -4.0   -4.0   \n",
       "1    1.0    0.0   -4.0   -4.0   -4.0    0.0   -4.0   -4.0   -4.0   -4.0   \n",
       "2    0.0    0.0   -4.0   -4.0   -4.0    0.0   20.0   20.0   -1.0   20.0   \n",
       "3    0.0    1.0    1.0   98.0    0.0    0.0   17.0   17.0   -1.0   -1.0   \n",
       "4    0.0    0.0   -4.0   -4.0   -4.0    0.0   10.0   10.0   -1.0   -1.0   \n",
       "\n",
       "   G209S   G210S   G211S  G212S   G217S  G218B  G218D  G219B  G219D  G220B  \\\n",
       "0   -1.0    -1.0    -1.0   -1.0     0.0    0.0    0.0    0.0    0.0    0.0   \n",
       "1  146.0  2757.0  2757.0    0.0  2757.0    1.0    1.0    1.0    1.0    1.0   \n",
       "2   -1.0    -1.0    -1.0   -1.0     0.0    0.0    0.0    0.0    0.0    0.0   \n",
       "3   -1.0    -1.0    -1.0   -1.0     0.0    0.0    0.0    0.0    0.0    0.0   \n",
       "4   -1.0    -1.0    -1.0   -1.0     0.0    0.0    0.0    0.0    0.0    0.0   \n",
       "\n",
       "   G220D  G221B  G221D  G222S  G223S   G225S  G226S  G227S  G228S  G230S  \\\n",
       "0    0.0    0.0    0.0   -2.0   -1.0    -1.0   -1.0   -1.0   -1.0   -1.0   \n",
       "1    1.0    1.0    1.0    3.0    3.0  2757.0   -3.0   -3.0   -1.0   -1.0   \n",
       "2    0.0    0.0    0.0   -1.0   -1.0    -1.0   -3.0   -3.0   -1.0   -1.0   \n",
       "3    0.0    0.0    0.0   -1.0   -1.0    -1.0   -1.0   -1.0   -1.0   -1.0   \n",
       "4    0.0    0.0    0.0   -2.0   -2.0    -1.0   -1.0   -1.0   -1.0   -1.0   \n",
       "\n",
       "   G231S  G232S  G233S  G234S  G235S  G236S  G237S  G238S  G239S  G240S  \\\n",
       "0   -4.0    0.0   -4.0   -4.0   -1.0   -4.0   -4.0   -4.0   -4.0   -4.0   \n",
       "1   -4.0    0.0   -4.0   -4.0    0.0   -4.0   -4.0   -4.0   -4.0   -4.0   \n",
       "2    0.0    2.0   -1.0    0.0   -1.0    2.0    0.0    0.0   -1.0    2.0   \n",
       "3    0.0    2.0   -1.0    0.0   -1.0    2.0    0.0    0.0   -1.0    0.0   \n",
       "4    0.0    3.0   -1.0    0.0   -1.0    3.0    0.0    1.0   -1.0    0.0   \n",
       "\n",
       "   G241S  G960S  G980S  G990S  HI01S  HI02S  HI03S  HI06S  HI09S  HI12S  \\\n",
       "0   -4.0   -4.0   -4.0   -4.0    0.0   -1.0   -1.0   -1.0   -1.0   -1.0   \n",
       "1   -4.0   -4.0   -4.0   -4.0    0.0   -1.0   -1.0   -1.0   -1.0   -1.0   \n",
       "2    0.0    1.0    0.0    0.0    0.0   -1.0   -1.0   -1.0   -1.0   -1.0   \n",
       "3   -1.0    1.0    0.0    0.0    0.0   -1.0   -1.0   -1.0   -1.0   -1.0   \n",
       "4   -1.0    3.0    0.0    1.0    0.0   -1.0   -1.0   -1.0   -1.0   -1.0   \n",
       "\n",
       "   HI20S  HI21S  HI24S  HI25S  HI27S  HI28S  HI29S  HI32S  HI34S  HI35S  \\\n",
       "0   -1.0   -1.0   -1.0   -1.0   -1.0   -1.0   -1.0   -1.0   -1.0   -1.0   \n",
       "1   -1.0   -1.0   -1.0   -1.0   -1.0   -1.0   -1.0   -1.0   -1.0   -1.0   \n",
       "2   -1.0   -1.0   -1.0   -1.0   -1.0   -1.0   -1.0   -1.0   -1.0   -1.0   \n",
       "3   -1.0   -1.0   -1.0   -1.0   -1.0   -1.0   -1.0   -1.0   -1.0   -1.0   \n",
       "4   -1.0   -1.0   -1.0   -1.0   -1.0   -1.0   -1.0   -1.0   -1.0   -1.0   \n",
       "\n",
       "   HI36S  HI57S  HI101S  HR01S  HR02S  HR03S  HR06S  HR09S  HR12S  HR20S  \\\n",
       "0   -1.0   -1.0    -1.0    1.0    1.0    1.0    0.0    0.0    1.0   44.0   \n",
       "1   -1.0   -1.0    -1.0    0.0   -1.0   -1.0   -1.0   -1.0   -1.0   -1.0   \n",
       "2   -1.0   -1.0    -1.0    0.0   -1.0   -1.0   -1.0   -1.0   -1.0   -1.0   \n",
       "3   -1.0   -1.0    -1.0    0.0   -1.0   -1.0   -1.0   -1.0   -1.0   -1.0   \n",
       "4   -1.0   -1.0    -1.0    0.0   -1.0   -1.0   -1.0   -1.0   -1.0   -1.0   \n",
       "\n",
       "   HR21S  HR24S  HR25S  HR27S    HR28S  HR29S    HR32S  HR34S    HR35S  HR36S  \\\n",
       "0   44.0    1.0    1.0    1.0  15000.0    1.0  14356.0   96.0  14356.0  999.0   \n",
       "1   -1.0   -1.0   -1.0   -1.0     -1.0   -1.0     -1.0   -1.0     -1.0   -1.0   \n",
       "2   -1.0   -1.0   -1.0   -1.0     -1.0   -1.0     -1.0   -1.0     -1.0   -1.0   \n",
       "3   -1.0   -1.0   -1.0   -1.0     -1.0   -1.0     -1.0   -1.0     -1.0   -1.0   \n",
       "4   -1.0   -1.0   -1.0   -1.0     -1.0   -1.0     -1.0   -1.0     -1.0   -1.0   \n",
       "\n",
       "   HR57S   HR101S  IN01S  IN02S  IN03S  IN06S  IN09S  IN12S  IN20S  IN21S  \\\n",
       "0    0.0  14356.0   15.0    1.0    1.0    0.0    0.0    1.0   98.0   27.0   \n",
       "1   -1.0     -1.0   15.0    0.0   -3.0    0.0    0.0   -3.0  160.0   73.0   \n",
       "2   -1.0     -1.0   16.0   10.0   10.0    0.0    0.0   10.0  158.0   42.0   \n",
       "3   -1.0     -1.0    4.0    3.0    3.0    0.0    1.0    3.0  142.0   17.0   \n",
       "4   -1.0     -1.0    4.0    2.0    2.0    0.0    2.0    2.0   77.0   10.0   \n",
       "\n",
       "   IN24S  IN25S  IN27S    IN28S  IN29S    IN32S  IN34S    IN35S  IN36S  IN57S  \\\n",
       "0    1.0    1.0    1.0  10100.0    1.0   6397.0   63.0   6397.0  999.0    0.0   \n",
       "1   -3.0   -3.0   -3.0     -3.0   -3.0     -3.0   -3.0     -3.0  999.0   -3.0   \n",
       "2   10.0   10.0   10.0  53966.0   10.0   5341.0   75.0   4063.0  999.0    0.0   \n",
       "3    3.0    3.0    2.0  52684.0    3.0  34001.0   89.0  15647.0  999.0    0.0   \n",
       "4    2.0    1.0   -6.0  23044.0    2.0  13213.0   78.0   8936.0  999.0    0.0   \n",
       "\n",
       "    IN101S  MT01S  MT02S  MT03S  MT06S  MT09S  MT12S  MT20S  MT21S  MT24S  \\\n",
       "0   6397.0    2.0    1.0    1.0    0.0    0.0    1.0  174.0  112.0    1.0   \n",
       "1      0.0    2.0    1.0    1.0    0.0    0.0    1.0  103.0   77.0    1.0   \n",
       "2  40628.0    1.0    1.0    1.0    0.0    1.0    1.0   19.0   19.0    1.0   \n",
       "3  46941.0    0.0   -1.0   -1.0   -1.0   -1.0   -1.0   -1.0   -1.0   -1.0   \n",
       "4  17871.0    0.0   -1.0   -1.0   -1.0   -1.0   -1.0   -1.0   -1.0   -1.0   \n",
       "\n",
       "   MT25S  MT27S     MT28S  MT29S     MT32S  MT34S  MT34B  MT34C     MT35S  \\\n",
       "0    1.0    1.0  151250.0    1.0   83232.0   55.0   55.0   55.0   83232.0   \n",
       "1    1.0    1.0  327000.0    1.0  289268.0   88.0   88.0   88.0  289268.0   \n",
       "2    1.0   -6.0  216310.0    1.0  211242.0   98.0   98.0   98.0  211242.0   \n",
       "3   -1.0   -1.0      -1.0   -1.0      -1.0   -1.0   -1.0   -1.0      -1.0   \n",
       "4   -1.0   -1.0      -1.0   -1.0      -1.0   -1.0   -1.0   -1.0      -1.0   \n",
       "\n",
       "   MT36S  MT47S  MT57S    MT101S  OF01S  RE01S  RE02S  RE03S  RE06S  RE09S  \\\n",
       "0  999.0    0.0    0.0   83232.0    0.0   12.0    8.0    8.0    1.0    2.0   \n",
       "1  999.0    0.0    0.0  289268.0    0.0   10.0    3.0    3.0    0.0    1.0   \n",
       "2  999.0    0.0    0.0  211242.0    0.0    8.0    5.0    5.0    0.0    0.0   \n",
       "3   -1.0   -1.0   -1.0      -1.0    1.0    7.0    5.0    5.0    0.0    2.0   \n",
       "4   -1.0   -1.0   -1.0      -1.0    1.0    9.0    7.0    7.0    1.0    4.0   \n",
       "\n",
       "   RE12S  RE20S  RE21S  RE24S  RE25S  RE27S    RE28S  RE29S    RE32S    RE33S  \\\n",
       "0    8.0  209.0    6.0    8.0    7.0    6.0  47400.0    7.0  14356.0  34578.0   \n",
       "1    3.0  236.0   22.0    3.0    3.0    2.0  19250.0    3.0   6495.0   8888.0   \n",
       "2    5.0  220.0  118.0    5.0    5.0    5.0  27000.0    4.0   6988.0  13608.0   \n",
       "3    5.0   29.0    9.0    5.0    4.0    3.0  11100.0    4.0   2006.0   5405.0   \n",
       "4    7.0  215.0    1.0    6.0    5.0    3.0  21700.0    4.0    829.0   1339.0   \n",
       "\n",
       "   RE34S   RE35S  RE36S  RE57S   RE101S  RE102S  RT01S  RT02S  RT03S  RT06S  \\\n",
       "0   73.0  4322.0   71.0    0.0  34578.0  5925.0    4.0    4.0    4.0    1.0   \n",
       "1   46.0  2963.0    0.0    0.0  12010.0  6417.0    0.0   -1.0   -1.0   -1.0   \n",
       "2   50.0  2722.0  999.0    0.0  13608.0  5400.0    3.0    1.0    1.0    0.0   \n",
       "3   49.0  1081.0  999.0    0.0   5405.0  2220.0    5.0    3.0    3.0    0.0   \n",
       "4    6.0   191.0   66.0    0.0   1339.0  3100.0    4.0    3.0    3.0    0.0   \n",
       "\n",
       "   RT09S  RT12S  RT20S  RT21S  RT24S  RT25S  RT27S    RT28S  RT29S   RT32S  \\\n",
       "0    2.0    4.0  114.0    6.0    4.0    3.0    2.0  14500.0    3.0  1838.0   \n",
       "1   -1.0   -1.0   -1.0   -1.0   -1.0   -1.0   -1.0     -1.0   -1.0    -1.0   \n",
       "2    0.0    1.0  142.0  118.0    1.0    1.0    1.0   2000.0    0.0     0.0   \n",
       "3    2.0    3.0   25.0    9.0    3.0    2.0    1.0   8500.0    2.0  2006.0   \n",
       "4    2.0    3.0  172.0   21.0    3.0    3.0    1.0   2300.0    0.0     0.0   \n",
       "\n",
       "   RT34S   RT35S  RT36S  RT57S  RT101S  RT201S  S004S  S061S  S062S   S064A  \\\n",
       "0   21.0   756.0  999.0    0.0  3025.0  1838.0   79.0  999.0  999.0    -4.0   \n",
       "1   -1.0    -1.0   -1.0   -1.0    -1.0    -1.0  142.0    0.0    0.0  6724.0   \n",
       "2    0.0     0.0  999.0    0.0     0.0     0.0  133.0  999.0  999.0    -4.0   \n",
       "3   44.0  1243.0  999.0    0.0  3730.0  2006.0   35.0  999.0  999.0   115.0   \n",
       "4    0.0     0.0  999.0    0.0     0.0     0.0   66.0   66.0  999.0    -4.0   \n",
       "\n",
       "   S068A  S071A  ST01S  ST02S  ST03S  ST06S  ST09S  ST12S  ST20S  ST21S  \\\n",
       "0    0.0   -4.0    0.0   -1.0   -1.0   -1.0   -1.0   -1.0   -1.0   -1.0   \n",
       "1    2.0    2.0   13.0    0.0   -3.0    0.0    0.0   -3.0  160.0  135.0   \n",
       "2    0.0   -4.0   13.0    9.0    9.0    0.0    0.0    9.0  158.0  123.0   \n",
       "3    1.0    1.0    2.0    2.0    2.0    0.0    0.0    2.0   38.0   31.0   \n",
       "4    0.0   -4.0    0.0   -1.0   -1.0   -1.0   -1.0   -1.0   -1.0   -1.0   \n",
       "\n",
       "   ST24S  ST25S  ST27S    ST28S  ST29S   ST32S  ST34S   ST35S  ST36S  ST45S  \\\n",
       "0   -1.0   -1.0   -1.0     -1.0   -1.0    -1.0   -1.0    -1.0   -1.0   -1.0   \n",
       "1   -3.0   -3.0   -3.0     -3.0   -3.0    -3.0   -3.0    -3.0  999.0   -1.0   \n",
       "2    9.0    9.0    9.0  42200.0    9.0  5341.0   87.0  4081.0  999.0  158.0   \n",
       "3    2.0    2.0    2.0  12500.0    2.0  7407.0  104.0  6470.0  999.0   38.0   \n",
       "4   -1.0   -1.0   -1.0     -1.0   -1.0    -1.0   -1.0    -1.0   -1.0   -1.0   \n",
       "\n",
       "   ST50S  ST57S  ST99S   ST101S  ATAP01  HIAP01  HRAP01  INAP01  MTAP01  \\\n",
       "0   -1.0   -1.0   -1.0     -1.0  2391.0    -1.0   115.0   273.0  1361.0   \n",
       "1    0.0   -3.0   -5.0      0.0  2645.0    -1.0    -1.0    -3.0  2309.0   \n",
       "2    0.0    0.0   -5.0  36728.0  2624.0    -1.0    -1.0   521.0  1722.0   \n",
       "3    0.0    0.0   -5.0  12940.0   951.0    -1.0    -1.0   779.0    -1.0   \n",
       "4   -1.0   -1.0   -1.0     -1.0   809.0    -1.0    -1.0   687.0    -1.0   \n",
       "\n",
       "   REAP01  S063S  S063A  S207S  S207A  G106S  G099A  S206S  S209S   S204S  \\\n",
       "0   757.0   -4.0   -4.0   -4.0   -1.0  399.0   -1.0   -4.0   -4.0    -4.0   \n",
       "1   336.0   -4.0   -4.0   -4.0   -1.0  369.0   -1.0   -4.0   33.0  5700.0   \n",
       "2   381.0   -4.0   -4.0   -4.0   -1.0  208.0   -1.0   -4.0   -4.0    -4.0   \n",
       "3   172.0   -2.0   -5.0   98.0   -1.0  192.0   -1.0   -5.0   12.0   115.0   \n",
       "4   122.0   -4.0   -4.0   -4.0   -1.0  473.0   -1.0   -4.0   -4.0    -4.0   \n",
       "\n",
       "   G242S  G243S  G244S  CV01  CV04  CV10  CV11  CV12  CV13  CV14  CV15  CV16  \\\n",
       "0   -4.0   -4.0   -4.0  -1.0  -6.0   1.0   0.0   0.0   3.0   0.0  -6.0  -6.0   \n",
       "1   -4.0   -4.0   -4.0  34.0  33.0   5.0   5.0   5.0  19.0   0.0  -6.0  -6.0   \n",
       "2    0.0    0.0    0.0  -1.0  -6.0   0.0   0.0   0.0   0.0   1.0   0.0   1.0   \n",
       "3    0.0    0.0    0.0  -1.0  12.0   0.0   0.0   0.0   0.0   1.0   1.0   0.0   \n",
       "4    0.0    0.0    1.0  -1.0  -6.0   1.0   1.0   0.0   8.0   3.0   1.0   0.0   \n",
       "\n",
       "   CV17  CV18      CV19    CV20    CV21     CV22   CV23   CV24 TUFicoRange  \\\n",
       "0  -7.0  -1.0  124207.0  2391.0  2412.0  17197.0  514.0  374.0     700-719   \n",
       "1   3.0   3.0  301278.0  2562.0  2460.0  12010.0  253.0  150.0     680-699   \n",
       "2  -1.0  -1.0  265478.0  2624.0  2243.0  13608.0  381.0   -2.0     740-759   \n",
       "3  -1.0  -1.0   52346.0   951.0   827.0    834.0   27.0   -2.0     640-659   \n",
       "4  -7.0  -7.0   19210.0   809.0   687.0   1339.0  122.0   -2.0     740-759   \n",
       "\n",
       "  TUFicoDate  dti_wprosper_loan  CoBorrowerApplication  \n",
       "0    50:40.6               0.35                  False  \n",
       "1    44:44.6               0.15                  False  \n",
       "2    46:01.0               0.20                  False  \n",
       "3    47:09.1               0.36                  False  \n",
       "4    56:11.4               0.16                  False  "
      ]
     },
     "execution_count": 13,
     "metadata": {},
     "output_type": "execute_result"
    }
   ],
   "source": [
    "combined.head()"
   ]
  },
  {
   "cell_type": "code",
   "execution_count": 15,
   "metadata": {},
   "outputs": [
    {
     "data": {
      "text/plain": [
       "False    500496\n",
       "True        716\n",
       "Name: group_indicator, dtype: int64"
      ]
     },
     "execution_count": 15,
     "metadata": {},
     "output_type": "execute_result"
    }
   ],
   "source": [
    "combined['group_indicator'].value_counts()"
   ]
  },
  {
   "cell_type": "markdown",
   "metadata": {},
   "source": [
    "### Data Cleaning (dealing with NaN values)"
   ]
  },
  {
   "cell_type": "code",
   "execution_count": 28,
   "metadata": {},
   "outputs": [
    {
     "data": {
      "text/plain": [
       "(500367, 368)"
      ]
     },
     "execution_count": 28,
     "metadata": {},
     "output_type": "execute_result"
    }
   ],
   "source": [
    "combined = combined.loc[combined['AT01S'].isnull() == False]\n",
    "combined = combined.loc[combined['RT35S'].isnull() == False]\n",
    "combined.shape"
   ]
  },
  {
   "cell_type": "code",
   "execution_count": 29,
   "metadata": {},
   "outputs": [],
   "source": [
    "#fill missing prosper scores with its median\n",
    "prosper_median = combined['prosper_score'].median()\n",
    "combined['prosper_score'] = combined['prosper_score'].fillna(prosper_median)"
   ]
  },
  {
   "cell_type": "code",
   "execution_count": 30,
   "metadata": {},
   "outputs": [],
   "source": [
    "#replace the missing values in occupation with the second most common value - professional (the most common one is Other)\n",
    "combined['occupation'] = combined['occupation'].fillna('Professional')"
   ]
  },
  {
   "cell_type": "code",
   "execution_count": 31,
   "metadata": {},
   "outputs": [],
   "source": [
    "#fill missing values in months employed with its median\n",
    "employed_median = combined['months_employed'].median()\n",
    "combined['months_employed'] = combined['months_employed'].fillna(employed_median)"
   ]
  },
  {
   "cell_type": "code",
   "execution_count": 32,
   "metadata": {},
   "outputs": [],
   "source": [
    "combined = combined.fillna(0)"
   ]
  },
  {
   "cell_type": "code",
   "execution_count": 33,
   "metadata": {},
   "outputs": [],
   "source": [
    "#convert percent_funded to % style\n",
    "combined['percent_funded'] = combined['percent_funded']*100"
   ]
  },
  {
   "cell_type": "markdown",
   "metadata": {},
   "source": [
    "### Prosper rating \n",
    "Prosper Ratings allow potential investors to easily consider a loan application's level of risk because the rating represents an estimated average annualized loss rate range to the investor. \n",
    "\n",
    "AA  0.00-1.99% = 6\\\n",
    "A\t2.00–3.99% = 5\\\n",
    "B\t4.00–5.99% = 4 \\\n",
    "C\t6.00–8.99% = 3 \\\n",
    "D\t9.00–11.99% = 2\\\n",
    "E\t12.00–14.99% = 1 \\\n",
    "HR\t≥ 15.00% = 0"
   ]
  },
  {
   "cell_type": "code",
   "execution_count": 34,
   "metadata": {},
   "outputs": [
    {
     "data": {
      "text/plain": [
       "B     120145\n",
       "C     116686\n",
       "A     114527\n",
       "AA     66705\n",
       "D      49711\n",
       "E      24933\n",
       "HR      7660\n",
       "Name: prosper_rating, dtype: int64"
      ]
     },
     "execution_count": 34,
     "metadata": {},
     "output_type": "execute_result"
    }
   ],
   "source": [
    "#examine the number of ratings in each category\n",
    "combined['prosper_rating'].value_counts()"
   ]
  },
  {
   "cell_type": "code",
   "execution_count": 35,
   "metadata": {},
   "outputs": [],
   "source": [
    "#convert categorical varaible - prosper rating to numerical ones (to include them in the model)\n",
    "def rating_nu(x):\n",
    "    if x == 'AA':\n",
    "        return 7\n",
    "    elif x == 'A':\n",
    "        return 6\n",
    "    elif x == 'B':\n",
    "        return 5\n",
    "    elif x == 'C':\n",
    "        return 4 \n",
    "    elif x == 'D':\n",
    "        return 3\n",
    "    elif x == 'E':\n",
    "        return 2\n",
    "    elif x == 'HR':\n",
    "        return 1\n",
    "    \n",
    "combined['prosper_rating_nu'] = combined['prosper_rating'].apply(lambda x: rating_nu(x))"
   ]
  },
  {
   "cell_type": "markdown",
   "metadata": {},
   "source": [
    "### FICO score"
   ]
  },
  {
   "cell_type": "code",
   "execution_count": 36,
   "metadata": {},
   "outputs": [
    {
     "data": {
      "text/plain": [
       "700-719    90163\n",
       "680-699    86729\n",
       "720-739    74851\n",
       "660-679    73824\n",
       "740-759    52999\n",
       "640-659    45206\n",
       "760-779    34106\n",
       "780-799    23921\n",
       "800-819    13799\n",
       "820-850     4769\n",
       "Name: TUFicoRange, dtype: int64"
      ]
     },
     "execution_count": 36,
     "metadata": {},
     "output_type": "execute_result"
    }
   ],
   "source": [
    "#examine the number of individuals in each FICO range\n",
    "combined['TUFicoRange'].value_counts()"
   ]
  },
  {
   "cell_type": "code",
   "execution_count": 37,
   "metadata": {},
   "outputs": [],
   "source": [
    "# convert fico score range to numerical ones, 10 is the highest\n",
    "def fico_range_nu(x):\n",
    "    if x == '820-850':\n",
    "        return 10\n",
    "    if x == '800-819':\n",
    "        return 9\n",
    "    elif x == '780-799':\n",
    "        return 8\n",
    "    elif x == '760-779':\n",
    "        return 7\n",
    "    elif x == '740-759':\n",
    "        return 6\n",
    "    elif x == '720-739':\n",
    "        return 5\n",
    "    elif x == '700-719':\n",
    "        return 4\n",
    "    elif x == '680-699':\n",
    "        return 3 \n",
    "    elif x == '660-679':\n",
    "        return 2\n",
    "    elif x == '640-659':\n",
    "        return 1\n",
    "    \n",
    "combined['TUFicoRange_Nu'] = combined['TUFicoRange'].apply(lambda x: fico_range_nu(x))"
   ]
  },
  {
   "cell_type": "code",
   "execution_count": 38,
   "metadata": {},
   "outputs": [],
   "source": [
    "# convert the rest of the categorical variables into numerical ones\n",
    "combined['listing_status_reason'] = combined['listing_status_reason'].astype('category')\n",
    "combined['listing_status_reason_Nu'] = combined['listing_status_reason'].cat.codes\n",
    "combined['partial_funding_indicator'] = combined['partial_funding_indicator'].astype('category')\n",
    "combined['partial_funding_indicator_Nu'] = combined['partial_funding_indicator'].cat.codes\n",
    "combined['employment_status_description'] = combined['employment_status_description'].astype('category')\n",
    "combined['employment_status_description_Nu'] = combined['employment_status_description'].cat.codes\n",
    "combined['occupation'] = combined['occupation'].astype('category')\n",
    "combined['occupation_Nu'] = combined['occupation'].cat.codes\n",
    "combined['investment_type_description'] = combined['investment_type_description'].astype('category')\n",
    "combined['investment_type_description_Nu'] = combined['investment_type_description'].cat.codes\n",
    "combined['CoBorrowerApplication'] = combined['CoBorrowerApplication'].astype('category')\n",
    "combined['CoBorrowerApplication_Nu'] = combined['CoBorrowerApplication'].cat.codes"
   ]
  },
  {
   "cell_type": "code",
   "execution_count": 39,
   "metadata": {},
   "outputs": [
    {
     "name": "stdout",
     "output_type": "stream",
     "text": [
      "(500367, 376)\n"
     ]
    }
   ],
   "source": [
    "print(combined.shape)"
   ]
  },
  {
   "cell_type": "markdown",
   "metadata": {},
   "source": [
    "### Estimated loss rate with defined classes "
   ]
  },
  {
   "cell_type": "code",
   "execution_count": 40,
   "metadata": {},
   "outputs": [],
   "source": [
    "# create 10 elr classes with equal intervals\n",
    "min = 0.002700\n",
    "max = 0.177500\n",
    "bins = (0.177500-0.002700) / 10\n",
    "\n",
    "def elr_class(x):\n",
    "    if x <= min + bins:\n",
    "        return 1 \n",
    "    elif min + bins < x <= min + 2 * bins:\n",
    "        return 2\n",
    "    elif min + 2 * bins < x <= min + 3 * bins:\n",
    "        return 3\n",
    "    elif min + 3 * bins < x <= min + 4 * bins:\n",
    "        return 4\n",
    "    elif min + 4 * bins < x <= min + 5 * bins:\n",
    "        return 5 \n",
    "    elif min + 5 * bins < x <= min + 6 * bins:\n",
    "        return 6\n",
    "    elif min + 6 * bins < x <= min + 7 * bins:\n",
    "        return 7\n",
    "    elif min + 7 * bins < x <= min + 8 * bins:\n",
    "        return 8\n",
    "    elif min + 8 * bins < x <= min + 9 * bins:\n",
    "        return 9\n",
    "    elif min + 9 * bins < x:\n",
    "        return 10\n",
    "\n",
    "combined['elr_bin10_class'] = combined['estimated_loss_rate'].apply(lambda x: elr_class(x))"
   ]
  },
  {
   "cell_type": "code",
   "execution_count": 41,
   "metadata": {},
   "outputs": [],
   "source": [
    "# create 5 elr classes with equal intervals\n",
    "bin5 = (0.177500-0.002700) / 5\n",
    "\n",
    "def elr_class_5(x):\n",
    "    if x <= min + bin5:\n",
    "        return 1 \n",
    "    elif min + bin5 < x <= min + 2 * bin5:\n",
    "        return 2\n",
    "    elif min + 2 * bin5 < x <= min + 3 * bin5:\n",
    "        return 3\n",
    "    elif min + 3 * bin5 < x <= min + 4 * bin5:\n",
    "        return 4\n",
    "    elif min + 4 * bin5 < x:\n",
    "        return 5 \n",
    "\n",
    "\n",
    "combined['elr_bin5_class'] = combined['estimated_loss_rate'].apply(lambda x: elr_class_5(x))"
   ]
  },
  {
   "cell_type": "code",
   "execution_count": 42,
   "metadata": {},
   "outputs": [],
   "source": [
    "bins20 = (0.177500-0.002700) / 20\n",
    "\n",
    "def elr_class20(x):\n",
    "    if x <= min + bins20:\n",
    "        return 1 \n",
    "    elif min + bins20 < x <= min + 2 * bins20:\n",
    "        return 2\n",
    "    elif min + 2 * bins20 < x <= min + 3 * bins20:\n",
    "        return 3\n",
    "    elif min + 3 * bins20 < x <= min + 4 * bins20:\n",
    "        return 4\n",
    "    elif min + 4 * bins20 < x <= min + 5 * bins20:\n",
    "        return 5 \n",
    "    elif min + 5 * bins20 < x <= min + 6 * bins20:\n",
    "        return 6\n",
    "    elif min + 6 * bins20 < x <= min + 7 * bins20:\n",
    "        return 7\n",
    "    elif min + 7 * bins20 < x <= min + 8 * bins20:\n",
    "        return 8\n",
    "    elif min + 8 * bins20 < x <= min + 9 * bins20:\n",
    "        return 9\n",
    "    elif min + 9 * bins20 < x <= min + 10 * bins20:\n",
    "        return 10\n",
    "    elif min + 10 * bins20 < x <= min + 11 * bins20:\n",
    "        return 11\n",
    "    elif min + 11 * bins20 < x <= min + 12 * bins20:\n",
    "        return 12\n",
    "    elif min + 12 * bins20 < x <= min + 13 * bins20:\n",
    "        return 13\n",
    "    elif min + 13 * bins20 < x <= min + 14 * bins20:\n",
    "        return 14\n",
    "    elif min + 14 * bins20 < x <= min + 15 * bins20:\n",
    "        return 15\n",
    "    elif min + 15 * bins20 < x <= min + 16 * bins20:\n",
    "        return 16\n",
    "    elif min + 16 * bins20 < x <= min + 17 * bins20:\n",
    "        return 17\n",
    "    elif min + 17 * bins20 < x <= min + 18 * bins20:\n",
    "        return 18\n",
    "    elif min + 18 * bins20 < x <= min + 19 * bins20:\n",
    "        return 19\n",
    "    elif min + 19 * bins20 < x:\n",
    "        return 20\n",
    "\n",
    "combined['elr_bin20_class'] = combined['estimated_loss_rate'].apply(lambda x: elr_class20(x))"
   ]
  },
  {
   "cell_type": "markdown",
   "metadata": {},
   "source": [
    "### Dealing with special labels (negative values) and drop unnecessary columns\n",
    "only get the numerical data to train the model"
   ]
  },
  {
   "cell_type": "markdown",
   "metadata": {},
   "source": [
    "#### special labels - TransUnion data elements \n",
    "-1\tNo trades this type \\\n",
    "-2\tNot verified in time period \\\n",
    "-3\tNo open trades this type \\\n",
    "-4\tNo trades on file \\\n",
    "-5\tCannot calculate (required data for calculation is missing)\\\n",
    "-6\tNo accounts on file \\\n",
    "-7\tNo trades opened for required time \\\n",
    "999\tNo detected event for “Months Since” attributes (e.g. at36S=999 means no delinquency information) \\\n"
   ]
  },
  {
   "cell_type": "code",
   "execution_count": 43,
   "metadata": {},
   "outputs": [],
   "source": [
    "#create a copy of combined, call it combined2 \n",
    "combined2 = combined.copy()"
   ]
  },
  {
   "cell_type": "code",
   "execution_count": 44,
   "metadata": {},
   "outputs": [],
   "source": [
    "#use listing_start_date as the sorting method, and drop the irrelevant columns \n",
    "combined2 = combined2.drop(['listing_end_date', 'listing_creation_date', 'member_key', 'listing_number'], axis = 1)"
   ]
  },
  {
   "cell_type": "code",
   "execution_count": 45,
   "metadata": {},
   "outputs": [],
   "source": [
    "#replace all the negative special labels by 0\n",
    "combined2_num = combined2._get_numeric_data()\n",
    "combined2_num[combined2_num < 0] = 0"
   ]
  },
  {
   "cell_type": "markdown",
   "metadata": {},
   "source": [
    "### In sample testing - use 01-01-2019 to 02-28-2020"
   ]
  },
  {
   "cell_type": "code",
   "execution_count": 46,
   "metadata": {},
   "outputs": [],
   "source": [
    "# test months from Jan 2019 to Feb 2020 (tried from July 2019 to Feb 2020, the in sample accuracy is below 70%, this sample period gives me 80%)\n",
    "sub1 = combined2.loc[(combined2['listing_start_date'] >= '2019-03-01') & (combined2['listing_start_date'] <= '2020-02-28')]"
   ]
  },
  {
   "cell_type": "code",
   "execution_count": 47,
   "metadata": {},
   "outputs": [
    {
     "name": "stdout",
     "output_type": "stream",
     "text": [
      "(181712, 363)\n"
     ]
    }
   ],
   "source": [
    "#only get numerical numbers to train the model\n",
    "sub1 = sub1.select_dtypes(include=np.number)\n",
    "print(sub1.shape)"
   ]
  },
  {
   "cell_type": "markdown",
   "metadata": {},
   "source": [
    "#### 5 classes elr "
   ]
  },
  {
   "cell_type": "code",
   "execution_count": 48,
   "metadata": {},
   "outputs": [],
   "source": [
    "#define X and y\n",
    "y = sub1['elr_bin5_class']\n",
    "X = sub1.drop(['estimated_loss_rate', 'elr_bin10_class', 'elr_bin5_class'], axis = 1)"
   ]
  },
  {
   "cell_type": "code",
   "execution_count": 49,
   "metadata": {},
   "outputs": [],
   "source": [
    "March_2020 = combined2.loc[(combined2['listing_start_date'] >= '2020-03-01') & (combined2['listing_start_date'] <= '2020-03-31')]"
   ]
  },
  {
   "cell_type": "code",
   "execution_count": 50,
   "metadata": {},
   "outputs": [],
   "source": [
    "elr_March = pd.DataFrame(March_2020['estimated_loss_rate'].value_counts())\n",
    "elr_March.sort_index(inplace = True)"
   ]
  },
  {
   "cell_type": "code",
   "execution_count": 51,
   "metadata": {},
   "outputs": [],
   "source": [
    "#80% of the data randomly selected to train the model, the rest of 20% is to test the model accuracy\n",
    "from sklearn.model_selection import train_test_split\n",
    "X_train, X_test, y_train, y_test = train_test_split(X, y, test_size=0.2, random_state=2021)"
   ]
  },
  {
   "cell_type": "code",
   "execution_count": 52,
   "metadata": {},
   "outputs": [
    {
     "data": {
      "text/plain": [
       "RandomForestClassifier(bootstrap=True, class_weight=None, criterion='entropy',\n",
       "                       max_depth=None, max_features='auto', max_leaf_nodes=None,\n",
       "                       min_impurity_decrease=0.0, min_impurity_split=None,\n",
       "                       min_samples_leaf=1, min_samples_split=2,\n",
       "                       min_weight_fraction_leaf=0.0, n_estimators=10,\n",
       "                       n_jobs=None, oob_score=False, random_state=0, verbose=0,\n",
       "                       warm_start=False)"
      ]
     },
     "execution_count": 52,
     "metadata": {},
     "output_type": "execute_result"
    }
   ],
   "source": [
    "#random forest\n",
    "from sklearn.ensemble import RandomForestClassifier\n",
    "rfc = RandomForestClassifier(random_state=0, \n",
    "                             criterion='entropy') # Use entropy criterion to define feature importance\n",
    "\n",
    "# fit the model using training data\n",
    "rfc.fit(X_train, y_train)"
   ]
  },
  {
   "cell_type": "code",
   "execution_count": 53,
   "metadata": {},
   "outputs": [],
   "source": [
    "y_test_predicted = rfc.predict(X_test)"
   ]
  },
  {
   "cell_type": "code",
   "execution_count": 54,
   "metadata": {},
   "outputs": [
    {
     "data": {
      "text/plain": [
       "0.9968632198772803"
      ]
     },
     "execution_count": 54,
     "metadata": {},
     "output_type": "execute_result"
    }
   ],
   "source": [
    "from sklearn.metrics import accuracy_score\n",
    "accuracy_score(y_test, y_test_predicted)"
   ]
  },
  {
   "cell_type": "markdown",
   "metadata": {},
   "source": [
    "#### 10 classes elr"
   ]
  },
  {
   "cell_type": "code",
   "execution_count": 55,
   "metadata": {},
   "outputs": [],
   "source": [
    "#define X and y\n",
    "y_10 = sub1['elr_bin10_class']\n",
    "X_10 = sub1.drop(['estimated_loss_rate', 'elr_bin10_class', 'elr_bin5_class'], axis = 1)"
   ]
  },
  {
   "cell_type": "code",
   "execution_count": 56,
   "metadata": {},
   "outputs": [],
   "source": [
    "from sklearn.model_selection import train_test_split\n",
    "X_train_10, X_test_10, y_train_10, y_test_10 = train_test_split(X_10, y_10, test_size=0.2, random_state=2021)"
   ]
  },
  {
   "cell_type": "code",
   "execution_count": 57,
   "metadata": {},
   "outputs": [
    {
     "data": {
      "text/plain": [
       "RandomForestClassifier(bootstrap=True, class_weight=None, criterion='entropy',\n",
       "                       max_depth=None, max_features='auto', max_leaf_nodes=None,\n",
       "                       min_impurity_decrease=0.0, min_impurity_split=None,\n",
       "                       min_samples_leaf=1, min_samples_split=2,\n",
       "                       min_weight_fraction_leaf=0.0, n_estimators=10,\n",
       "                       n_jobs=None, oob_score=False, random_state=0, verbose=0,\n",
       "                       warm_start=False)"
      ]
     },
     "execution_count": 57,
     "metadata": {},
     "output_type": "execute_result"
    }
   ],
   "source": [
    "from sklearn.ensemble import RandomForestClassifier\n",
    "rfc_10 = RandomForestClassifier(random_state=0, \n",
    "                             criterion='entropy') # Use entropy criterion to define feature importance\n",
    "\n",
    "# fit the model using training data\n",
    "rfc_10.fit(X_train_10, y_train_10)"
   ]
  },
  {
   "cell_type": "code",
   "execution_count": 58,
   "metadata": {},
   "outputs": [],
   "source": [
    "y_test_10_predicted = rfc_10.predict(X_test_10)"
   ]
  },
  {
   "cell_type": "code",
   "execution_count": 59,
   "metadata": {},
   "outputs": [
    {
     "data": {
      "text/plain": [
       "0.9938640178301186"
      ]
     },
     "execution_count": 59,
     "metadata": {},
     "output_type": "execute_result"
    }
   ],
   "source": [
    "from sklearn.metrics import accuracy_score\n",
    "accuracy_score(y_test_10, y_test_10_predicted)"
   ]
  },
  {
   "cell_type": "markdown",
   "metadata": {},
   "source": [
    "#### 20 classes elr"
   ]
  },
  {
   "cell_type": "code",
   "execution_count": 60,
   "metadata": {},
   "outputs": [],
   "source": [
    "#define X and y\n",
    "y_20 = sub1['elr_bin20_class']\n",
    "X_20 = sub1.drop(['estimated_loss_rate', 'elr_bin10_class', 'elr_bin5_class', 'elr_bin20_class'], axis = 1)"
   ]
  },
  {
   "cell_type": "code",
   "execution_count": 61,
   "metadata": {},
   "outputs": [],
   "source": [
    "from sklearn.model_selection import train_test_split\n",
    "X_train_20, X_test_20, y_train_20, y_test_20 = train_test_split(X_20, y_20, test_size=0.2, random_state=2021)"
   ]
  },
  {
   "cell_type": "code",
   "execution_count": 62,
   "metadata": {},
   "outputs": [
    {
     "data": {
      "text/plain": [
       "RandomForestClassifier(bootstrap=True, class_weight=None, criterion='entropy',\n",
       "                       max_depth=None, max_features='auto', max_leaf_nodes=None,\n",
       "                       min_impurity_decrease=0.0, min_impurity_split=None,\n",
       "                       min_samples_leaf=1, min_samples_split=2,\n",
       "                       min_weight_fraction_leaf=0.0, n_estimators=10,\n",
       "                       n_jobs=None, oob_score=False, random_state=0, verbose=0,\n",
       "                       warm_start=False)"
      ]
     },
     "execution_count": 62,
     "metadata": {},
     "output_type": "execute_result"
    }
   ],
   "source": [
    "#random forest\n",
    "from sklearn.ensemble import RandomForestClassifier\n",
    "rfc_20 = RandomForestClassifier(random_state=0, \n",
    "                             criterion='entropy') # Use entropy criterion to define feature importance\n",
    "\n",
    "# fit the model using training data\n",
    "rfc_20.fit(X_train_20, y_train_20)"
   ]
  },
  {
   "cell_type": "code",
   "execution_count": 63,
   "metadata": {},
   "outputs": [],
   "source": [
    "y_test_20_predicted = rfc_20.predict(X_test_20)"
   ]
  },
  {
   "cell_type": "code",
   "execution_count": 64,
   "metadata": {},
   "outputs": [
    {
     "data": {
      "text/plain": [
       "0.9460418787661998"
      ]
     },
     "execution_count": 64,
     "metadata": {},
     "output_type": "execute_result"
    }
   ],
   "source": [
    "accuracy_score(y_test_20, y_test_20_predicted)"
   ]
  },
  {
   "cell_type": "markdown",
   "metadata": {},
   "source": [
    "#### Note\n",
    "As you increase the number of classes to 20, the in sample accuracy decreased dramatically. I don't recommend to have more than 10 classes."
   ]
  },
  {
   "cell_type": "markdown",
   "metadata": {},
   "source": [
    "### Out of sample testing"
   ]
  },
  {
   "cell_type": "code",
   "execution_count": 65,
   "metadata": {},
   "outputs": [],
   "source": [
    "# use October 2019 to Feb 2020 as training set gives me the best accuracy prediction\n",
    "sub2_train = combined2.loc[(combined2['listing_start_date'] >= '2019-03-01') & (combined2['listing_start_date'] <= '2020-02-28')]\n",
    "sub2_test = combined2.loc[(combined2['listing_start_date'] >= '2020-03-01') & (combined2['listing_start_date'] <= '2020-08-31')]"
   ]
  },
  {
   "cell_type": "code",
   "execution_count": 66,
   "metadata": {},
   "outputs": [
    {
     "name": "stdout",
     "output_type": "stream",
     "text": [
      "(181712, 363)\n",
      "(46828, 363)\n"
     ]
    }
   ],
   "source": [
    "sub2_train = sub2_train.select_dtypes(include=np.number)\n",
    "sub2_test = sub2_test.select_dtypes(include=np.number)\n",
    "print(sub2_train.shape)\n",
    "print(sub2_test.shape)"
   ]
  },
  {
   "cell_type": "markdown",
   "metadata": {},
   "source": [
    "### 5 classes out of sample testing"
   ]
  },
  {
   "cell_type": "code",
   "execution_count": 67,
   "metadata": {},
   "outputs": [],
   "source": [
    "#define X and y\n",
    "X_train_sub2_bin5 = sub2_train.drop(['estimated_loss_rate', 'elr_bin10_class', 'elr_bin5_class', 'elr_bin20_class'], axis = 1)\n",
    "y_train_sub2_bin5 = sub2_train['elr_bin5_class']\n",
    "X_test_sub2_bin5 = sub2_test.drop(['estimated_loss_rate', 'elr_bin10_class', 'elr_bin5_class', 'elr_bin20_class'], axis = 1)\n",
    "y_test_sub2_bin5 = sub2_test['elr_bin5_class']"
   ]
  },
  {
   "cell_type": "code",
   "execution_count": 68,
   "metadata": {},
   "outputs": [
    {
     "data": {
      "text/plain": [
       "RandomForestClassifier(bootstrap=True, class_weight=None, criterion='entropy',\n",
       "                       max_depth=None, max_features='auto', max_leaf_nodes=None,\n",
       "                       min_impurity_decrease=0.0, min_impurity_split=None,\n",
       "                       min_samples_leaf=1, min_samples_split=2,\n",
       "                       min_weight_fraction_leaf=0.0, n_estimators=10,\n",
       "                       n_jobs=None, oob_score=False, random_state=0, verbose=0,\n",
       "                       warm_start=False)"
      ]
     },
     "execution_count": 68,
     "metadata": {},
     "output_type": "execute_result"
    }
   ],
   "source": [
    "# random forest \n",
    "from sklearn.ensemble import RandomForestClassifier\n",
    "rfc_out_5 = RandomForestClassifier(random_state=0, \n",
    "                             criterion='entropy') # Use entropy criterion to define feature importance\n",
    "\n",
    "# Train the classifier\n",
    "rfc_out_5.fit(X_train_sub2_bin5, y_train_sub2_bin5)"
   ]
  },
  {
   "cell_type": "code",
   "execution_count": 69,
   "metadata": {},
   "outputs": [],
   "source": [
    "y_test_sub2_bin5_hat = rfc_out_5.predict(X_test_sub2_bin5)"
   ]
  },
  {
   "cell_type": "code",
   "execution_count": 70,
   "metadata": {},
   "outputs": [],
   "source": [
    "elr_5 = pd.DataFrame({'elr_bin5_class': y_test_sub2_bin5, 'elr_bin5_class_hat': y_test_sub2_bin5_hat})"
   ]
  },
  {
   "cell_type": "code",
   "execution_count": 71,
   "metadata": {},
   "outputs": [
    {
     "name": "stdout",
     "output_type": "stream",
     "text": [
      "The out of sample accuracy is: 74.26326129666012 %\n"
     ]
    }
   ],
   "source": [
    "# train - from Oct 2019 to Feb 2020, test - from March 2020 to May 2020\n",
    "# even lower - there must be some model adjustment\n",
    "print('The out of sample accuracy is:', accuracy_score(y_test_sub2_bin5, y_test_sub2_bin5_hat) *100,'%')"
   ]
  },
  {
   "cell_type": "markdown",
   "metadata": {},
   "source": [
    "#### Note: test with different train and test period\n",
    "The prediction power increased A LOT if only to predict March (indicate a model change after the pandemic) \\\n",
    "The prediction power is even more if you predict Feb 2020 (without including it in the training sample) \\\n",
    "Another indication that the model changed in March 2020"
   ]
  },
  {
   "cell_type": "code",
   "execution_count": 206,
   "metadata": {},
   "outputs": [
    {
     "name": "stdout",
     "output_type": "stream",
     "text": [
      "The out of sample accuracy is: 74.26326129666012 %\n"
     ]
    }
   ],
   "source": [
    "# train - from Oct 2019 to Feb 2020, test - March 2020\n",
    "# accuracy decreased...another sign of change of model\n",
    "#print('The out of sample accuracy is:', accuracy_score(y_test_sub2_bin5, y_test_sub2_bin5_hat) *100,'%')"
   ]
  },
  {
   "cell_type": "code",
   "execution_count": 134,
   "metadata": {},
   "outputs": [
    {
     "name": "stdout",
     "output_type": "stream",
     "text": [
      "The out of sample accuracy is: 73.33432988810114 %\n"
     ]
    }
   ],
   "source": [
    "# train - from Oct 2019 to Jan 2020, test - Feb 2020\n",
    "# even lower - there must be some model adjustment\n",
    "#print('The out of sample accuracy is:', accuracy_score(y_test_sub2_bin5, y_test_sub2_bin5_hat) *100,'%')"
   ]
  },
  {
   "cell_type": "code",
   "execution_count": null,
   "metadata": {},
   "outputs": [],
   "source": []
  },
  {
   "cell_type": "markdown",
   "metadata": {},
   "source": [
    "### 10 classes out of sample results"
   ]
  },
  {
   "cell_type": "code",
   "execution_count": 72,
   "metadata": {},
   "outputs": [],
   "source": [
    "#define X and y\n",
    "X_train_sub2_bin10 = sub2_train.drop(['estimated_loss_rate', 'elr_bin10_class', 'elr_bin5_class', 'elr_bin20_class'], axis = 1)\n",
    "y_train_sub2_bin10 = sub2_train['elr_bin10_class']\n",
    "X_test_sub2_bin10 = sub2_test.drop(['estimated_loss_rate', 'elr_bin10_class', 'elr_bin5_class', 'elr_bin20_class'], axis = 1)\n",
    "y_test_sub2_bin10 = sub2_test['elr_bin10_class']"
   ]
  },
  {
   "cell_type": "code",
   "execution_count": 73,
   "metadata": {},
   "outputs": [
    {
     "data": {
      "text/plain": [
       "RandomForestClassifier(bootstrap=True, class_weight=None, criterion='entropy',\n",
       "                       max_depth=None, max_features='auto', max_leaf_nodes=None,\n",
       "                       min_impurity_decrease=0.0, min_impurity_split=None,\n",
       "                       min_samples_leaf=1, min_samples_split=2,\n",
       "                       min_weight_fraction_leaf=0.0, n_estimators=10,\n",
       "                       n_jobs=None, oob_score=False, random_state=0, verbose=0,\n",
       "                       warm_start=False)"
      ]
     },
     "execution_count": 73,
     "metadata": {},
     "output_type": "execute_result"
    }
   ],
   "source": [
    "# random forest \n",
    "from sklearn.ensemble import RandomForestClassifier\n",
    "rfc_out_10 = RandomForestClassifier(random_state=0, \n",
    "                             criterion='entropy') # Use entropy criterion to define feature importance\n",
    "\n",
    "# Train the classifier\n",
    "rfc_out_10.fit(X_train_sub2_bin10, y_train_sub2_bin10)"
   ]
  },
  {
   "cell_type": "code",
   "execution_count": 74,
   "metadata": {},
   "outputs": [],
   "source": [
    "y_test_sub2_bin10_hat = rfc_out_10.predict(X_test_sub2_bin10)"
   ]
  },
  {
   "cell_type": "code",
   "execution_count": 75,
   "metadata": {},
   "outputs": [
    {
     "data": {
      "text/html": [
       "<div>\n",
       "<style scoped>\n",
       "    .dataframe tbody tr th:only-of-type {\n",
       "        vertical-align: middle;\n",
       "    }\n",
       "\n",
       "    .dataframe tbody tr th {\n",
       "        vertical-align: top;\n",
       "    }\n",
       "\n",
       "    .dataframe thead th {\n",
       "        text-align: right;\n",
       "    }\n",
       "</style>\n",
       "<table border=\"1\" class=\"dataframe\">\n",
       "  <thead>\n",
       "    <tr style=\"text-align: right;\">\n",
       "      <th></th>\n",
       "      <th>elr_bin10_class</th>\n",
       "      <th>elr_bin10_class_hat</th>\n",
       "    </tr>\n",
       "  </thead>\n",
       "  <tbody>\n",
       "    <tr>\n",
       "      <td>196</td>\n",
       "      <td>3</td>\n",
       "      <td>3</td>\n",
       "    </tr>\n",
       "    <tr>\n",
       "      <td>1453</td>\n",
       "      <td>3</td>\n",
       "      <td>3</td>\n",
       "    </tr>\n",
       "    <tr>\n",
       "      <td>189963</td>\n",
       "      <td>3</td>\n",
       "      <td>3</td>\n",
       "    </tr>\n",
       "    <tr>\n",
       "      <td>190000</td>\n",
       "      <td>6</td>\n",
       "      <td>7</td>\n",
       "    </tr>\n",
       "    <tr>\n",
       "      <td>190001</td>\n",
       "      <td>3</td>\n",
       "      <td>3</td>\n",
       "    </tr>\n",
       "  </tbody>\n",
       "</table>\n",
       "</div>"
      ],
      "text/plain": [
       "        elr_bin10_class  elr_bin10_class_hat\n",
       "196                   3                    3\n",
       "1453                  3                    3\n",
       "189963                3                    3\n",
       "190000                6                    7\n",
       "190001                3                    3"
      ]
     },
     "execution_count": 75,
     "metadata": {},
     "output_type": "execute_result"
    }
   ],
   "source": [
    "elr_10 = pd.DataFrame({'elr_bin10_class': y_test_sub2_bin10, 'elr_bin10_class_hat': y_test_sub2_bin10_hat})\n",
    "elr_10.head()"
   ]
  },
  {
   "cell_type": "code",
   "execution_count": 76,
   "metadata": {},
   "outputs": [
    {
     "name": "stdout",
     "output_type": "stream",
     "text": [
      "The out of sample accuracy is: 50.77944819338857 %\n"
     ]
    }
   ],
   "source": [
    "# train - from Oct 2019 to Feb 2020, test - from March 2020 to May 2020\n",
    "print('The out of sample accuracy is:', accuracy_score(y_test_sub2_bin10, y_test_sub2_bin10_hat) *100,'%')"
   ]
  },
  {
   "cell_type": "markdown",
   "metadata": {},
   "source": [
    "#### Note: test with different time period to see adjustment of model "
   ]
  },
  {
   "cell_type": "code",
   "execution_count": 255,
   "metadata": {},
   "outputs": [
    {
     "name": "stdout",
     "output_type": "stream",
     "text": [
      "The out of sample accuracy is: 50.77944819338857 %\n"
     ]
    }
   ],
   "source": [
    "# train - from Oct 2019 to Feb 2020, test - March 2020\n",
    "# prediction power increases\n",
    "#print('The out of sample accuracy is:', accuracy_score(y_test_sub2_bin10, y_test_sub2_bin10_hat) *100,'%')"
   ]
  },
  {
   "cell_type": "code",
   "execution_count": 368,
   "metadata": {},
   "outputs": [
    {
     "name": "stdout",
     "output_type": "stream",
     "text": [
      "The out of sample accuracy is: 92.65479789497256 %\n"
     ]
    }
   ],
   "source": [
    "# train - from Oct 2019 to Jan 2020, predict Feb 2020\n",
    "# the accuracy is very high compare to March 2020\n",
    "# indicate a change of model in March 2020\n",
    "#print('The out of sample accuracy is:', accuracy_score(y_test_sub2_bin10, y_test_sub2_bin10_hat) *100,'%')"
   ]
  },
  {
   "cell_type": "markdown",
   "metadata": {},
   "source": [
    "### 20 classes out of sample testing"
   ]
  },
  {
   "cell_type": "code",
   "execution_count": 77,
   "metadata": {},
   "outputs": [],
   "source": [
    "#define X and y\n",
    "X_train_sub2_bin20 = sub2_train.drop(['estimated_loss_rate', 'elr_bin10_class', 'elr_bin5_class', 'elr_bin20_class', 'elr_bin20_class'], axis = 1)\n",
    "y_train_sub2_bin20 = sub2_train['elr_bin20_class']\n",
    "X_test_sub2_bin20 = sub2_test.drop(['estimated_loss_rate', 'elr_bin10_class', 'elr_bin5_class', 'elr_bin20_class', 'elr_bin20_class'], axis = 1)\n",
    "y_test_sub2_bin20 = sub2_test['elr_bin20_class']"
   ]
  },
  {
   "cell_type": "code",
   "execution_count": 78,
   "metadata": {},
   "outputs": [
    {
     "data": {
      "text/plain": [
       "RandomForestClassifier(bootstrap=True, class_weight=None, criterion='entropy',\n",
       "                       max_depth=None, max_features='auto', max_leaf_nodes=None,\n",
       "                       min_impurity_decrease=0.0, min_impurity_split=None,\n",
       "                       min_samples_leaf=1, min_samples_split=2,\n",
       "                       min_weight_fraction_leaf=0.0, n_estimators=10,\n",
       "                       n_jobs=None, oob_score=False, random_state=0, verbose=0,\n",
       "                       warm_start=False)"
      ]
     },
     "execution_count": 78,
     "metadata": {},
     "output_type": "execute_result"
    }
   ],
   "source": [
    "# random forest \n",
    "from sklearn.ensemble import RandomForestClassifier\n",
    "rfc_out_20 = RandomForestClassifier(random_state=0, \n",
    "                             criterion='entropy') # Use entropy criterion to define feature importance\n",
    "\n",
    "# Train the classifier\n",
    "rfc_out_20.fit(X_train_sub2_bin20, y_train_sub2_bin20)"
   ]
  },
  {
   "cell_type": "code",
   "execution_count": 79,
   "metadata": {},
   "outputs": [],
   "source": [
    "y_test_sub2_bin20_hat = rfc_out_20.predict(X_test_sub2_bin20)"
   ]
  },
  {
   "cell_type": "code",
   "execution_count": 80,
   "metadata": {},
   "outputs": [
    {
     "data": {
      "text/html": [
       "<div>\n",
       "<style scoped>\n",
       "    .dataframe tbody tr th:only-of-type {\n",
       "        vertical-align: middle;\n",
       "    }\n",
       "\n",
       "    .dataframe tbody tr th {\n",
       "        vertical-align: top;\n",
       "    }\n",
       "\n",
       "    .dataframe thead th {\n",
       "        text-align: right;\n",
       "    }\n",
       "</style>\n",
       "<table border=\"1\" class=\"dataframe\">\n",
       "  <thead>\n",
       "    <tr style=\"text-align: right;\">\n",
       "      <th></th>\n",
       "      <th>elr_bin20_class</th>\n",
       "      <th>elr_bin20_class_hat</th>\n",
       "    </tr>\n",
       "  </thead>\n",
       "  <tbody>\n",
       "    <tr>\n",
       "      <td>196</td>\n",
       "      <td>5</td>\n",
       "      <td>5</td>\n",
       "    </tr>\n",
       "    <tr>\n",
       "      <td>1453</td>\n",
       "      <td>5</td>\n",
       "      <td>5</td>\n",
       "    </tr>\n",
       "    <tr>\n",
       "      <td>189963</td>\n",
       "      <td>5</td>\n",
       "      <td>6</td>\n",
       "    </tr>\n",
       "    <tr>\n",
       "      <td>190000</td>\n",
       "      <td>12</td>\n",
       "      <td>12</td>\n",
       "    </tr>\n",
       "    <tr>\n",
       "      <td>190001</td>\n",
       "      <td>5</td>\n",
       "      <td>5</td>\n",
       "    </tr>\n",
       "  </tbody>\n",
       "</table>\n",
       "</div>"
      ],
      "text/plain": [
       "        elr_bin20_class  elr_bin20_class_hat\n",
       "196                   5                    5\n",
       "1453                  5                    5\n",
       "189963                5                    6\n",
       "190000               12                   12\n",
       "190001                5                    5"
      ]
     },
     "execution_count": 80,
     "metadata": {},
     "output_type": "execute_result"
    }
   ],
   "source": [
    "elr_20 = pd.DataFrame({'elr_bin20_class': y_test_sub2_bin20, 'elr_bin20_class_hat': y_test_sub2_bin20_hat})\n",
    "elr_20.head()"
   ]
  },
  {
   "cell_type": "code",
   "execution_count": 81,
   "metadata": {},
   "outputs": [
    {
     "name": "stdout",
     "output_type": "stream",
     "text": [
      "The out of sample accuracy is: 27.532672759887244 %\n"
     ]
    }
   ],
   "source": [
    "print('The out of sample accuracy is:', accuracy_score(y_test_sub2_bin20, y_test_sub2_bin20_hat) *100,'%')"
   ]
  },
  {
   "cell_type": "code",
   "execution_count": 261,
   "metadata": {},
   "outputs": [
    {
     "name": "stdout",
     "output_type": "stream",
     "text": [
      "The out of sample accuracy is: 27.532672759887244 %\n"
     ]
    }
   ],
   "source": [
    "#print('The out of sample accuracy is:', accuracy_score(y_test_sub2_bin20, y_test_sub2_bin20_hat) *100,'%')"
   ]
  },
  {
   "cell_type": "markdown",
   "metadata": {},
   "source": [
    "### Output dataframe"
   ]
  },
  {
   "cell_type": "markdown",
   "metadata": {},
   "source": [
    "### pre-covid distribution"
   ]
  },
  {
   "cell_type": "code",
   "execution_count": 82,
   "metadata": {},
   "outputs": [],
   "source": [
    "pre_covid = combined2.loc[(combined2['listing_start_date'] >= '2019-03-01') & (combined2['listing_start_date'] <= '2020-02-28')]"
   ]
  },
  {
   "cell_type": "code",
   "execution_count": 83,
   "metadata": {},
   "outputs": [],
   "source": [
    "pre_covid = pre_covid[['listing_start_date', 'estimated_loss_rate', 'elr_bin5_class','TUFicoRange_Nu', 'prosper_rating_nu']]"
   ]
  },
  {
   "cell_type": "code",
   "execution_count": 85,
   "metadata": {},
   "outputs": [
    {
     "data": {
      "text/plain": [
       "<matplotlib.axes._subplots.AxesSubplot at 0x13f207710>"
      ]
     },
     "execution_count": 85,
     "metadata": {},
     "output_type": "execute_result"
    },
    {
     "data": {
      "image/png": "[encoded data removed]",
      "text/plain": [
       "<Figure size 432x288 with 1 Axes>"
      ]
     },
     "metadata": {
      "needs_background": "light"
     },
     "output_type": "display_data"
    }
   ],
   "source": [
    "pre_covid['elr_bin5_class'].value_counts(normalize = True).sort_index().plot(kind = 'bar')"
   ]
  },
  {
   "cell_type": "code",
   "execution_count": 86,
   "metadata": {},
   "outputs": [
    {
     "data": {
      "text/plain": [
       "1    0.319363\n",
       "2    0.392852\n",
       "3    0.197131\n",
       "4    0.068906\n",
       "5    0.021749\n",
       "Name: elr_bin5_class, dtype: float64"
      ]
     },
     "execution_count": 86,
     "metadata": {},
     "output_type": "execute_result"
    }
   ],
   "source": [
    "pre_covid['elr_bin5_class'].value_counts(normalize = True).sort_index()"
   ]
  },
  {
   "cell_type": "markdown",
   "metadata": {},
   "source": [
    "### Feb 2020 distribution - right before covid"
   ]
  },
  {
   "cell_type": "code",
   "execution_count": 87,
   "metadata": {},
   "outputs": [],
   "source": [
    "Feb2020 = combined2.loc[(combined2['listing_start_date'] >= '2020-02-01') & (combined2['listing_start_date'] <= '2020-02-28')]"
   ]
  },
  {
   "cell_type": "code",
   "execution_count": 91,
   "metadata": {},
   "outputs": [
    {
     "data": {
      "text/plain": [
       "Text(0.5, 1.0, 'Feb 2020 elr real distribution')"
      ]
     },
     "execution_count": 91,
     "metadata": {},
     "output_type": "execute_result"
    },
    {
     "data": {
      "image/png": "[encoded data removed]",
      "text/plain": [
       "<Figure size 432x288 with 1 Axes>"
      ]
     },
     "metadata": {
      "needs_background": "light"
     },
     "output_type": "display_data"
    }
   ],
   "source": [
    "Feb2020['elr_bin5_class'].value_counts(normalize = True).sort_index().plot(kind = 'bar')\n",
    "plt.title('Feb 2020 elr real distribution')"
   ]
  },
  {
   "cell_type": "code",
   "execution_count": 92,
   "metadata": {},
   "outputs": [
    {
     "data": {
      "text/plain": [
       "1    0.317210\n",
       "2    0.383384\n",
       "3    0.208935\n",
       "4    0.068413\n",
       "5    0.022058\n",
       "Name: elr_bin5_class, dtype: float64"
      ]
     },
     "execution_count": 92,
     "metadata": {},
     "output_type": "execute_result"
    }
   ],
   "source": [
    "Feb2020['elr_bin5_class'].value_counts(normalize = True).sort_index()"
   ]
  },
  {
   "cell_type": "code",
   "execution_count": 93,
   "metadata": {},
   "outputs": [],
   "source": [
    "observation = combined2.loc[(combined2['listing_start_date'] >= '2020-03-01') & (combined2['listing_start_date'] <= '2020-08-31')]"
   ]
  },
  {
   "cell_type": "code",
   "execution_count": 94,
   "metadata": {},
   "outputs": [],
   "source": [
    "observation = observation[['listing_start_date', 'estimated_loss_rate', 'TUFicoRange_Nu', 'prosper_rating_nu']]"
   ]
  },
  {
   "cell_type": "code",
   "execution_count": 95,
   "metadata": {},
   "outputs": [
    {
     "data": {
      "text/html": [
       "<div>\n",
       "<style scoped>\n",
       "    .dataframe tbody tr th:only-of-type {\n",
       "        vertical-align: middle;\n",
       "    }\n",
       "\n",
       "    .dataframe tbody tr th {\n",
       "        vertical-align: top;\n",
       "    }\n",
       "\n",
       "    .dataframe thead th {\n",
       "        text-align: right;\n",
       "    }\n",
       "</style>\n",
       "<table border=\"1\" class=\"dataframe\">\n",
       "  <thead>\n",
       "    <tr style=\"text-align: right;\">\n",
       "      <th></th>\n",
       "      <th>listing_start_date</th>\n",
       "      <th>estimated_loss_rate</th>\n",
       "      <th>TUFicoRange_Nu</th>\n",
       "      <th>prosper_rating_nu</th>\n",
       "      <th>elr_bin5_class</th>\n",
       "      <th>elr_bin5_class_hat</th>\n",
       "    </tr>\n",
       "  </thead>\n",
       "  <tbody>\n",
       "    <tr>\n",
       "      <td>196</td>\n",
       "      <td>2020-03-12</td>\n",
       "      <td>0.0434</td>\n",
       "      <td>6</td>\n",
       "      <td>4</td>\n",
       "      <td>2</td>\n",
       "      <td>2</td>\n",
       "    </tr>\n",
       "    <tr>\n",
       "      <td>1453</td>\n",
       "      <td>2020-03-02</td>\n",
       "      <td>0.0389</td>\n",
       "      <td>5</td>\n",
       "      <td>5</td>\n",
       "      <td>2</td>\n",
       "      <td>2</td>\n",
       "    </tr>\n",
       "    <tr>\n",
       "      <td>189963</td>\n",
       "      <td>2020-03-18</td>\n",
       "      <td>0.0449</td>\n",
       "      <td>5</td>\n",
       "      <td>4</td>\n",
       "      <td>2</td>\n",
       "      <td>2</td>\n",
       "    </tr>\n",
       "    <tr>\n",
       "      <td>190000</td>\n",
       "      <td>2020-03-05</td>\n",
       "      <td>0.1075</td>\n",
       "      <td>4</td>\n",
       "      <td>2</td>\n",
       "      <td>3</td>\n",
       "      <td>4</td>\n",
       "    </tr>\n",
       "    <tr>\n",
       "      <td>190001</td>\n",
       "      <td>2020-03-23</td>\n",
       "      <td>0.0449</td>\n",
       "      <td>4</td>\n",
       "      <td>4</td>\n",
       "      <td>2</td>\n",
       "      <td>2</td>\n",
       "    </tr>\n",
       "  </tbody>\n",
       "</table>\n",
       "</div>"
      ],
      "text/plain": [
       "       listing_start_date  estimated_loss_rate  TUFicoRange_Nu  \\\n",
       "196            2020-03-12               0.0434               6   \n",
       "1453           2020-03-02               0.0389               5   \n",
       "189963         2020-03-18               0.0449               5   \n",
       "190000         2020-03-05               0.1075               4   \n",
       "190001         2020-03-23               0.0449               4   \n",
       "\n",
       "        prosper_rating_nu  elr_bin5_class  elr_bin5_class_hat  \n",
       "196                     4               2                   2  \n",
       "1453                    5               2                   2  \n",
       "189963                  4               2                   2  \n",
       "190000                  2               3                   4  \n",
       "190001                  4               2                   2  "
      ]
     },
     "execution_count": 95,
     "metadata": {},
     "output_type": "execute_result"
    }
   ],
   "source": [
    "observation1 = pd.merge(observation, elr_5, left_index = True, right_index = True)\n",
    "observation1.head()"
   ]
  },
  {
   "cell_type": "code",
   "execution_count": 96,
   "metadata": {},
   "outputs": [],
   "source": [
    "observation2 = pd.merge(observation1, elr_10, left_index = True, right_index = True)\n",
    "observation2 = observation2.sort_values(by = 'listing_start_date')"
   ]
  },
  {
   "cell_type": "code",
   "execution_count": 97,
   "metadata": {},
   "outputs": [],
   "source": [
    "observation2 = pd.merge(observation2, elr_20, left_index = True, right_index = True)\n",
    "observation2 = observation2.sort_values(by = 'listing_start_date')"
   ]
  },
  {
   "cell_type": "code",
   "execution_count": 98,
   "metadata": {},
   "outputs": [
    {
     "data": {
      "text/html": [
       "<div>\n",
       "<style scoped>\n",
       "    .dataframe tbody tr th:only-of-type {\n",
       "        vertical-align: middle;\n",
       "    }\n",
       "\n",
       "    .dataframe tbody tr th {\n",
       "        vertical-align: top;\n",
       "    }\n",
       "\n",
       "    .dataframe thead th {\n",
       "        text-align: right;\n",
       "    }\n",
       "</style>\n",
       "<table border=\"1\" class=\"dataframe\">\n",
       "  <thead>\n",
       "    <tr style=\"text-align: right;\">\n",
       "      <th></th>\n",
       "      <th>listing_start_date</th>\n",
       "      <th>estimated_loss_rate</th>\n",
       "      <th>TUFicoRange_Nu</th>\n",
       "      <th>prosper_rating_nu</th>\n",
       "      <th>elr_bin5_class</th>\n",
       "      <th>elr_bin5_class_hat</th>\n",
       "      <th>elr_bin10_class</th>\n",
       "      <th>elr_bin10_class_hat</th>\n",
       "      <th>elr_bin20_class</th>\n",
       "      <th>elr_bin20_class_hat</th>\n",
       "    </tr>\n",
       "  </thead>\n",
       "  <tbody>\n",
       "    <tr>\n",
       "      <td>205666</td>\n",
       "      <td>2020-03-01</td>\n",
       "      <td>0.0389</td>\n",
       "      <td>2</td>\n",
       "      <td>5</td>\n",
       "      <td>2</td>\n",
       "      <td>2</td>\n",
       "      <td>3</td>\n",
       "      <td>3</td>\n",
       "      <td>5</td>\n",
       "      <td>5</td>\n",
       "    </tr>\n",
       "    <tr>\n",
       "      <td>222045</td>\n",
       "      <td>2020-03-01</td>\n",
       "      <td>0.0689</td>\n",
       "      <td>3</td>\n",
       "      <td>3</td>\n",
       "      <td>2</td>\n",
       "      <td>2</td>\n",
       "      <td>4</td>\n",
       "      <td>4</td>\n",
       "      <td>8</td>\n",
       "      <td>8</td>\n",
       "    </tr>\n",
       "    <tr>\n",
       "      <td>200027</td>\n",
       "      <td>2020-03-01</td>\n",
       "      <td>0.0674</td>\n",
       "      <td>3</td>\n",
       "      <td>3</td>\n",
       "      <td>2</td>\n",
       "      <td>2</td>\n",
       "      <td>4</td>\n",
       "      <td>5</td>\n",
       "      <td>8</td>\n",
       "      <td>8</td>\n",
       "    </tr>\n",
       "    <tr>\n",
       "      <td>198819</td>\n",
       "      <td>2020-03-01</td>\n",
       "      <td>0.0869</td>\n",
       "      <td>3</td>\n",
       "      <td>3</td>\n",
       "      <td>3</td>\n",
       "      <td>3</td>\n",
       "      <td>5</td>\n",
       "      <td>5</td>\n",
       "      <td>10</td>\n",
       "      <td>10</td>\n",
       "    </tr>\n",
       "    <tr>\n",
       "      <td>216976</td>\n",
       "      <td>2020-03-01</td>\n",
       "      <td>0.0464</td>\n",
       "      <td>2</td>\n",
       "      <td>4</td>\n",
       "      <td>2</td>\n",
       "      <td>2</td>\n",
       "      <td>3</td>\n",
       "      <td>3</td>\n",
       "      <td>5</td>\n",
       "      <td>6</td>\n",
       "    </tr>\n",
       "  </tbody>\n",
       "</table>\n",
       "</div>"
      ],
      "text/plain": [
       "       listing_start_date  estimated_loss_rate  TUFicoRange_Nu  \\\n",
       "205666         2020-03-01               0.0389               2   \n",
       "222045         2020-03-01               0.0689               3   \n",
       "200027         2020-03-01               0.0674               3   \n",
       "198819         2020-03-01               0.0869               3   \n",
       "216976         2020-03-01               0.0464               2   \n",
       "\n",
       "        prosper_rating_nu  elr_bin5_class  elr_bin5_class_hat  \\\n",
       "205666                  5               2                   2   \n",
       "222045                  3               2                   2   \n",
       "200027                  3               2                   2   \n",
       "198819                  3               3                   3   \n",
       "216976                  4               2                   2   \n",
       "\n",
       "        elr_bin10_class  elr_bin10_class_hat  elr_bin20_class  \\\n",
       "205666                3                    3                5   \n",
       "222045                4                    4                8   \n",
       "200027                4                    5                8   \n",
       "198819                5                    5               10   \n",
       "216976                3                    3                5   \n",
       "\n",
       "        elr_bin20_class_hat  \n",
       "205666                    5  \n",
       "222045                    8  \n",
       "200027                    8  \n",
       "198819                   10  \n",
       "216976                    6  "
      ]
     },
     "execution_count": 98,
     "metadata": {},
     "output_type": "execute_result"
    }
   ],
   "source": [
    "observation2.head()"
   ]
  },
  {
   "cell_type": "markdown",
   "metadata": {},
   "source": [
    "### Distributions - real vs. predicted"
   ]
  },
  {
   "cell_type": "code",
   "execution_count": 99,
   "metadata": {},
   "outputs": [],
   "source": [
    "import matplotlib.pyplot as plt"
   ]
  },
  {
   "cell_type": "code",
   "execution_count": 100,
   "metadata": {},
   "outputs": [
    {
     "data": {
      "text/plain": [
       "1    0.486269\n",
       "2    0.382250\n",
       "3    0.098680\n",
       "4    0.025647\n",
       "5    0.007154\n",
       "Name: elr_bin5_class, dtype: float64"
      ]
     },
     "execution_count": 100,
     "metadata": {},
     "output_type": "execute_result"
    }
   ],
   "source": [
    "observation2['elr_bin5_class'].value_counts(normalize = True)"
   ]
  },
  {
   "cell_type": "code",
   "execution_count": 101,
   "metadata": {},
   "outputs": [
    {
     "data": {
      "text/plain": [
       "Text(0.5, 1.0, 'March - August 2020 real distribution')"
      ]
     },
     "execution_count": 101,
     "metadata": {},
     "output_type": "execute_result"
    },
    {
     "data": {
      "image/png": "[encoded data removed]",
      "text/plain": [
       "<Figure size 432x288 with 1 Axes>"
      ]
     },
     "metadata": {
      "needs_background": "light"
     },
     "output_type": "display_data"
    }
   ],
   "source": [
    "# real distribution - 5 classes \n",
    "observation2['elr_bin5_class'].value_counts(normalize = True).plot(kind = 'bar')\n",
    "plt.title('March - August 2020 real distribution')"
   ]
  },
  {
   "cell_type": "code",
   "execution_count": 102,
   "metadata": {},
   "outputs": [
    {
     "data": {
      "text/plain": [
       "<matplotlib.axes._subplots.AxesSubplot at 0x12c8a24d0>"
      ]
     },
     "execution_count": 102,
     "metadata": {},
     "output_type": "execute_result"
    },
    {
     "data": {
      "image/png": "[encoded data removed]",
      "text/plain": [
       "<Figure size 432x288 with 1 Axes>"
      ]
     },
     "metadata": {},
     "output_type": "display_data"
    }
   ],
   "source": [
    "observation2['elr_bin5_class'].value_counts(normalize = True).plot(kind = 'pie')"
   ]
  },
  {
   "cell_type": "code",
   "execution_count": 103,
   "metadata": {},
   "outputs": [
    {
     "data": {
      "text/plain": [
       "1    0.300760\n",
       "2    0.510870\n",
       "3    0.154950\n",
       "4    0.027249\n",
       "5    0.006172\n",
       "Name: elr_bin5_class_hat, dtype: float64"
      ]
     },
     "execution_count": 103,
     "metadata": {},
     "output_type": "execute_result"
    }
   ],
   "source": [
    "observation2['elr_bin5_class_hat'].value_counts(normalize = True).sort_index()"
   ]
  },
  {
   "cell_type": "code",
   "execution_count": 104,
   "metadata": {},
   "outputs": [
    {
     "data": {
      "text/plain": [
       "Text(0.5, 1.0, 'March - August 2020 predicted distribution')"
      ]
     },
     "execution_count": 104,
     "metadata": {},
     "output_type": "execute_result"
    },
    {
     "data": {
      "image/png": "[encoded data removed]",
      "text/plain": [
       "<Figure size 432x288 with 1 Axes>"
      ]
     },
     "metadata": {
      "needs_background": "light"
     },
     "output_type": "display_data"
    }
   ],
   "source": [
    "# predicted distribution - 5 classes\n",
    "observation2['elr_bin5_class_hat'].value_counts(normalize = True).sort_index().plot(kind = 'bar')\n",
    "plt.title('March - August 2020 predicted distribution')"
   ]
  },
  {
   "cell_type": "code",
   "execution_count": 105,
   "metadata": {},
   "outputs": [
    {
     "data": {
      "text/plain": [
       "<matplotlib.axes._subplots.AxesSubplot at 0x12d393190>"
      ]
     },
     "execution_count": 105,
     "metadata": {},
     "output_type": "execute_result"
    },
    {
     "data": {
      "image/png": "[encoded data removed]",
      "text/plain": [
       "<Figure size 432x288 with 1 Axes>"
      ]
     },
     "metadata": {},
     "output_type": "display_data"
    }
   ],
   "source": [
    "observation2['elr_bin5_class_hat'].value_counts(normalize = True).plot(kind = 'pie')"
   ]
  },
  {
   "cell_type": "code",
   "execution_count": 97,
   "metadata": {},
   "outputs": [
    {
     "data": {
      "text/plain": [
       "Text(0.5, 1.0, 'March - May 2020 real distribution')"
      ]
     },
     "execution_count": 97,
     "metadata": {},
     "output_type": "execute_result"
    },
    {
     "data": {
      "image/png": "[encoded data removed]",
      "text/plain": [
       "<Figure size 432x288 with 1 Axes>"
      ]
     },
     "metadata": {
      "needs_background": "light"
     },
     "output_type": "display_data"
    }
   ],
   "source": [
    "# real distribution - 10 classes\n",
    "observation2['elr_bin10_class'].value_counts(normalize = True).sort_index().plot(kind = 'bar')\n",
    "plt.title('March - May 2020 real distribution')"
   ]
  },
  {
   "cell_type": "code",
   "execution_count": 98,
   "metadata": {},
   "outputs": [
    {
     "data": {
      "text/plain": [
       "Text(0.5, 1.0, 'March - May 2020 predicted distribution')"
      ]
     },
     "execution_count": 98,
     "metadata": {},
     "output_type": "execute_result"
    },
    {
     "data": {
      "image/png": "[encoded data removed]",
      "text/plain": [
       "<Figure size 432x288 with 1 Axes>"
      ]
     },
     "metadata": {
      "needs_background": "light"
     },
     "output_type": "display_data"
    }
   ],
   "source": [
    "# predicted distribution - 10 classes \n",
    "observation2['elr_bin10_class_hat'].value_counts(normalize = True).sort_index().plot(kind = 'bar')\n",
    "plt.title('March - May 2020 predicted distribution')"
   ]
  },
  {
   "cell_type": "code",
   "execution_count": 86,
   "metadata": {},
   "outputs": [
    {
     "data": {
      "text/plain": [
       "<matplotlib.axes._subplots.AxesSubplot at 0x1224b5fd0>"
      ]
     },
     "execution_count": 86,
     "metadata": {},
     "output_type": "execute_result"
    },
    {
     "data": {
      "image/png": "[encoded data removed]",
      "text/plain": [
       "<Figure size 432x288 with 1 Axes>"
      ]
     },
     "metadata": {
      "needs_background": "light"
     },
     "output_type": "display_data"
    }
   ],
   "source": [
    "# real distribution - 20 classes\n",
    "observation2['elr_bin20_class'].value_counts(normalize = True).sort_index().plot(kind = 'bar')"
   ]
  },
  {
   "cell_type": "code",
   "execution_count": 87,
   "metadata": {},
   "outputs": [
    {
     "data": {
      "text/plain": [
       "<matplotlib.axes._subplots.AxesSubplot at 0x1232dc6d0>"
      ]
     },
     "execution_count": 87,
     "metadata": {},
     "output_type": "execute_result"
    },
    {
     "data": {
      "image/png": "[encoded data removed]",
      "text/plain": [
       "<Figure size 432x288 with 1 Axes>"
      ]
     },
     "metadata": {
      "needs_background": "light"
     },
     "output_type": "display_data"
    }
   ],
   "source": [
    "# predicted distribution - 20 classes\n",
    "observation2['elr_bin20_class_hat'].value_counts(normalize = True).sort_index().plot(kind = 'bar')"
   ]
  },
  {
   "cell_type": "markdown",
   "metadata": {},
   "source": [
    "### March 2020 Distribution"
   ]
  },
  {
   "cell_type": "code",
   "execution_count": 106,
   "metadata": {},
   "outputs": [],
   "source": [
    "March = observation2.loc[(observation2['listing_start_date'] >= '2020-03-01') & (observation2['listing_start_date'] <= '2020-03-31')]"
   ]
  },
  {
   "cell_type": "code",
   "execution_count": 107,
   "metadata": {},
   "outputs": [
    {
     "data": {
      "text/plain": [
       "Text(0.5, 1.0, 'March 2020 real distribution')"
      ]
     },
     "execution_count": 107,
     "metadata": {},
     "output_type": "execute_result"
    },
    {
     "data": {
      "image/png": "[encoded data removed]",
      "text/plain": [
       "<Figure size 432x288 with 1 Axes>"
      ]
     },
     "metadata": {
      "needs_background": "light"
     },
     "output_type": "display_data"
    }
   ],
   "source": [
    "March['elr_bin5_class'].value_counts(normalize = True).sort_index().plot(kind = 'bar')\n",
    "plt.title('March 2020 real distribution')"
   ]
  },
  {
   "cell_type": "code",
   "execution_count": 108,
   "metadata": {},
   "outputs": [
    {
     "data": {
      "text/plain": [
       "1    0.354541\n",
       "2    0.390883\n",
       "3    0.177270\n",
       "4    0.058546\n",
       "5    0.018760\n",
       "Name: elr_bin5_class, dtype: float64"
      ]
     },
     "execution_count": 108,
     "metadata": {},
     "output_type": "execute_result"
    }
   ],
   "source": [
    "March['elr_bin5_class'].value_counts(normalize = True).sort_index()"
   ]
  },
  {
   "cell_type": "code",
   "execution_count": 110,
   "metadata": {},
   "outputs": [
    {
     "data": {
      "text/plain": [
       "Text(0.5, 1.0, 'March 2020 predicted distribution')"
      ]
     },
     "execution_count": 110,
     "metadata": {},
     "output_type": "execute_result"
    },
    {
     "data": {
      "image/png": "[encoded data removed]",
      "text/plain": [
       "<Figure size 432x288 with 1 Axes>"
      ]
     },
     "metadata": {
      "needs_background": "light"
     },
     "output_type": "display_data"
    }
   ],
   "source": [
    "March['elr_bin5_class_hat'].value_counts(normalize = True).sort_index().plot(kind = 'bar')\n",
    "plt.title('March 2020 predicted distribution')"
   ]
  },
  {
   "cell_type": "code",
   "execution_count": 111,
   "metadata": {},
   "outputs": [
    {
     "data": {
      "text/plain": [
       "1    0.322730\n",
       "2    0.385989\n",
       "3    0.223672\n",
       "4    0.051659\n",
       "5    0.015951\n",
       "Name: elr_bin5_class_hat, dtype: float64"
      ]
     },
     "execution_count": 111,
     "metadata": {},
     "output_type": "execute_result"
    }
   ],
   "source": [
    "March['elr_bin5_class_hat'].value_counts(normalize = True).sort_index()"
   ]
  },
  {
   "cell_type": "code",
   "execution_count": 112,
   "metadata": {},
   "outputs": [
    {
     "data": {
      "text/plain": [
       "89.98549936559725"
      ]
     },
     "execution_count": 112,
     "metadata": {},
     "output_type": "execute_result"
    }
   ],
   "source": [
    "accuracy_score(March['elr_bin5_class'], March['elr_bin5_class_hat']) *100"
   ]
  },
  {
   "cell_type": "markdown",
   "metadata": {},
   "source": [
    "### April 2020 Distribution"
   ]
  },
  {
   "cell_type": "code",
   "execution_count": 113,
   "metadata": {},
   "outputs": [],
   "source": [
    "April = observation2.loc[(observation2['listing_start_date'] >= '2020-04-01') & (observation2['listing_start_date'] <= '2020-04-30')]"
   ]
  },
  {
   "cell_type": "code",
   "execution_count": 114,
   "metadata": {},
   "outputs": [
    {
     "data": {
      "text/plain": [
       "Text(0.5, 1.0, 'April 2020 real distribution')"
      ]
     },
     "execution_count": 114,
     "metadata": {},
     "output_type": "execute_result"
    },
    {
     "data": {
      "image/png": "[encoded data removed]",
      "text/plain": [
       "<Figure size 432x288 with 1 Axes>"
      ]
     },
     "metadata": {
      "needs_background": "light"
     },
     "output_type": "display_data"
    }
   ],
   "source": [
    "April['elr_bin5_class'].value_counts(normalize = True).plot(kind = 'bar')\n",
    "plt.title('April 2020 real distribution')"
   ]
  },
  {
   "cell_type": "code",
   "execution_count": 115,
   "metadata": {},
   "outputs": [
    {
     "data": {
      "text/plain": [
       "1    0.422489\n",
       "2    0.409084\n",
       "3    0.122063\n",
       "4    0.035641\n",
       "5    0.010724\n",
       "Name: elr_bin5_class, dtype: float64"
      ]
     },
     "execution_count": 115,
     "metadata": {},
     "output_type": "execute_result"
    }
   ],
   "source": [
    "April['elr_bin5_class'].value_counts(normalize = True)"
   ]
  },
  {
   "cell_type": "code",
   "execution_count": 116,
   "metadata": {},
   "outputs": [
    {
     "data": {
      "text/plain": [
       "Text(0.5, 1.0, 'April 2020 predicted distribution')"
      ]
     },
     "execution_count": 116,
     "metadata": {},
     "output_type": "execute_result"
    },
    {
     "data": {
      "image/png": "[encoded data removed]",
      "text/plain": [
       "<Figure size 432x288 with 1 Axes>"
      ]
     },
     "metadata": {
      "needs_background": "light"
     },
     "output_type": "display_data"
    }
   ],
   "source": [
    "April['elr_bin5_class_hat'].value_counts(normalize = True).sort_index().plot(kind = 'bar')\n",
    "plt.title('April 2020 predicted distribution')"
   ]
  },
  {
   "cell_type": "code",
   "execution_count": 279,
   "metadata": {},
   "outputs": [
    {
     "data": {
      "text/plain": [
       "1    0.233402\n",
       "2    0.528466\n",
       "3    0.186564\n",
       "4    0.042895\n",
       "5    0.008674\n",
       "Name: elr_bin5_class_hat, dtype: float64"
      ]
     },
     "execution_count": 279,
     "metadata": {},
     "output_type": "execute_result"
    }
   ],
   "source": [
    "April['elr_bin5_class_hat'].value_counts(normalize = True).sort_index()"
   ]
  },
  {
   "cell_type": "code",
   "execution_count": 280,
   "metadata": {},
   "outputs": [
    {
     "data": {
      "text/plain": [
       "72.1968143825895"
      ]
     },
     "execution_count": 280,
     "metadata": {},
     "output_type": "execute_result"
    }
   ],
   "source": [
    "accuracy_score(April['elr_bin5_class'], April['elr_bin5_class_hat']) *100"
   ]
  },
  {
   "cell_type": "markdown",
   "metadata": {},
   "source": [
    "### May 2020 distribution"
   ]
  },
  {
   "cell_type": "code",
   "execution_count": 281,
   "metadata": {},
   "outputs": [],
   "source": [
    "May = observation2.loc[(observation2['listing_start_date'] >= '2020-05-01') & (observation2['listing_start_date'] <= '2020-05-31')]"
   ]
  },
  {
   "cell_type": "code",
   "execution_count": 282,
   "metadata": {},
   "outputs": [
    {
     "data": {
      "text/plain": [
       "Text(0.5, 1.0, 'May 2020 real distribution')"
      ]
     },
     "execution_count": 282,
     "metadata": {},
     "output_type": "execute_result"
    },
    {
     "data": {
      "image/png": "[encoded data removed]",
      "text/plain": [
       "<Figure size 432x288 with 1 Axes>"
      ]
     },
     "metadata": {
      "needs_background": "light"
     },
     "output_type": "display_data"
    }
   ],
   "source": [
    "May['elr_bin5_class'].value_counts(normalize = True).plot(kind = 'bar')\n",
    "plt.title('May 2020 real distribution')"
   ]
  },
  {
   "cell_type": "code",
   "execution_count": 283,
   "metadata": {},
   "outputs": [
    {
     "data": {
      "text/plain": [
       "1    0.571274\n",
       "2    0.404968\n",
       "3    0.021958\n",
       "4    0.001800\n",
       "Name: elr_bin5_class, dtype: float64"
      ]
     },
     "execution_count": 283,
     "metadata": {},
     "output_type": "execute_result"
    }
   ],
   "source": [
    "May['elr_bin5_class'].value_counts(normalize = True)"
   ]
  },
  {
   "cell_type": "code",
   "execution_count": 285,
   "metadata": {},
   "outputs": [
    {
     "data": {
      "text/plain": [
       "Text(0.5, 1.0, 'May 2020 predicted distribution')"
      ]
     },
     "execution_count": 285,
     "metadata": {},
     "output_type": "execute_result"
    },
    {
     "data": {
      "image/png": "[encoded data removed]",
      "text/plain": [
       "<Figure size 432x288 with 1 Axes>"
      ]
     },
     "metadata": {
      "needs_background": "light"
     },
     "output_type": "display_data"
    }
   ],
   "source": [
    "May['elr_bin5_class_hat'].value_counts(normalize = True).sort_index().plot(kind = 'bar')\n",
    "plt.title('May 2020 predicted distribution')"
   ]
  },
  {
   "cell_type": "code",
   "execution_count": 286,
   "metadata": {},
   "outputs": [
    {
     "data": {
      "text/plain": [
       "1    0.315155\n",
       "2    0.637689\n",
       "3    0.044636\n",
       "4    0.002520\n",
       "Name: elr_bin5_class_hat, dtype: float64"
      ]
     },
     "execution_count": 286,
     "metadata": {},
     "output_type": "execute_result"
    }
   ],
   "source": [
    "May['elr_bin5_class_hat'].value_counts(normalize = True).sort_index()"
   ]
  },
  {
   "cell_type": "code",
   "execution_count": 287,
   "metadata": {},
   "outputs": [
    {
     "data": {
      "text/plain": [
       "71.90424766018718"
      ]
     },
     "execution_count": 287,
     "metadata": {},
     "output_type": "execute_result"
    }
   ],
   "source": [
    "accuracy_score(May['elr_bin5_class'], May['elr_bin5_class_hat']) *100"
   ]
  },
  {
   "cell_type": "markdown",
   "metadata": {},
   "source": [
    "### June 2020 distribution"
   ]
  },
  {
   "cell_type": "code",
   "execution_count": 288,
   "metadata": {},
   "outputs": [],
   "source": [
    "June = observation2.loc[(observation2['listing_start_date'] >= '2020-06-01') & (observation2['listing_start_date'] <= '2020-06-30')]"
   ]
  },
  {
   "cell_type": "code",
   "execution_count": 289,
   "metadata": {},
   "outputs": [
    {
     "data": {
      "text/plain": [
       "Text(0.5, 1.0, 'June 2020 real distribution')"
      ]
     },
     "execution_count": 289,
     "metadata": {},
     "output_type": "execute_result"
    },
    {
     "data": {
      "image/png": "[encoded data removed]",
      "text/plain": [
       "<Figure size 432x288 with 1 Axes>"
      ]
     },
     "metadata": {
      "needs_background": "light"
     },
     "output_type": "display_data"
    }
   ],
   "source": [
    "June['elr_bin5_class'].value_counts(normalize = True).plot(kind = 'bar')\n",
    "plt.title('June 2020 real distribution')"
   ]
  },
  {
   "cell_type": "code",
   "execution_count": 290,
   "metadata": {},
   "outputs": [
    {
     "data": {
      "text/plain": [
       "Text(0.5, 1.0, 'June 2020 predicted distribution')"
      ]
     },
     "execution_count": 290,
     "metadata": {},
     "output_type": "execute_result"
    },
    {
     "data": {
      "image/png": "[encoded data removed]",
      "text/plain": [
       "<Figure size 432x288 with 1 Axes>"
      ]
     },
     "metadata": {
      "needs_background": "light"
     },
     "output_type": "display_data"
    }
   ],
   "source": [
    "June['elr_bin5_class_hat'].value_counts(normalize = True).sort_index().plot(kind = 'bar')\n",
    "plt.title('June 2020 predicted distribution')"
   ]
  },
  {
   "cell_type": "code",
   "execution_count": 291,
   "metadata": {},
   "outputs": [
    {
     "data": {
      "text/plain": [
       "69.63142412182039"
      ]
     },
     "execution_count": 291,
     "metadata": {},
     "output_type": "execute_result"
    }
   ],
   "source": [
    "accuracy_score(June['elr_bin5_class'], June['elr_bin5_class_hat']) *100"
   ]
  },
  {
   "cell_type": "markdown",
   "metadata": {},
   "source": [
    "### July"
   ]
  },
  {
   "cell_type": "code",
   "execution_count": 292,
   "metadata": {},
   "outputs": [],
   "source": [
    "July = observation2.loc[(observation2['listing_start_date'] >= '2020-07-01') & (observation2['listing_start_date'] <= '2020-07-31')]"
   ]
  },
  {
   "cell_type": "code",
   "execution_count": 293,
   "metadata": {},
   "outputs": [
    {
     "data": {
      "text/plain": [
       "Text(0.5, 1.0, 'July 2020 real distribution')"
      ]
     },
     "execution_count": 293,
     "metadata": {},
     "output_type": "execute_result"
    },
    {
     "data": {
      "image/png": "[encoded data removed]",
      "text/plain": [
       "<Figure size 432x288 with 1 Axes>"
      ]
     },
     "metadata": {
      "needs_background": "light"
     },
     "output_type": "display_data"
    }
   ],
   "source": [
    "July['elr_bin5_class'].value_counts(normalize = True).plot(kind = 'bar')\n",
    "plt.title('July 2020 real distribution')"
   ]
  },
  {
   "cell_type": "code",
   "execution_count": 294,
   "metadata": {},
   "outputs": [
    {
     "data": {
      "text/plain": [
       "Text(0.5, 1.0, 'July 2020 predicted distribution')"
      ]
     },
     "execution_count": 294,
     "metadata": {},
     "output_type": "execute_result"
    },
    {
     "data": {
      "image/png": "[encoded data removed]",
      "text/plain": [
       "<Figure size 432x288 with 1 Axes>"
      ]
     },
     "metadata": {
      "needs_background": "light"
     },
     "output_type": "display_data"
    }
   ],
   "source": [
    "July['elr_bin5_class_hat'].value_counts(normalize = True).sort_index().plot(kind = 'bar')\n",
    "plt.title('July 2020 predicted distribution')"
   ]
  },
  {
   "cell_type": "code",
   "execution_count": 295,
   "metadata": {},
   "outputs": [
    {
     "data": {
      "text/plain": [
       "67.87370280415102"
      ]
     },
     "execution_count": 295,
     "metadata": {},
     "output_type": "execute_result"
    }
   ],
   "source": [
    "accuracy_score(July['elr_bin5_class'], July['elr_bin5_class_hat']) *100"
   ]
  },
  {
   "cell_type": "code",
   "execution_count": 296,
   "metadata": {},
   "outputs": [],
   "source": [
    "Aug = observation2.loc[(observation2['listing_start_date'] >= '2020-08-01') & (observation2['listing_start_date'] <= '2020-08-31')]"
   ]
  },
  {
   "cell_type": "code",
   "execution_count": 297,
   "metadata": {},
   "outputs": [
    {
     "data": {
      "text/plain": [
       "Text(0.5, 1.0, 'Aug 2020 real distribution')"
      ]
     },
     "execution_count": 297,
     "metadata": {},
     "output_type": "execute_result"
    },
    {
     "data": {
      "image/png": "[encoded data removed]",
      "text/plain": [
       "<Figure size 432x288 with 1 Axes>"
      ]
     },
     "metadata": {
      "needs_background": "light"
     },
     "output_type": "display_data"
    }
   ],
   "source": [
    "Aug['elr_bin5_class'].value_counts(normalize = True).plot(kind = 'bar')\n",
    "plt.title('Aug 2020 real distribution')"
   ]
  },
  {
   "cell_type": "code",
   "execution_count": 298,
   "metadata": {},
   "outputs": [
    {
     "data": {
      "text/plain": [
       "Text(0.5, 1.0, 'Aug 2020 predicted distribution')"
      ]
     },
     "execution_count": 298,
     "metadata": {},
     "output_type": "execute_result"
    },
    {
     "data": {
      "image/png": "[encoded data removed]",
      "text/plain": [
       "<Figure size 432x288 with 1 Axes>"
      ]
     },
     "metadata": {
      "needs_background": "light"
     },
     "output_type": "display_data"
    }
   ],
   "source": [
    "Aug['elr_bin5_class_hat'].value_counts(normalize = True).sort_index().plot(kind = 'bar')\n",
    "plt.title('Aug 2020 predicted distribution')"
   ]
  },
  {
   "cell_type": "code",
   "execution_count": 299,
   "metadata": {},
   "outputs": [
    {
     "data": {
      "text/plain": [
       "67.35099337748345"
      ]
     },
     "execution_count": 299,
     "metadata": {},
     "output_type": "execute_result"
    }
   ],
   "source": [
    "accuracy_score(Aug['elr_bin5_class'], Aug['elr_bin5_class_hat']) *100"
   ]
  },
  {
   "cell_type": "markdown",
   "metadata": {},
   "source": [
    "### post-covid overall distribution"
   ]
  },
  {
   "cell_type": "code",
   "execution_count": 377,
   "metadata": {},
   "outputs": [],
   "source": [
    "post_covid = combined2.loc[(combined2['listing_start_date'] >= '2020-03-01') & (combined2['listing_start_date'] <= '2020-10-31')]"
   ]
  },
  {
   "cell_type": "code",
   "execution_count": 335,
   "metadata": {},
   "outputs": [],
   "source": [
    "post_covid = post_covid[['listing_start_date', 'estimated_loss_rate', 'elr_bin5_class','TUFicoRange_Nu', 'prosper_rating_nu']]"
   ]
  },
  {
   "cell_type": "code",
   "execution_count": 342,
   "metadata": {},
   "outputs": [
    {
     "data": {
      "text/plain": [
       "<matplotlib.axes._subplots.AxesSubplot at 0x1206f9d90>"
      ]
     },
     "execution_count": 342,
     "metadata": {},
     "output_type": "execute_result"
    },
    {
     "data": {
      "image/png": "[encoded data removed]",
      "text/plain": [
       "<Figure size 432x288 with 1 Axes>"
      ]
     },
     "metadata": {
      "needs_background": "light"
     },
     "output_type": "display_data"
    }
   ],
   "source": [
    "post_covid['elr_bin5_class'].value_counts(normalize = True).plot(kind = 'bar')"
   ]
  },
  {
   "cell_type": "code",
   "execution_count": 340,
   "metadata": {},
   "outputs": [],
   "source": [
    "Sep = post_covid.loc[(post_covid['listing_start_date'] >= '2020-09-01') & (post_covid['listing_start_date'] <= '2020-09-30')]"
   ]
  },
  {
   "cell_type": "code",
   "execution_count": 341,
   "metadata": {},
   "outputs": [
    {
     "data": {
      "text/plain": [
       "Text(0.5, 1.0, 'Sep 2020 real distribution')"
      ]
     },
     "execution_count": 341,
     "metadata": {},
     "output_type": "execute_result"
    },
    {
     "data": {
      "image/png": "[encoded data removed]",
      "text/plain": [
       "<Figure size 432x288 with 1 Axes>"
      ]
     },
     "metadata": {
      "needs_background": "light"
     },
     "output_type": "display_data"
    }
   ],
   "source": [
    "Sep['elr_bin5_class'].value_counts(normalize = True).plot(kind = 'bar')\n",
    "plt.title('Sep 2020 real distribution')"
   ]
  },
  {
   "cell_type": "code",
   "execution_count": 343,
   "metadata": {},
   "outputs": [],
   "source": [
    "Oct = post_covid.loc[(post_covid['listing_start_date'] >= '2020-10-01') & (post_covid['listing_start_date'] <= '2020-10-31')]"
   ]
  },
  {
   "cell_type": "code",
   "execution_count": 344,
   "metadata": {},
   "outputs": [
    {
     "data": {
      "text/plain": [
       "Text(0.5, 1.0, 'Oct 2020 real distribution')"
      ]
     },
     "execution_count": 344,
     "metadata": {},
     "output_type": "execute_result"
    },
    {
     "data": {
      "image/png": "[encoded data removed]",
      "text/plain": [
       "<Figure size 432x288 with 1 Axes>"
      ]
     },
     "metadata": {
      "needs_background": "light"
     },
     "output_type": "display_data"
    }
   ],
   "source": [
    "Oct['elr_bin5_class'].value_counts(normalize = True).plot(kind = 'bar')\n",
    "plt.title('Oct 2020 real distribution')"
   ]
  },
  {
   "cell_type": "code",
   "execution_count": null,
   "metadata": {},
   "outputs": [],
   "source": []
  },
  {
   "cell_type": "code",
   "execution_count": null,
   "metadata": {},
   "outputs": [],
   "source": []
  },
  {
   "cell_type": "code",
   "execution_count": null,
   "metadata": {},
   "outputs": [],
   "source": []
  },
  {
   "cell_type": "code",
   "execution_count": null,
   "metadata": {},
   "outputs": [],
   "source": []
  },
  {
   "cell_type": "markdown",
   "metadata": {},
   "source": [
    "### dataset exploration - interesting findings (sub1)"
   ]
  },
  {
   "cell_type": "code",
   "execution_count": 357,
   "metadata": {},
   "outputs": [
    {
     "data": {
      "text/plain": [
       "(117,)"
      ]
     },
     "execution_count": 357,
     "metadata": {},
     "output_type": "execute_result"
    }
   ],
   "source": [
    "# examine the estimated loss rate for thoese who are not funded at all\n",
    "zero_fund = sub2_train.loc[sub2_train['percent_funded'] == 0]\n",
    "elr_zero_fund = zero_fund['estimated_loss_rate']\n",
    "elr_zero_fund.value_counts().shape"
   ]
  },
  {
   "cell_type": "code",
   "execution_count": 361,
   "metadata": {},
   "outputs": [
    {
     "data": {
      "text/plain": [
       "<matplotlib.axes._subplots.AxesSubplot at 0x123547750>"
      ]
     },
     "execution_count": 361,
     "metadata": {},
     "output_type": "execute_result"
    },
    {
     "data": {
      "image/png": "[encoded data removed]",
      "text/plain": [
       "<Figure size 432x288 with 1 Axes>"
      ]
     },
     "metadata": {
      "needs_background": "light"
     },
     "output_type": "display_data"
    }
   ],
   "source": [
    "zero_fund['elr_bin5_class'].value_counts(normalize = True).sort_index().plot(kind ='bar')"
   ]
  },
  {
   "cell_type": "code",
   "execution_count": 367,
   "metadata": {},
   "outputs": [
    {
     "data": {
      "text/plain": [
       "1    0.350338\n",
       "2    0.410203\n",
       "3    0.174909\n",
       "4    0.052056\n",
       "5    0.012493\n",
       "Name: elr_bin5_class, dtype: float64"
      ]
     },
     "execution_count": 367,
     "metadata": {},
     "output_type": "execute_result"
    }
   ],
   "source": [
    "zero_fund['elr_bin5_class'].value_counts(normalize = True).sort_index()"
   ]
  },
  {
   "cell_type": "code",
   "execution_count": null,
   "metadata": {},
   "outputs": [],
   "source": []
  },
  {
   "cell_type": "code",
   "execution_count": 364,
   "metadata": {},
   "outputs": [
    {
     "data": {
      "text/plain": [
       "count    179236.000000\n",
       "mean          0.058313\n",
       "std           0.034420\n",
       "min           0.002700\n",
       "25%           0.032400\n",
       "50%           0.052400\n",
       "75%           0.077400\n",
       "max           0.177500\n",
       "Name: estimated_loss_rate, dtype: float64"
      ]
     },
     "execution_count": 364,
     "metadata": {},
     "output_type": "execute_result"
    }
   ],
   "source": [
    "# examine the estimated loss rate for thoese who are funded 100%\n",
    "total_fund = sub2_train.loc[sub2_train['percent_funded'] == 100]\n",
    "elr_total_fund = total_fund['estimated_loss_rate']\n",
    "elr_total_fund.describe()"
   ]
  },
  {
   "cell_type": "code",
   "execution_count": 365,
   "metadata": {},
   "outputs": [
    {
     "data": {
      "text/plain": [
       "<matplotlib.axes._subplots.AxesSubplot at 0x1202ba090>"
      ]
     },
     "execution_count": 365,
     "metadata": {},
     "output_type": "execute_result"
    },
    {
     "data": {
      "image/png": "[encoded data removed]",
      "text/plain": [
       "<Figure size 432x288 with 1 Axes>"
      ]
     },
     "metadata": {
      "needs_background": "light"
     },
     "output_type": "display_data"
    }
   ],
   "source": [
    "total_fund['elr_bin5_class'].value_counts(normalize = True).sort_index().plot(kind ='bar')"
   ]
  },
  {
   "cell_type": "code",
   "execution_count": 366,
   "metadata": {},
   "outputs": [
    {
     "data": {
      "text/plain": [
       "1    0.319484\n",
       "2    0.393024\n",
       "3    0.197360\n",
       "4    0.068647\n",
       "5    0.021486\n",
       "Name: elr_bin5_class, dtype: float64"
      ]
     },
     "execution_count": 366,
     "metadata": {},
     "output_type": "execute_result"
    }
   ],
   "source": [
    "total_fund['elr_bin5_class'].value_counts(normalize = True).sort_index()"
   ]
  },
  {
   "cell_type": "code",
   "execution_count": null,
   "metadata": {},
   "outputs": [],
   "source": []
  },
  {
   "cell_type": "code",
   "execution_count": null,
   "metadata": {},
   "outputs": [],
   "source": []
  },
  {
   "cell_type": "code",
   "execution_count": 368,
   "metadata": {},
   "outputs": [
    {
     "data": {
      "text/plain": [
       "count    555.000000\n",
       "mean       0.087332\n",
       "std        0.047757\n",
       "min        0.002700\n",
       "25%        0.047400\n",
       "50%        0.084900\n",
       "75%        0.125900\n",
       "max        0.177500\n",
       "Name: estimated_loss_rate, dtype: float64"
      ]
     },
     "execution_count": 368,
     "metadata": {},
     "output_type": "execute_result"
    }
   ],
   "source": [
    "# examine the estimated loss rate for thoese who are only partially funded\n",
    "partial_fund = sub2_train.loc[(sub2_train['percent_funded'] != 100) & (sub2_train['percent_funded'] != 0)]\n",
    "elr_partial_fund = partial_fund['estimated_loss_rate']\n",
    "elr_partial_fund.describe()"
   ]
  },
  {
   "cell_type": "code",
   "execution_count": 369,
   "metadata": {},
   "outputs": [
    {
     "data": {
      "text/plain": [
       "<matplotlib.axes._subplots.AxesSubplot at 0x11e63fc10>"
      ]
     },
     "execution_count": 369,
     "metadata": {},
     "output_type": "execute_result"
    },
    {
     "data": {
      "image/png": "[encoded data removed]",
      "text/plain": [
       "<Figure size 432x288 with 1 Axes>"
      ]
     },
     "metadata": {
      "needs_background": "light"
     },
     "output_type": "display_data"
    }
   ],
   "source": [
    "partial_fund['elr_bin5_class'].value_counts(normalize = True).sort_index().plot(kind ='bar')"
   ]
  },
  {
   "cell_type": "code",
   "execution_count": 384,
   "metadata": {},
   "outputs": [
    {
     "data": {
      "text/plain": [
       "1    0.172973\n",
       "2    0.277477\n",
       "3    0.200000\n",
       "4    0.210811\n",
       "5    0.138739\n",
       "Name: elr_bin5_class, dtype: float64"
      ]
     },
     "execution_count": 384,
     "metadata": {},
     "output_type": "execute_result"
    }
   ],
   "source": [
    "partial_fund['elr_bin5_class'].value_counts(normalize = True).sort_index()"
   ]
  },
  {
   "cell_type": "markdown",
   "metadata": {},
   "source": [
    "### post covid"
   ]
  },
  {
   "cell_type": "code",
   "execution_count": 378,
   "metadata": {},
   "outputs": [
    {
     "data": {
      "text/plain": [
       "<matplotlib.axes._subplots.AxesSubplot at 0x121d4d610>"
      ]
     },
     "execution_count": 378,
     "metadata": {},
     "output_type": "execute_result"
    },
    {
     "data": {
      "image/png": "[encoded data removed]",
      "text/plain": [
       "<Figure size 432x288 with 1 Axes>"
      ]
     },
     "metadata": {
      "needs_background": "light"
     },
     "output_type": "display_data"
    }
   ],
   "source": [
    "zero_fund_1 = post_covid.loc[post_covid['percent_funded'] == 0]\n",
    "zero_fund_1['elr_bin5_class'].value_counts(normalize = True).sort_index().plot(kind ='bar')"
   ]
  },
  {
   "cell_type": "code",
   "execution_count": 383,
   "metadata": {},
   "outputs": [
    {
     "data": {
      "text/plain": [
       "1    0.388486\n",
       "2    0.446054\n",
       "3    0.133816\n",
       "4    0.027449\n",
       "5    0.004194\n",
       "Name: elr_bin5_class, dtype: float64"
      ]
     },
     "execution_count": 383,
     "metadata": {},
     "output_type": "execute_result"
    }
   ],
   "source": [
    "zero_fund_1['elr_bin5_class'].value_counts(normalize = True).sort_index()"
   ]
  },
  {
   "cell_type": "code",
   "execution_count": 379,
   "metadata": {},
   "outputs": [
    {
     "data": {
      "text/plain": [
       "<matplotlib.axes._subplots.AxesSubplot at 0x1237abc10>"
      ]
     },
     "execution_count": 379,
     "metadata": {},
     "output_type": "execute_result"
    },
    {
     "data": {
      "image/png": "[encoded data removed]",
      "text/plain": [
       "<Figure size 432x288 with 1 Axes>"
      ]
     },
     "metadata": {
      "needs_background": "light"
     },
     "output_type": "display_data"
    }
   ],
   "source": [
    "total_fund_1 = post_covid.loc[post_covid['percent_funded'] == 100]\n",
    "total_fund_1['elr_bin5_class'].value_counts(normalize = True).sort_index().plot(kind ='bar')"
   ]
  },
  {
   "cell_type": "code",
   "execution_count": 381,
   "metadata": {},
   "outputs": [
    {
     "data": {
      "text/plain": [
       "1    0.519139\n",
       "2    0.359824\n",
       "3    0.090512\n",
       "4    0.023982\n",
       "5    0.006543\n",
       "Name: elr_bin5_class, dtype: float64"
      ]
     },
     "execution_count": 381,
     "metadata": {},
     "output_type": "execute_result"
    }
   ],
   "source": [
    "total_fund_1['elr_bin5_class'].value_counts(normalize = True).sort_index()"
   ]
  },
  {
   "cell_type": "code",
   "execution_count": 380,
   "metadata": {},
   "outputs": [
    {
     "data": {
      "text/plain": [
       "<matplotlib.axes._subplots.AxesSubplot at 0x122c43650>"
      ]
     },
     "execution_count": 380,
     "metadata": {},
     "output_type": "execute_result"
    },
    {
     "data": {
      "image/png": "[encoded data removed]",
      "text/plain": [
       "<Figure size 432x288 with 1 Axes>"
      ]
     },
     "metadata": {
      "needs_background": "light"
     },
     "output_type": "display_data"
    }
   ],
   "source": [
    "partial_fund_1 = post_covid.loc[(post_covid['percent_funded'] != 100) & (post_covid['percent_funded'] != 0)]\n",
    "partial_fund_1['elr_bin5_class'].value_counts(normalize = True).sort_index().plot(kind ='bar')"
   ]
  },
  {
   "cell_type": "code",
   "execution_count": 382,
   "metadata": {},
   "outputs": [
    {
     "data": {
      "text/plain": [
       "1    0.441379\n",
       "2    0.351724\n",
       "3    0.131034\n",
       "4    0.051724\n",
       "5    0.024138\n",
       "Name: elr_bin5_class, dtype: float64"
      ]
     },
     "execution_count": 382,
     "metadata": {},
     "output_type": "execute_result"
    }
   ],
   "source": [
    "partial_fund_1['elr_bin5_class'].value_counts(normalize = True).sort_index()"
   ]
  },
  {
   "cell_type": "markdown",
   "metadata": {},
   "source": [
    "Prosper adjusted the model after covid to make borrowers look less risky. \n",
    "\n",
    "On Prosper's website, they claimed that they would tighten their lending model during an economic downturn to protect investors. The data show that is not the case. \n",
    "\n",
    "possible motivations: increase liquidity for borrowers and help them in this difficult time (social causes). Make sure investors have a brighter perception on borrowers so they would keep investing. This would ensure the platform doesn't go bankrupt and keep operating. \n",
    "\n",
    "Investors become more risk averse after the burst of the pandemic. They focus more on the estimated loss rate when they make the decisions on the percentage funding they are willing to provide. However, since Prosper adjusted its model, the estimated loss rate may not reflect the same amount of risk compare to the pre-covid period. Investors should do their own research instead of relying on the data/scores provided by the platform to make the right decisions during an economic downturn.\n",
    "\n",
    "https://www.cnbc.com/2020/04/15/solo-funds-offers-interest-free-microloans-to-millions-of-americans.html\n",
    "\n",
    "https://www.reuters.com/article/us-funding-circle-trading/funding-circle-operating-losses-rise-but-sees-long-term-lending-opportunity-idUSKCN26F0QQ\n",
    "\n"
   ]
  },
  {
   "cell_type": "code",
   "execution_count": null,
   "metadata": {},
   "outputs": [],
   "source": []
  },
  {
   "cell_type": "code",
   "execution_count": null,
   "metadata": {},
   "outputs": [],
   "source": []
  },
  {
   "cell_type": "markdown",
   "metadata": {},
   "source": [
    "### Random Forest Feature selections - may be used for dimensional reduction "
   ]
  },
  {
   "cell_type": "code",
   "execution_count": 67,
   "metadata": {},
   "outputs": [],
   "source": [
    "feature_names = X.columns.tolist()"
   ]
  },
  {
   "cell_type": "code",
   "execution_count": 68,
   "metadata": {},
   "outputs": [],
   "source": [
    "feature_ranks = pd.DataFrame({'feature_names':feature_names,'scores': rfc.feature_importances_}, columns = ['feature_names', 'scores'])"
   ]
  },
  {
   "cell_type": "code",
   "execution_count": 69,
   "metadata": {},
   "outputs": [],
   "source": [
    "feature_ranks = feature_ranks.sort_values(by = ['scores'], ascending = False)\n",
    "feature_ranks.set_index('feature_names', inplace = True)"
   ]
  },
  {
   "cell_type": "code",
   "execution_count": 72,
   "metadata": {},
   "outputs": [
    {
     "data": {
      "text/plain": [
       "<matplotlib.axes._subplots.AxesSubplot at 0x12276d6d0>"
      ]
     },
     "execution_count": 72,
     "metadata": {},
     "output_type": "execute_result"
    },
    {
     "data": {
      "image/png": "[encoded data removed]",
      "text/plain": [
       "<Figure size 1080x864 with 1 Axes>"
      ]
     },
     "metadata": {
      "needs_background": "light"
     },
     "output_type": "display_data"
    }
   ],
   "source": [
    "# visualize the top 50 importance features \n",
    "import matplotlib.pyplot as plt\n",
    "feature_ranks.head(50).plot(kind = 'barh', figsize = (15,12))"
   ]
  }
 ],
 "metadata": {
  "kernelspec": {
   "display_name": "Python 3",
   "language": "python",
   "name": "python3"
  },
  "language_info": {
   "codemirror_mode": {
    "name": "ipython",
    "version": 3
   },
   "file_extension": ".py",
   "mimetype": "text/x-python",
   "name": "python",
   "nbconvert_exporter": "python",
   "pygments_lexer": "ipython3",
   "version": "3.7.4"
  }
 },
 "nbformat": 4,
 "nbformat_minor": 2
}
