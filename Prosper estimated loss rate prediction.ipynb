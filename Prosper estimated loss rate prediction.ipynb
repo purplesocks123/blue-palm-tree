{
 "cells": [
  {
   "cell_type": "markdown",
   "metadata": {},
   "source": [
    "**Author: Fiona Jiaqi Wu** "
   ]
  },
  {
   "cell_type": "code",
   "execution_count": 1,
   "metadata": {},
   "outputs": [],
   "source": [
    "import numpy as np\n",
    "import pandas as pd"
   ]
  },
  {
   "cell_type": "code",
   "execution_count": 2,
   "metadata": {},
   "outputs": [],
   "source": [
    "import warnings\n",
    "warnings.simplefilter(action='ignore', category=FutureWarning)\n",
    "pd.set_option('display.max_columns', None)\n",
    "pd.set_option('display.max_rows', None)"
   ]
  },
  {
   "cell_type": "markdown",
   "metadata": {},
   "source": [
    "### Import Datasets"
   ]
  },
  {
   "cell_type": "code",
   "execution_count": 3,
   "metadata": {},
   "outputs": [],
   "source": [
    "df1 = pd.read_csv('/Users/Fiona/Desktop/Prosper/2019.csv')"
   ]
  },
  {
   "cell_type": "code",
   "execution_count": 4,
   "metadata": {},
   "outputs": [
    {
     "data": {
      "text/plain": [
       "(189941, 370)"
      ]
     },
     "execution_count": 4,
     "metadata": {},
     "output_type": "execute_result"
    }
   ],
   "source": [
    "df1.shape"
   ]
  },
  {
   "cell_type": "code",
   "execution_count": 5,
   "metadata": {},
   "outputs": [],
   "source": [
    "df2 = pd.read_csv('/Users/Fiona/Desktop/Prosper/2020.csv')"
   ]
  },
  {
   "cell_type": "code",
   "execution_count": 6,
   "metadata": {},
   "outputs": [
    {
     "data": {
      "text/plain": [
       "(83747, 377)"
      ]
     },
     "execution_count": 6,
     "metadata": {},
     "output_type": "execute_result"
    }
   ],
   "source": [
    "df2.shape"
   ]
  },
  {
   "cell_type": "code",
   "execution_count": 7,
   "metadata": {},
   "outputs": [],
   "source": [
    "df3 = pd.read_csv('/Users/Fiona/Desktop/Prosper/2018.csv')"
   ]
  },
  {
   "cell_type": "code",
   "execution_count": 8,
   "metadata": {
    "scrolled": false
   },
   "outputs": [],
   "source": [
    "df1['listing_start_date'] = pd.to_datetime(df1['listing_start_date'])\n",
    "df1['listing_end_date'] = pd.to_datetime(df1['listing_end_date'])\n",
    "df1['listing_creation_date'] = pd.to_datetime(df1['listing_creation_date'])\n",
    "df2['listing_start_date'] = pd.to_datetime(df2['listing_start_date'])\n",
    "df2['listing_end_date'] = pd.to_datetime(df2['listing_end_date'])\n",
    "df2['listing_creation_date'] = pd.to_datetime(df2['listing_creation_date'])\n",
    "df3['listing_start_date'] = pd.to_datetime(df3['listing_start_date'])\n",
    "df3['listing_end_date'] = pd.to_datetime(df3['listing_end_date'])\n",
    "df3['listing_creation_date'] = pd.to_datetime(df3['listing_creation_date'])"
   ]
  },
  {
   "cell_type": "markdown",
   "metadata": {},
   "source": [
    "### Combine datasets (2018, 2019, 2020)"
   ]
  },
  {
   "cell_type": "code",
   "execution_count": 9,
   "metadata": {},
   "outputs": [],
   "source": [
    "df1 = df1[df1.columns & df2.columns & df3.columns]\n",
    "df2 = df2[df1.columns & df2.columns & df3.columns]\n",
    "df3 = df3[df1.columns & df2.columns & df3.columns]"
   ]
  },
  {
   "cell_type": "code",
   "execution_count": 10,
   "metadata": {},
   "outputs": [
    {
     "name": "stdout",
     "output_type": "stream",
     "text": [
      "(189941, 368)\n",
      "(83747, 368)\n",
      "(227524, 368)\n",
      "501212\n"
     ]
    }
   ],
   "source": [
    "print(df1.shape)\n",
    "print(df2.shape)\n",
    "print(df3.shape)\n",
    "print(df1.shape[0] + df2.shape[0] + df3.shape[0])"
   ]
  },
  {
   "cell_type": "code",
   "execution_count": 11,
   "metadata": {},
   "outputs": [],
   "source": [
    "combined = pd.concat([df1, df2, df3], ignore_index=True)"
   ]
  },
  {
   "cell_type": "code",
   "execution_count": 12,
   "metadata": {},
   "outputs": [
    {
     "data": {
      "text/plain": [
       "(501212, 368)"
      ]
     },
     "execution_count": 12,
     "metadata": {},
     "output_type": "execute_result"
    }
   ],
   "source": [
    "combined.shape"
   ]
  },
  {
   "cell_type": "markdown",
   "metadata": {},
   "source": [
    "### Data Cleaning (dealing with NaN values)"
   ]
  },
  {
   "cell_type": "code",
   "execution_count": 13,
   "metadata": {},
   "outputs": [
    {
     "data": {
      "text/plain": [
       "(500367, 368)"
      ]
     },
     "execution_count": 13,
     "metadata": {},
     "output_type": "execute_result"
    }
   ],
   "source": [
    "combined = combined.loc[combined['AT01S'].isnull() == False]\n",
    "combined = combined.loc[combined['RT35S'].isnull() == False]\n",
    "combined.shape"
   ]
  },
  {
   "cell_type": "code",
   "execution_count": 14,
   "metadata": {},
   "outputs": [],
   "source": [
    "#fill missing prosper scores with its median\n",
    "prosper_median = combined['prosper_score'].median()\n",
    "combined['prosper_score'] = combined['prosper_score'].fillna(prosper_median)"
   ]
  },
  {
   "cell_type": "code",
   "execution_count": 15,
   "metadata": {},
   "outputs": [],
   "source": [
    "#replace the missing values in occupation with the second most common value - professional (the most common one is Other)\n",
    "combined['occupation'] = combined['occupation'].fillna('Professional')"
   ]
  },
  {
   "cell_type": "code",
   "execution_count": 16,
   "metadata": {},
   "outputs": [],
   "source": [
    "#fill missing values in months employed with its median\n",
    "employed_median = combined['months_employed'].median()\n",
    "combined['months_employed'] = combined['months_employed'].fillna(employed_median)"
   ]
  },
  {
   "cell_type": "code",
   "execution_count": 17,
   "metadata": {},
   "outputs": [],
   "source": [
    "combined = combined.fillna(0)"
   ]
  },
  {
   "cell_type": "code",
   "execution_count": 18,
   "metadata": {},
   "outputs": [],
   "source": [
    "#convert percent_funded to % style\n",
    "combined['percent_funded'] = combined['percent_funded']*100"
   ]
  },
  {
   "cell_type": "markdown",
   "metadata": {},
   "source": [
    "### Prosper rating \n",
    "Prosper Ratings allow potential investors to easily consider a loan application's level of risk because the rating represents an estimated average annualized loss rate range to the investor. \n",
    "\n",
    "AA  0.00-1.99% = 6\\\n",
    "A\t2.00–3.99% = 5\\\n",
    "B\t4.00–5.99% = 4 \\\n",
    "C\t6.00–8.99% = 3 \\\n",
    "D\t9.00–11.99% = 2\\\n",
    "E\t12.00–14.99% = 1 \\\n",
    "HR\t≥ 15.00% = 0"
   ]
  },
  {
   "cell_type": "code",
   "execution_count": 19,
   "metadata": {},
   "outputs": [
    {
     "data": {
      "text/plain": [
       "B     120145\n",
       "C     116686\n",
       "A     114527\n",
       "AA     66705\n",
       "D      49711\n",
       "E      24933\n",
       "HR      7660\n",
       "Name: prosper_rating, dtype: int64"
      ]
     },
     "execution_count": 19,
     "metadata": {},
     "output_type": "execute_result"
    }
   ],
   "source": [
    "#examine the number of ratings in each category\n",
    "combined['prosper_rating'].value_counts()"
   ]
  },
  {
   "cell_type": "code",
   "execution_count": 20,
   "metadata": {},
   "outputs": [],
   "source": [
    "#convert categorical varaible - prosper rating to numerical ones (to include them in the model)\n",
    "def rating_nu(x):\n",
    "    if x == 'AA':\n",
    "        return 6\n",
    "    elif x == 'A':\n",
    "        return 5\n",
    "    elif x == 'B':\n",
    "        return 4\n",
    "    elif x == 'C':\n",
    "        return 3 \n",
    "    elif x == 'D':\n",
    "        return 2\n",
    "    elif x == 'E':\n",
    "        return 1\n",
    "    elif x == 'HR':\n",
    "        return 0\n",
    "    \n",
    "combined['prosper_rating_nu'] = combined['prosper_rating'].apply(lambda x: rating_nu(x))"
   ]
  },
  {
   "cell_type": "markdown",
   "metadata": {},
   "source": [
    "### FICO score"
   ]
  },
  {
   "cell_type": "code",
   "execution_count": 21,
   "metadata": {},
   "outputs": [
    {
     "data": {
      "text/plain": [
       "700-719    90163\n",
       "680-699    86729\n",
       "720-739    74851\n",
       "660-679    73824\n",
       "740-759    52999\n",
       "640-659    45206\n",
       "760-779    34106\n",
       "780-799    23921\n",
       "800-819    13799\n",
       "820-850     4769\n",
       "Name: TUFicoRange, dtype: int64"
      ]
     },
     "execution_count": 21,
     "metadata": {},
     "output_type": "execute_result"
    }
   ],
   "source": [
    "#examine the number of individuals in each FICO range\n",
    "combined['TUFicoRange'].value_counts()"
   ]
  },
  {
   "cell_type": "code",
   "execution_count": 22,
   "metadata": {},
   "outputs": [],
   "source": [
    "# convert fico score range to numerical ones, 10 is the highest\n",
    "def fico_range_nu(x):\n",
    "    if x == '820-850':\n",
    "        return 10\n",
    "    if x == '800-819':\n",
    "        return 9\n",
    "    elif x == '780-799':\n",
    "        return 8\n",
    "    elif x == '760-779':\n",
    "        return 7\n",
    "    elif x == '740-759':\n",
    "        return 6\n",
    "    elif x == '720-739':\n",
    "        return 5\n",
    "    elif x == '700-719':\n",
    "        return 4\n",
    "    elif x == '680-699':\n",
    "        return 3 \n",
    "    elif x == '660-679':\n",
    "        return 2\n",
    "    elif x == '640-659':\n",
    "        return 1\n",
    "    \n",
    "combined['TUFicoRange_Nu'] = combined['TUFicoRange'].apply(lambda x: fico_range_nu(x))"
   ]
  },
  {
   "cell_type": "code",
   "execution_count": 23,
   "metadata": {},
   "outputs": [],
   "source": [
    "# convert the rest of the categorical variables into numerical ones\n",
    "combined['listing_status_reason'] = combined['listing_status_reason'].astype('category')\n",
    "combined['listing_status_reason_Nu'] = combined['listing_status_reason'].cat.codes\n",
    "combined['partial_funding_indicator'] = combined['partial_funding_indicator'].astype('category')\n",
    "combined['partial_funding_indicator_Nu'] = combined['partial_funding_indicator'].cat.codes\n",
    "combined['employment_status_description'] = combined['employment_status_description'].astype('category')\n",
    "combined['employment_status_description_Nu'] = combined['employment_status_description'].cat.codes\n",
    "combined['occupation'] = combined['occupation'].astype('category')\n",
    "combined['occupation_Nu'] = combined['occupation'].cat.codes\n",
    "combined['investment_type_description'] = combined['investment_type_description'].astype('category')\n",
    "combined['investment_type_description_Nu'] = combined['investment_type_description'].cat.codes\n",
    "combined['CoBorrowerApplication'] = combined['CoBorrowerApplication'].astype('category')\n",
    "combined['CoBorrowerApplication_Nu'] = combined['CoBorrowerApplication'].cat.codes"
   ]
  },
  {
   "cell_type": "code",
   "execution_count": 24,
   "metadata": {},
   "outputs": [
    {
     "name": "stdout",
     "output_type": "stream",
     "text": [
      "(500367, 376)\n"
     ]
    }
   ],
   "source": [
    "print(combined.shape)"
   ]
  },
  {
   "cell_type": "markdown",
   "metadata": {},
   "source": [
    "### Estimated loss rate with defined classes "
   ]
  },
  {
   "cell_type": "code",
   "execution_count": 25,
   "metadata": {},
   "outputs": [],
   "source": [
    "# create 10 elr classes with equal intervals\n",
    "min = 0.002700\n",
    "max = 0.177500\n",
    "bins = (0.177500-0.002700) / 10\n",
    "\n",
    "def elr_class(x):\n",
    "    if x <= min + bins:\n",
    "        return 1 \n",
    "    elif min + bins < x <= min + 2 * bins:\n",
    "        return 2\n",
    "    elif min + 2 * bins < x <= min + 3 * bins:\n",
    "        return 3\n",
    "    elif min + 3 * bins < x <= min + 4 * bins:\n",
    "        return 4\n",
    "    elif min + 4 * bins < x <= min + 5 * bins:\n",
    "        return 5 \n",
    "    elif min + 5 * bins < x <= min + 6 * bins:\n",
    "        return 6\n",
    "    elif min + 6 * bins < x <= min + 7 * bins:\n",
    "        return 7\n",
    "    elif min + 7 * bins < x <= min + 8 * bins:\n",
    "        return 8\n",
    "    elif min + 8 * bins < x <= min + 9 * bins:\n",
    "        return 9\n",
    "    elif min + 9 * bins < x:\n",
    "        return 10\n",
    "\n",
    "combined['elr_bin10_class'] = combined['estimated_loss_rate'].apply(lambda x: elr_class(x))"
   ]
  },
  {
   "cell_type": "code",
   "execution_count": 26,
   "metadata": {},
   "outputs": [],
   "source": [
    "# create 5 elr classes with equal intervals\n",
    "bin5 = (0.177500-0.002700) / 5\n",
    "\n",
    "def elr_class_5(x):\n",
    "    if x <= min + bin5:\n",
    "        return 1 \n",
    "    elif min + bin5 < x <= min + 2 * bin5:\n",
    "        return 2\n",
    "    elif min + 2 * bin5 < x <= min + 3 * bin5:\n",
    "        return 3\n",
    "    elif min + 3 * bin5 < x <= min + 4 * bin5:\n",
    "        return 4\n",
    "    elif min + 4 * bin5 < x:\n",
    "        return 5 \n",
    "\n",
    "\n",
    "combined['elr_bin5_class'] = combined['estimated_loss_rate'].apply(lambda x: elr_class_5(x))"
   ]
  },
  {
   "cell_type": "code",
   "execution_count": 27,
   "metadata": {},
   "outputs": [],
   "source": [
    "bins20 = (0.177500-0.002700) / 20\n",
    "\n",
    "def elr_class20(x):\n",
    "    if x <= min + bins20:\n",
    "        return 1 \n",
    "    elif min + bins20 < x <= min + 2 * bins20:\n",
    "        return 2\n",
    "    elif min + 2 * bins20 < x <= min + 3 * bins20:\n",
    "        return 3\n",
    "    elif min + 3 * bins20 < x <= min + 4 * bins20:\n",
    "        return 4\n",
    "    elif min + 4 * bins20 < x <= min + 5 * bins20:\n",
    "        return 5 \n",
    "    elif min + 5 * bins20 < x <= min + 6 * bins20:\n",
    "        return 6\n",
    "    elif min + 6 * bins20 < x <= min + 7 * bins20:\n",
    "        return 7\n",
    "    elif min + 7 * bins20 < x <= min + 8 * bins20:\n",
    "        return 8\n",
    "    elif min + 8 * bins20 < x <= min + 9 * bins20:\n",
    "        return 9\n",
    "    elif min + 9 * bins20 < x <= min + 10 * bins20:\n",
    "        return 10\n",
    "    elif min + 10 * bins20 < x <= min + 11 * bins20:\n",
    "        return 11\n",
    "    elif min + 11 * bins20 < x <= min + 12 * bins20:\n",
    "        return 12\n",
    "    elif min + 12 * bins20 < x <= min + 13 * bins20:\n",
    "        return 13\n",
    "    elif min + 13 * bins20 < x <= min + 14 * bins20:\n",
    "        return 14\n",
    "    elif min + 14 * bins20 < x <= min + 15 * bins20:\n",
    "        return 15\n",
    "    elif min + 15 * bins20 < x <= min + 16 * bins20:\n",
    "        return 16\n",
    "    elif min + 16 * bins20 < x <= min + 17 * bins20:\n",
    "        return 17\n",
    "    elif min + 17 * bins20 < x <= min + 18 * bins20:\n",
    "        return 18\n",
    "    elif min + 18 * bins20 < x <= min + 19 * bins20:\n",
    "        return 19\n",
    "    elif min + 19 * bins20 < x:\n",
    "        return 20\n",
    "\n",
    "combined['elr_bin20_class'] = combined['estimated_loss_rate'].apply(lambda x: elr_class20(x))"
   ]
  },
  {
   "cell_type": "markdown",
   "metadata": {},
   "source": [
    "### Dealing with special labels (negative values) and drop unnecessary columns\n",
    "only get the numerical data to train the model"
   ]
  },
  {
   "cell_type": "markdown",
   "metadata": {},
   "source": [
    "#### special labels - TransUnion data elements \n",
    "-1\tNo trades this type \\\n",
    "-2\tNot verified in time period \\\n",
    "-3\tNo open trades this type \\\n",
    "-4\tNo trades on file \\\n",
    "-5\tCannot calculate (required data for calculation is missing)\\\n",
    "-6\tNo accounts on file \\\n",
    "-7\tNo trades opened for required time \\\n",
    "999\tNo detected event for “Months Since” attributes (e.g. at36S=999 means no delinquency information) \\\n"
   ]
  },
  {
   "cell_type": "code",
   "execution_count": 28,
   "metadata": {},
   "outputs": [],
   "source": [
    "#create a copy of combined, call it combined2 \n",
    "combined2 = combined.copy()"
   ]
  },
  {
   "cell_type": "code",
   "execution_count": 29,
   "metadata": {},
   "outputs": [],
   "source": [
    "#use listing_start_date as the sorting method, and drop the irrelevant columns \n",
    "combined2 = combined2.drop(['listing_end_date', 'listing_creation_date', 'member_key', 'listing_number'], axis = 1)"
   ]
  },
  {
   "cell_type": "code",
   "execution_count": 30,
   "metadata": {},
   "outputs": [],
   "source": [
    "#replace all the negative special labels by 0\n",
    "combined2_num = combined2._get_numeric_data()\n",
    "combined2_num[combined2_num < 0] = 0"
   ]
  },
  {
   "cell_type": "markdown",
   "metadata": {},
   "source": [
    "### In sample testing - use 01-01-2019 to 02-28-2020"
   ]
  },
  {
   "cell_type": "code",
   "execution_count": 31,
   "metadata": {},
   "outputs": [],
   "source": [
    "# test months from Jan 2019 to Feb 2020 (tried from July 2019 to Feb 2020, the in sample accuracy is below 70%, this sample period gives me 80%)\n",
    "sub1 = combined2.loc[(combined2['listing_start_date'] >= '2019-01-01') & (combined2['listing_start_date'] <= '2020-02-28')]"
   ]
  },
  {
   "cell_type": "code",
   "execution_count": 32,
   "metadata": {},
   "outputs": [
    {
     "name": "stdout",
     "output_type": "stream",
     "text": [
      "(210100, 363)\n"
     ]
    }
   ],
   "source": [
    "#only get numerical numbers to train the model\n",
    "sub1 = sub1.select_dtypes(include=np.number)\n",
    "print(sub1.shape)"
   ]
  },
  {
   "cell_type": "markdown",
   "metadata": {},
   "source": [
    "#### 5 classes elr "
   ]
  },
  {
   "cell_type": "code",
   "execution_count": 220,
   "metadata": {},
   "outputs": [],
   "source": [
    "#define X and y\n",
    "y = sub1['elr_bin5_class']\n",
    "X = sub1.drop(['estimated_loss_rate', 'elr_bin10_class', 'elr_bin5_class'], axis = 1)"
   ]
  },
  {
   "cell_type": "code",
   "execution_count": 35,
   "metadata": {},
   "outputs": [],
   "source": [
    "March_2020 = combined2.loc[(combined2['listing_start_date'] >= '2020-03-01') & (combined2['listing_start_date'] <= '2020-03-31')]"
   ]
  },
  {
   "cell_type": "code",
   "execution_count": 378,
   "metadata": {},
   "outputs": [],
   "source": [
    "elr_March = pd.DataFrame(March_2020['estimated_loss_rate'].value_counts())\n",
    "elr_March.sort_index(inplace = True)"
   ]
  },
  {
   "cell_type": "code",
   "execution_count": 221,
   "metadata": {},
   "outputs": [],
   "source": [
    "#80% of the data randomly selected to train the model, the rest of 20% is to test the model accuracy\n",
    "from sklearn.model_selection import train_test_split\n",
    "X_train, X_test, y_train, y_test = train_test_split(X, y, test_size=0.2, random_state=2021)"
   ]
  },
  {
   "cell_type": "code",
   "execution_count": 222,
   "metadata": {},
   "outputs": [
    {
     "data": {
      "text/plain": [
       "RandomForestClassifier(bootstrap=True, class_weight=None, criterion='entropy',\n",
       "                       max_depth=None, max_features='auto', max_leaf_nodes=None,\n",
       "                       min_impurity_decrease=0.0, min_impurity_split=None,\n",
       "                       min_samples_leaf=1, min_samples_split=2,\n",
       "                       min_weight_fraction_leaf=0.0, n_estimators=10,\n",
       "                       n_jobs=None, oob_score=False, random_state=0, verbose=0,\n",
       "                       warm_start=False)"
      ]
     },
     "execution_count": 222,
     "metadata": {},
     "output_type": "execute_result"
    }
   ],
   "source": [
    "#random forest\n",
    "from sklearn.ensemble import RandomForestClassifier\n",
    "rfc = RandomForestClassifier(random_state=0, \n",
    "                             criterion='entropy') # Use entropy criterion to define feature importance\n",
    "\n",
    "# fit the model using training data\n",
    "rfc.fit(X_train, y_train)"
   ]
  },
  {
   "cell_type": "code",
   "execution_count": 224,
   "metadata": {},
   "outputs": [],
   "source": [
    "y_test_predicted = rfc.predict(X_test)"
   ]
  },
  {
   "cell_type": "code",
   "execution_count": 225,
   "metadata": {},
   "outputs": [
    {
     "data": {
      "text/plain": [
       "0.988886244645407"
      ]
     },
     "execution_count": 225,
     "metadata": {},
     "output_type": "execute_result"
    }
   ],
   "source": [
    "from sklearn.metrics import accuracy_score\n",
    "accuracy_score(y_test, y_test_predicted)"
   ]
  },
  {
   "cell_type": "markdown",
   "metadata": {},
   "source": [
    "#### 10 classes elr"
   ]
  },
  {
   "cell_type": "code",
   "execution_count": 318,
   "metadata": {},
   "outputs": [],
   "source": [
    "#define X and y\n",
    "y_10 = sub1['elr_bin10_class']\n",
    "X_10 = sub1.drop(['estimated_loss_rate', 'elr_bin10_class', 'elr_bin5_class'], axis = 1)"
   ]
  },
  {
   "cell_type": "code",
   "execution_count": 319,
   "metadata": {},
   "outputs": [],
   "source": [
    "from sklearn.model_selection import train_test_split\n",
    "X_train_10, X_test_10, y_train_10, y_test_10 = train_test_split(X_10, y_10, test_size=0.2, random_state=2021)"
   ]
  },
  {
   "cell_type": "code",
   "execution_count": 320,
   "metadata": {},
   "outputs": [
    {
     "data": {
      "text/plain": [
       "RandomForestClassifier(bootstrap=True, class_weight=None, criterion='entropy',\n",
       "                       max_depth=None, max_features='auto', max_leaf_nodes=None,\n",
       "                       min_impurity_decrease=0.0, min_impurity_split=None,\n",
       "                       min_samples_leaf=1, min_samples_split=2,\n",
       "                       min_weight_fraction_leaf=0.0, n_estimators=10,\n",
       "                       n_jobs=None, oob_score=False, random_state=0, verbose=0,\n",
       "                       warm_start=False)"
      ]
     },
     "execution_count": 320,
     "metadata": {},
     "output_type": "execute_result"
    }
   ],
   "source": [
    "from sklearn.ensemble import RandomForestClassifier\n",
    "rfc_10 = RandomForestClassifier(random_state=0, \n",
    "                             criterion='entropy') # Use entropy criterion to define feature importance\n",
    "\n",
    "# fit the model using training data\n",
    "rfc_10.fit(X_train_10, y_train_10)"
   ]
  },
  {
   "cell_type": "code",
   "execution_count": 321,
   "metadata": {},
   "outputs": [],
   "source": [
    "y_test_10_predicted = rfc_10.predict(X_test_10)"
   ]
  },
  {
   "cell_type": "code",
   "execution_count": 324,
   "metadata": {},
   "outputs": [
    {
     "data": {
      "text/plain": [
       "0.991432651118515"
      ]
     },
     "execution_count": 324,
     "metadata": {},
     "output_type": "execute_result"
    }
   ],
   "source": [
    "from sklearn.metrics import accuracy_score\n",
    "accuracy_score(y_test_10, y_test_10_predicted)"
   ]
  },
  {
   "cell_type": "markdown",
   "metadata": {},
   "source": [
    "#### 20 classes elr"
   ]
  },
  {
   "cell_type": "code",
   "execution_count": 312,
   "metadata": {},
   "outputs": [],
   "source": [
    "#define X and y\n",
    "y_20 = sub1['elr_bin20_class']\n",
    "X_20 = sub1.drop(['estimated_loss_rate', 'elr_bin10_class', 'elr_bin5_class', 'elr_bin20_class'], axis = 1)"
   ]
  },
  {
   "cell_type": "code",
   "execution_count": 313,
   "metadata": {},
   "outputs": [],
   "source": [
    "from sklearn.model_selection import train_test_split\n",
    "X_train_20, X_test_20, y_train_20, y_test_20 = train_test_split(X_20, y_20, test_size=0.2, random_state=2021)"
   ]
  },
  {
   "cell_type": "code",
   "execution_count": 307,
   "metadata": {},
   "outputs": [
    {
     "data": {
      "text/plain": [
       "RandomForestClassifier(bootstrap=True, class_weight=None, criterion='entropy',\n",
       "                       max_depth=None, max_features='auto', max_leaf_nodes=None,\n",
       "                       min_impurity_decrease=0.0, min_impurity_split=None,\n",
       "                       min_samples_leaf=1, min_samples_split=2,\n",
       "                       min_weight_fraction_leaf=0.0, n_estimators=10,\n",
       "                       n_jobs=None, oob_score=False, random_state=0, verbose=0,\n",
       "                       warm_start=False)"
      ]
     },
     "execution_count": 307,
     "metadata": {},
     "output_type": "execute_result"
    }
   ],
   "source": [
    "#random forest\n",
    "from sklearn.ensemble import RandomForestClassifier\n",
    "rfc_20 = RandomForestClassifier(random_state=0, \n",
    "                             criterion='entropy') # Use entropy criterion to define feature importance\n",
    "\n",
    "# fit the model using training data\n",
    "rfc_20.fit(X_train_20, y_train_20)"
   ]
  },
  {
   "cell_type": "code",
   "execution_count": 316,
   "metadata": {},
   "outputs": [],
   "source": [
    "y_test_20_predicted = rfc_20.predict(X_test_20)"
   ]
  },
  {
   "cell_type": "code",
   "execution_count": 317,
   "metadata": {},
   "outputs": [
    {
     "data": {
      "text/plain": [
       "0.9465492622560685"
      ]
     },
     "execution_count": 317,
     "metadata": {},
     "output_type": "execute_result"
    }
   ],
   "source": [
    "accuracy_score(y_test_20, y_test_20_predicted)"
   ]
  },
  {
   "cell_type": "markdown",
   "metadata": {},
   "source": [
    "#### Note\n",
    "As you increase the number of classes to 20, the in sample accuracy decreased dramatically. I don't recommend to have more than 10 classes."
   ]
  },
  {
   "cell_type": "markdown",
   "metadata": {},
   "source": [
    "### Out of sample testing"
   ]
  },
  {
   "cell_type": "code",
   "execution_count": 381,
   "metadata": {},
   "outputs": [],
   "source": [
    "# use October 2019 to Feb 2020 as training set gives me the best accuracy prediction\n",
    "sub2_train = combined2.loc[(combined2['listing_start_date'] >= '2019-10-01') & (combined2['listing_start_date'] <= '2020-02-28')]\n",
    "sub2_test = combined2.loc[(combined2['listing_start_date'] >= '2020-03-01') & (combined2['listing_start_date'] <= '2020-03-31')]"
   ]
  },
  {
   "cell_type": "code",
   "execution_count": 382,
   "metadata": {},
   "outputs": [
    {
     "name": "stdout",
     "output_type": "stream",
     "text": [
      "(60854, 363)\n",
      "(11034, 363)\n"
     ]
    }
   ],
   "source": [
    "sub2_train = sub2_train.select_dtypes(include=np.number)\n",
    "sub2_test = sub2_test.select_dtypes(include=np.number)\n",
    "print(sub2_train.shape)\n",
    "print(sub2_test.shape)"
   ]
  },
  {
   "cell_type": "markdown",
   "metadata": {},
   "source": [
    "### 5 classes out of sample testing"
   ]
  },
  {
   "cell_type": "code",
   "execution_count": 375,
   "metadata": {},
   "outputs": [],
   "source": [
    "#define X and y\n",
    "X_train_sub2_bin5 = sub2_train.drop(['estimated_loss_rate', 'elr_bin10_class', 'elr_bin5_class', 'elr_bin20_class'], axis = 1)\n",
    "y_train_sub2_bin5 = sub2_train['elr_bin5_class']\n",
    "X_test_sub2_bin5 = sub2_test.drop(['estimated_loss_rate', 'elr_bin10_class', 'elr_bin5_class', 'elr_bin20_class'], axis = 1)\n",
    "y_test_sub2_bin5 = sub2_test['elr_bin5_class']"
   ]
  },
  {
   "cell_type": "code",
   "execution_count": 376,
   "metadata": {},
   "outputs": [
    {
     "data": {
      "text/plain": [
       "RandomForestClassifier(bootstrap=True, class_weight=None, criterion='entropy',\n",
       "                       max_depth=None, max_features='auto', max_leaf_nodes=None,\n",
       "                       min_impurity_decrease=0.0, min_impurity_split=None,\n",
       "                       min_samples_leaf=1, min_samples_split=2,\n",
       "                       min_weight_fraction_leaf=0.0, n_estimators=10,\n",
       "                       n_jobs=None, oob_score=False, random_state=0, verbose=0,\n",
       "                       warm_start=False)"
      ]
     },
     "execution_count": 376,
     "metadata": {},
     "output_type": "execute_result"
    }
   ],
   "source": [
    "# random forest \n",
    "from sklearn.ensemble import RandomForestClassifier\n",
    "rfc_out_5 = RandomForestClassifier(random_state=0, \n",
    "                             criterion='entropy') # Use entropy criterion to define feature importance\n",
    "\n",
    "# Train the classifier\n",
    "rfc_out_5.fit(X_train_sub2_bin5, y_train_sub2_bin5)"
   ]
  },
  {
   "cell_type": "code",
   "execution_count": 389,
   "metadata": {},
   "outputs": [],
   "source": [
    "y_test_sub2_bin5_hat = rfc_out_5.predict(X_test_sub2_bin5)"
   ]
  },
  {
   "cell_type": "code",
   "execution_count": 394,
   "metadata": {},
   "outputs": [],
   "source": [
    "elr_5 = pd.DataFrame({'elr_bin5_class': y_test_sub2_bin5, 'elr_bin5_class_hat': y_test_sub2_bin5_hat})"
   ]
  },
  {
   "cell_type": "code",
   "execution_count": null,
   "metadata": {},
   "outputs": [],
   "source": []
  },
  {
   "cell_type": "code",
   "execution_count": 333,
   "metadata": {},
   "outputs": [
    {
     "name": "stdout",
     "output_type": "stream",
     "text": [
      "The out of sample accuracy is: 79.55605948279621 %\n"
     ]
    }
   ],
   "source": [
    "# train - from Oct 2019 to Feb 2020, test - from March 2020 to May 2020\n",
    "# even lower - there must be some model adjustment\n",
    "print('The out of sample accuracy is:', accuracy_score(y_test_sub2_bin5, y_test_sub2_bin5_hat) *100,'%')"
   ]
  },
  {
   "cell_type": "markdown",
   "metadata": {},
   "source": [
    "#### Note: test with different train and test period\n",
    "The prediction power increased A LOT if only to predict March (indicate a model change after the pandemic) \\\n",
    "The prediction power is even more if you predict Feb 2020 (without including it in the training sample) \\\n",
    "Another indication that the model changed in March 2020"
   ]
  },
  {
   "cell_type": "code",
   "execution_count": 286,
   "metadata": {},
   "outputs": [
    {
     "name": "stdout",
     "output_type": "stream",
     "text": [
      "The out of sample accuracy is: 88.68044226934929 %\n"
     ]
    }
   ],
   "source": [
    "# train - from Oct 2019 to Feb 2020, test - March 2020\n",
    "# accuracy decreased...another sign of change of model\n",
    "print('The out of sample accuracy is:', accuracy_score(y_test_sub2_bin5, y_test_sub2_bin5_hat) *100,'%')"
   ]
  },
  {
   "cell_type": "code",
   "execution_count": 342,
   "metadata": {},
   "outputs": [
    {
     "name": "stdout",
     "output_type": "stream",
     "text": [
      "The out of sample accuracy is: 94.88299182622326 %\n"
     ]
    }
   ],
   "source": [
    "# train - from Oct 2019 to Jan 2020, test - Feb 2020\n",
    "# even lower - there must be some model adjustment\n",
    "print('The out of sample accuracy is:', accuracy_score(y_test_sub2_bin5, y_test_sub2_bin5_hat) *100,'%')"
   ]
  },
  {
   "cell_type": "code",
   "execution_count": null,
   "metadata": {},
   "outputs": [],
   "source": []
  },
  {
   "cell_type": "markdown",
   "metadata": {},
   "source": [
    "### 10 classes out of sample results"
   ]
  },
  {
   "cell_type": "code",
   "execution_count": 396,
   "metadata": {},
   "outputs": [],
   "source": [
    "#define X and y\n",
    "X_train_sub2_bin10 = sub2_train.drop(['estimated_loss_rate', 'elr_bin10_class', 'elr_bin5_class', 'elr_bin20_class'], axis = 1)\n",
    "y_train_sub2_bin10 = sub2_train['elr_bin10_class']\n",
    "X_test_sub2_bin10 = sub2_test.drop(['estimated_loss_rate', 'elr_bin10_class', 'elr_bin5_class', 'elr_bin20_class'], axis = 1)\n",
    "y_test_sub2_bin10 = sub2_test['elr_bin10_class']"
   ]
  },
  {
   "cell_type": "code",
   "execution_count": 397,
   "metadata": {},
   "outputs": [
    {
     "data": {
      "text/plain": [
       "RandomForestClassifier(bootstrap=True, class_weight=None, criterion='entropy',\n",
       "                       max_depth=None, max_features='auto', max_leaf_nodes=None,\n",
       "                       min_impurity_decrease=0.0, min_impurity_split=None,\n",
       "                       min_samples_leaf=1, min_samples_split=2,\n",
       "                       min_weight_fraction_leaf=0.0, n_estimators=10,\n",
       "                       n_jobs=None, oob_score=False, random_state=0, verbose=0,\n",
       "                       warm_start=False)"
      ]
     },
     "execution_count": 397,
     "metadata": {},
     "output_type": "execute_result"
    }
   ],
   "source": [
    "# random forest \n",
    "from sklearn.ensemble import RandomForestClassifier\n",
    "rfc_out_10 = RandomForestClassifier(random_state=0, \n",
    "                             criterion='entropy') # Use entropy criterion to define feature importance\n",
    "\n",
    "# Train the classifier\n",
    "rfc_out_10.fit(X_train_sub2_bin10, y_train_sub2_bin10)"
   ]
  },
  {
   "cell_type": "code",
   "execution_count": 398,
   "metadata": {},
   "outputs": [],
   "source": [
    "y_test_sub2_bin10_hat = rfc_out_10.predict(X_test_sub2_bin10)"
   ]
  },
  {
   "cell_type": "code",
   "execution_count": 400,
   "metadata": {},
   "outputs": [
    {
     "data": {
      "text/html": [
       "<div>\n",
       "<style scoped>\n",
       "    .dataframe tbody tr th:only-of-type {\n",
       "        vertical-align: middle;\n",
       "    }\n",
       "\n",
       "    .dataframe tbody tr th {\n",
       "        vertical-align: top;\n",
       "    }\n",
       "\n",
       "    .dataframe thead th {\n",
       "        text-align: right;\n",
       "    }\n",
       "</style>\n",
       "<table border=\"1\" class=\"dataframe\">\n",
       "  <thead>\n",
       "    <tr style=\"text-align: right;\">\n",
       "      <th></th>\n",
       "      <th>elr_bin10_class</th>\n",
       "      <th>elr_bin10_class_hat</th>\n",
       "    </tr>\n",
       "  </thead>\n",
       "  <tbody>\n",
       "    <tr>\n",
       "      <td>196</td>\n",
       "      <td>3</td>\n",
       "      <td>3</td>\n",
       "    </tr>\n",
       "    <tr>\n",
       "      <td>1453</td>\n",
       "      <td>3</td>\n",
       "      <td>3</td>\n",
       "    </tr>\n",
       "    <tr>\n",
       "      <td>189963</td>\n",
       "      <td>3</td>\n",
       "      <td>3</td>\n",
       "    </tr>\n",
       "    <tr>\n",
       "      <td>190000</td>\n",
       "      <td>6</td>\n",
       "      <td>7</td>\n",
       "    </tr>\n",
       "    <tr>\n",
       "      <td>190001</td>\n",
       "      <td>3</td>\n",
       "      <td>3</td>\n",
       "    </tr>\n",
       "  </tbody>\n",
       "</table>\n",
       "</div>"
      ],
      "text/plain": [
       "        elr_bin10_class  elr_bin10_class_hat\n",
       "196                   3                    3\n",
       "1453                  3                    3\n",
       "189963                3                    3\n",
       "190000                6                    7\n",
       "190001                3                    3"
      ]
     },
     "execution_count": 400,
     "metadata": {},
     "output_type": "execute_result"
    }
   ],
   "source": [
    "elr_10 = pd.DataFrame({'elr_bin10_class': y_test_sub2_bin10, 'elr_bin10_class_hat': y_test_sub2_bin10_hat})\n",
    "elr_10.head()"
   ]
  },
  {
   "cell_type": "code",
   "execution_count": 356,
   "metadata": {},
   "outputs": [
    {
     "name": "stdout",
     "output_type": "stream",
     "text": [
      "The out of sample accuracy is: 62.49618420478827 %\n"
     ]
    }
   ],
   "source": [
    "# train - from Oct 2019 to Feb 2020, test - from March 2020 to May 2020\n",
    "print('The out of sample accuracy is:', accuracy_score(y_test_sub2_bin10, y_test_sub2_bin10_hat) *100,'%')"
   ]
  },
  {
   "cell_type": "markdown",
   "metadata": {},
   "source": [
    "#### Note: test with different time period to see adjustment of model "
   ]
  },
  {
   "cell_type": "code",
   "execution_count": 362,
   "metadata": {},
   "outputs": [
    {
     "name": "stdout",
     "output_type": "stream",
     "text": [
      "The out of sample accuracy is: 81.32137030995106 %\n"
     ]
    }
   ],
   "source": [
    "# train - from Oct 2019 to Feb 2020, test - March 2020\n",
    "# prediction power increases\n",
    "print('The out of sample accuracy is:', accuracy_score(y_test_sub2_bin10, y_test_sub2_bin10_hat) *100,'%')"
   ]
  },
  {
   "cell_type": "code",
   "execution_count": 368,
   "metadata": {},
   "outputs": [
    {
     "name": "stdout",
     "output_type": "stream",
     "text": [
      "The out of sample accuracy is: 92.65479789497256 %\n"
     ]
    }
   ],
   "source": [
    "# train - from Oct 2019 to Jan 2020, predict Feb 2020\n",
    "# the accuracy is very high compare to March 2020\n",
    "# indicate a change of model in March 2020\n",
    "print('The out of sample accuracy is:', accuracy_score(y_test_sub2_bin10, y_test_sub2_bin10_hat) *100,'%')"
   ]
  },
  {
   "cell_type": "code",
   "execution_count": null,
   "metadata": {},
   "outputs": [],
   "source": []
  },
  {
   "cell_type": "code",
   "execution_count": 369,
   "metadata": {},
   "outputs": [],
   "source": [
    "observation = combined2.loc[(combined2['listing_start_date'] >= '2020-03-01') & (combined2['listing_start_date'] <= '2020-05-31')]"
   ]
  },
  {
   "cell_type": "code",
   "execution_count": 391,
   "metadata": {},
   "outputs": [],
   "source": [
    "observation = observation[['listing_start_date', 'estimated_loss_rate', 'TUFicoRange_Nu', 'prosper_rating_nu']]"
   ]
  },
  {
   "cell_type": "code",
   "execution_count": 395,
   "metadata": {},
   "outputs": [
    {
     "data": {
      "text/html": [
       "<div>\n",
       "<style scoped>\n",
       "    .dataframe tbody tr th:only-of-type {\n",
       "        vertical-align: middle;\n",
       "    }\n",
       "\n",
       "    .dataframe tbody tr th {\n",
       "        vertical-align: top;\n",
       "    }\n",
       "\n",
       "    .dataframe thead th {\n",
       "        text-align: right;\n",
       "    }\n",
       "</style>\n",
       "<table border=\"1\" class=\"dataframe\">\n",
       "  <thead>\n",
       "    <tr style=\"text-align: right;\">\n",
       "      <th></th>\n",
       "      <th>listing_start_date</th>\n",
       "      <th>estimated_loss_rate</th>\n",
       "      <th>TUFicoRange_Nu</th>\n",
       "      <th>prosper_rating_nu</th>\n",
       "      <th>elr_bin5_class</th>\n",
       "      <th>elr_bin5_class_hat</th>\n",
       "    </tr>\n",
       "  </thead>\n",
       "  <tbody>\n",
       "    <tr>\n",
       "      <td>196</td>\n",
       "      <td>2020-03-12</td>\n",
       "      <td>0.0434</td>\n",
       "      <td>6</td>\n",
       "      <td>4</td>\n",
       "      <td>2</td>\n",
       "      <td>2</td>\n",
       "    </tr>\n",
       "    <tr>\n",
       "      <td>1453</td>\n",
       "      <td>2020-03-02</td>\n",
       "      <td>0.0389</td>\n",
       "      <td>5</td>\n",
       "      <td>5</td>\n",
       "      <td>2</td>\n",
       "      <td>2</td>\n",
       "    </tr>\n",
       "    <tr>\n",
       "      <td>189963</td>\n",
       "      <td>2020-03-18</td>\n",
       "      <td>0.0449</td>\n",
       "      <td>5</td>\n",
       "      <td>4</td>\n",
       "      <td>2</td>\n",
       "      <td>2</td>\n",
       "    </tr>\n",
       "    <tr>\n",
       "      <td>190000</td>\n",
       "      <td>2020-03-05</td>\n",
       "      <td>0.1075</td>\n",
       "      <td>4</td>\n",
       "      <td>2</td>\n",
       "      <td>3</td>\n",
       "      <td>4</td>\n",
       "    </tr>\n",
       "    <tr>\n",
       "      <td>190001</td>\n",
       "      <td>2020-03-23</td>\n",
       "      <td>0.0449</td>\n",
       "      <td>4</td>\n",
       "      <td>4</td>\n",
       "      <td>2</td>\n",
       "      <td>2</td>\n",
       "    </tr>\n",
       "  </tbody>\n",
       "</table>\n",
       "</div>"
      ],
      "text/plain": [
       "       listing_start_date  estimated_loss_rate  TUFicoRange_Nu  \\\n",
       "196            2020-03-12               0.0434               6   \n",
       "1453           2020-03-02               0.0389               5   \n",
       "189963         2020-03-18               0.0449               5   \n",
       "190000         2020-03-05               0.1075               4   \n",
       "190001         2020-03-23               0.0449               4   \n",
       "\n",
       "        prosper_rating_nu  elr_bin5_class  elr_bin5_class_hat  \n",
       "196                     4               2                   2  \n",
       "1453                    5               2                   2  \n",
       "189963                  4               2                   2  \n",
       "190000                  2               3                   4  \n",
       "190001                  4               2                   2  "
      ]
     },
     "execution_count": 395,
     "metadata": {},
     "output_type": "execute_result"
    }
   ],
   "source": [
    "observation1 = pd.merge(observation, elr_5, left_index = True, right_index = True)\n",
    "observation1.head()"
   ]
  },
  {
   "cell_type": "code",
   "execution_count": 403,
   "metadata": {},
   "outputs": [],
   "source": [
    "observation2 = pd.merge(observation1, elr_10, left_index = True, right_index = True)\n",
    "observation2 = observation2.sort_values(by = 'listing_start_date')"
   ]
  },
  {
   "cell_type": "code",
   "execution_count": 404,
   "metadata": {},
   "outputs": [
    {
     "data": {
      "text/html": [
       "<div>\n",
       "<style scoped>\n",
       "    .dataframe tbody tr th:only-of-type {\n",
       "        vertical-align: middle;\n",
       "    }\n",
       "\n",
       "    .dataframe tbody tr th {\n",
       "        vertical-align: top;\n",
       "    }\n",
       "\n",
       "    .dataframe thead th {\n",
       "        text-align: right;\n",
       "    }\n",
       "</style>\n",
       "<table border=\"1\" class=\"dataframe\">\n",
       "  <thead>\n",
       "    <tr style=\"text-align: right;\">\n",
       "      <th></th>\n",
       "      <th>listing_start_date</th>\n",
       "      <th>estimated_loss_rate</th>\n",
       "      <th>TUFicoRange_Nu</th>\n",
       "      <th>prosper_rating_nu</th>\n",
       "      <th>elr_bin5_class</th>\n",
       "      <th>elr_bin5_class_hat</th>\n",
       "      <th>elr_bin10_class</th>\n",
       "      <th>elr_bin10_class_hat</th>\n",
       "    </tr>\n",
       "  </thead>\n",
       "  <tbody>\n",
       "    <tr>\n",
       "      <td>221661</td>\n",
       "      <td>2020-03-01</td>\n",
       "      <td>0.0424</td>\n",
       "      <td>3</td>\n",
       "      <td>4</td>\n",
       "      <td>2</td>\n",
       "      <td>2</td>\n",
       "      <td>3</td>\n",
       "      <td>3</td>\n",
       "    </tr>\n",
       "    <tr>\n",
       "      <td>195284</td>\n",
       "      <td>2020-03-01</td>\n",
       "      <td>0.0082</td>\n",
       "      <td>8</td>\n",
       "      <td>6</td>\n",
       "      <td>1</td>\n",
       "      <td>1</td>\n",
       "      <td>1</td>\n",
       "      <td>1</td>\n",
       "    </tr>\n",
       "    <tr>\n",
       "      <td>195283</td>\n",
       "      <td>2020-03-01</td>\n",
       "      <td>0.1475</td>\n",
       "      <td>1</td>\n",
       "      <td>1</td>\n",
       "      <td>5</td>\n",
       "      <td>5</td>\n",
       "      <td>9</td>\n",
       "      <td>9</td>\n",
       "    </tr>\n",
       "    <tr>\n",
       "      <td>195282</td>\n",
       "      <td>2020-03-01</td>\n",
       "      <td>0.0539</td>\n",
       "      <td>3</td>\n",
       "      <td>4</td>\n",
       "      <td>2</td>\n",
       "      <td>2</td>\n",
       "      <td>3</td>\n",
       "      <td>4</td>\n",
       "    </tr>\n",
       "    <tr>\n",
       "      <td>195280</td>\n",
       "      <td>2020-03-01</td>\n",
       "      <td>0.0724</td>\n",
       "      <td>2</td>\n",
       "      <td>3</td>\n",
       "      <td>2</td>\n",
       "      <td>3</td>\n",
       "      <td>4</td>\n",
       "      <td>4</td>\n",
       "    </tr>\n",
       "  </tbody>\n",
       "</table>\n",
       "</div>"
      ],
      "text/plain": [
       "       listing_start_date  estimated_loss_rate  TUFicoRange_Nu  \\\n",
       "221661         2020-03-01               0.0424               3   \n",
       "195284         2020-03-01               0.0082               8   \n",
       "195283         2020-03-01               0.1475               1   \n",
       "195282         2020-03-01               0.0539               3   \n",
       "195280         2020-03-01               0.0724               2   \n",
       "\n",
       "        prosper_rating_nu  elr_bin5_class  elr_bin5_class_hat  \\\n",
       "221661                  4               2                   2   \n",
       "195284                  6               1                   1   \n",
       "195283                  1               5                   5   \n",
       "195282                  4               2                   2   \n",
       "195280                  3               2                   3   \n",
       "\n",
       "        elr_bin10_class  elr_bin10_class_hat  \n",
       "221661                3                    3  \n",
       "195284                1                    1  \n",
       "195283                9                    9  \n",
       "195282                3                    4  \n",
       "195280                4                    4  "
      ]
     },
     "execution_count": 404,
     "metadata": {},
     "output_type": "execute_result"
    }
   ],
   "source": [
    "observation2.head()"
   ]
  },
  {
   "cell_type": "code",
   "execution_count": 405,
   "metadata": {},
   "outputs": [
    {
     "data": {
      "text/plain": [
       "(11034, 8)"
      ]
     },
     "execution_count": 405,
     "metadata": {},
     "output_type": "execute_result"
    }
   ],
   "source": [
    "observation2.shape"
   ]
  },
  {
   "cell_type": "code",
   "execution_count": 406,
   "metadata": {},
   "outputs": [],
   "source": [
    "observation2.to_excel('March_May_2020_predictions.xlsx')"
   ]
  },
  {
   "cell_type": "markdown",
   "metadata": {},
   "source": [
    "### dataset exploration - interesting findings (sub1)"
   ]
  },
  {
   "cell_type": "code",
   "execution_count": 63,
   "metadata": {},
   "outputs": [
    {
     "data": {
      "text/plain": [
       "count    2256.000000\n",
       "mean        0.055182\n",
       "std         0.033165\n",
       "min         0.002700\n",
       "25%         0.032400\n",
       "50%         0.049400\n",
       "75%         0.074900\n",
       "max         0.177500\n",
       "Name: estimated_loss_rate, dtype: float64"
      ]
     },
     "execution_count": 63,
     "metadata": {},
     "output_type": "execute_result"
    }
   ],
   "source": [
    "# examine the estimated loss rate for thoese who are not funded at all\n",
    "zero_fund = sub1.loc[sub1['percent_funded'] == 0]\n",
    "elr_zero_fund = zero_fund['estimated_loss_rate']\n",
    "elr_zero_fund.describe()"
   ]
  },
  {
   "cell_type": "code",
   "execution_count": 64,
   "metadata": {},
   "outputs": [
    {
     "data": {
      "text/plain": [
       "count    207215.000000\n",
       "mean          0.057953\n",
       "std           0.034466\n",
       "min           0.002700\n",
       "25%           0.032400\n",
       "50%           0.052400\n",
       "75%           0.077400\n",
       "max           0.177500\n",
       "Name: estimated_loss_rate, dtype: float64"
      ]
     },
     "execution_count": 64,
     "metadata": {},
     "output_type": "execute_result"
    }
   ],
   "source": [
    "# examine the estimated loss rate for thoese who are funded 100%\n",
    "total_fund = sub1.loc[sub1['percent_funded'] == 100]\n",
    "elr_total_fund = total_fund['estimated_loss_rate']\n",
    "elr_total_fund.describe()"
   ]
  },
  {
   "cell_type": "code",
   "execution_count": 65,
   "metadata": {},
   "outputs": [
    {
     "data": {
      "text/plain": [
       "count    629.000000\n",
       "mean       0.085997\n",
       "std        0.047754\n",
       "min        0.002700\n",
       "25%        0.047400\n",
       "50%        0.079900\n",
       "75%        0.122500\n",
       "max        0.177500\n",
       "Name: estimated_loss_rate, dtype: float64"
      ]
     },
     "execution_count": 65,
     "metadata": {},
     "output_type": "execute_result"
    }
   ],
   "source": [
    "# examine the estimated loss rate for thoese who are only partially funded\n",
    "partial_fund = sub1.loc[(sub1['percent_funded'] != 100) & (sub1['percent_funded'] != 0)]\n",
    "elr_partial_fund = partial_fund['estimated_loss_rate']\n",
    "elr_partial_fund.describe()"
   ]
  },
  {
   "cell_type": "markdown",
   "metadata": {},
   "source": [
    "### Random Forest Feature selections - may be used for dimensional reduction "
   ]
  },
  {
   "cell_type": "code",
   "execution_count": 67,
   "metadata": {},
   "outputs": [],
   "source": [
    "feature_names = X.columns.tolist()"
   ]
  },
  {
   "cell_type": "code",
   "execution_count": 68,
   "metadata": {},
   "outputs": [],
   "source": [
    "feature_ranks = pd.DataFrame({'feature_names':feature_names,'scores': rfc.feature_importances_}, columns = ['feature_names', 'scores'])"
   ]
  },
  {
   "cell_type": "code",
   "execution_count": 69,
   "metadata": {},
   "outputs": [],
   "source": [
    "feature_ranks = feature_ranks.sort_values(by = ['scores'], ascending = False)\n",
    "feature_ranks.set_index('feature_names', inplace = True)"
   ]
  },
  {
   "cell_type": "code",
   "execution_count": 72,
   "metadata": {},
   "outputs": [
    {
     "data": {
      "text/plain": [
       "<matplotlib.axes._subplots.AxesSubplot at 0x12276d6d0>"
      ]
     },
     "execution_count": 72,
     "metadata": {},
     "output_type": "execute_result"
    },
    {
     "data": {
      "image/png": "[encoded data removed]",
      "text/plain": [
       "<Figure size 1080x864 with 1 Axes>"
      ]
     },
     "metadata": {
      "needs_background": "light"
     },
     "output_type": "display_data"
    }
   ],
   "source": [
    "# visualize the top 50 importance features \n",
    "import matplotlib.pyplot as plt\n",
    "feature_ranks.head(50).plot(kind = 'barh', figsize = (15,12))"
   ]
  }
 ],
 "metadata": {
  "kernelspec": {
   "display_name": "Python 3",
   "language": "python",
   "name": "python3"
  },
  "language_info": {
   "codemirror_mode": {
    "name": "ipython",
    "version": 3
   },
   "file_extension": ".py",
   "mimetype": "text/x-python",
   "name": "python",
   "nbconvert_exporter": "python",
   "pygments_lexer": "ipython3",
   "version": "3.7.4"
  }
 },
 "nbformat": 4,
 "nbformat_minor": 2
}
